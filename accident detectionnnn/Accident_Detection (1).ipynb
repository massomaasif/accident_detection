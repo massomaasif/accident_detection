{
  "nbformat": 4,
  "nbformat_minor": 0,
  "metadata": {
    "colab": {
      "provenance": [],
      "gpuType": "T4"
    },
    "kernelspec": {
      "name": "python3",
      "display_name": "Python 3"
    },
    "language_info": {
      "name": "python"
    },
    "accelerator": "GPU"
  },
  "cells": [
    {
      "cell_type": "code",
      "execution_count": null,
      "metadata": {
        "id": "3QD8sgtgv89x"
      },
      "outputs": [],
      "source": [
        "import zipfile\n",
        "\n",
        "zip_path = '/content/drive/MyDrive/Accident detection model.v2i.yolov11.zip'  # Update with your file path\n",
        "extract_path = '/content/'\n",
        "\n",
        "with zipfile.ZipFile(zip_path, 'r') as zip_ref:\n",
        "    zip_ref.extractall(extract_path)\n"
      ]
    },
    {
      "cell_type": "code",
      "source": [
        "from google.colab import drive\n",
        "drive.mount('/content/drive')"
      ],
      "metadata": {
        "colab": {
          "base_uri": "https://localhost:8080/"
        },
        "id": "YAggpUb0U6Z7",
        "outputId": "ce6aa7b8-cc12-436a-9d10-545db8288e34"
      },
      "execution_count": null,
      "outputs": [
        {
          "output_type": "stream",
          "name": "stdout",
          "text": [
            "Mounted at /content/drive\n"
          ]
        }
      ]
    },
    {
      "cell_type": "code",
      "source": [
        "!pip install ultralytics"
      ],
      "metadata": {
        "colab": {
          "base_uri": "https://localhost:8080/"
        },
        "id": "7dhWDaLAwvYK",
        "outputId": "97eda142-9b69-4660-872f-6e1dce24bf63"
      },
      "execution_count": 1,
      "outputs": [
        {
          "output_type": "stream",
          "name": "stdout",
          "text": [
            "Collecting ultralytics\n",
            "  Downloading ultralytics-8.3.34-py3-none-any.whl.metadata (35 kB)\n",
            "Requirement already satisfied: numpy>=1.23.0 in /usr/local/lib/python3.10/dist-packages (from ultralytics) (1.26.4)\n",
            "Requirement already satisfied: matplotlib>=3.3.0 in /usr/local/lib/python3.10/dist-packages (from ultralytics) (3.8.0)\n",
            "Requirement already satisfied: opencv-python>=4.6.0 in /usr/local/lib/python3.10/dist-packages (from ultralytics) (4.10.0.84)\n",
            "Requirement already satisfied: pillow>=7.1.2 in /usr/local/lib/python3.10/dist-packages (from ultralytics) (11.0.0)\n",
            "Requirement already satisfied: pyyaml>=5.3.1 in /usr/local/lib/python3.10/dist-packages (from ultralytics) (6.0.2)\n",
            "Requirement already satisfied: requests>=2.23.0 in /usr/local/lib/python3.10/dist-packages (from ultralytics) (2.32.3)\n",
            "Requirement already satisfied: scipy>=1.4.1 in /usr/local/lib/python3.10/dist-packages (from ultralytics) (1.13.1)\n",
            "Requirement already satisfied: torch>=1.8.0 in /usr/local/lib/python3.10/dist-packages (from ultralytics) (2.5.1+cu121)\n",
            "Requirement already satisfied: torchvision>=0.9.0 in /usr/local/lib/python3.10/dist-packages (from ultralytics) (0.20.1+cu121)\n",
            "Requirement already satisfied: tqdm>=4.64.0 in /usr/local/lib/python3.10/dist-packages (from ultralytics) (4.66.6)\n",
            "Requirement already satisfied: psutil in /usr/local/lib/python3.10/dist-packages (from ultralytics) (5.9.5)\n",
            "Requirement already satisfied: py-cpuinfo in /usr/local/lib/python3.10/dist-packages (from ultralytics) (9.0.0)\n",
            "Requirement already satisfied: pandas>=1.1.4 in /usr/local/lib/python3.10/dist-packages (from ultralytics) (2.2.2)\n",
            "Requirement already satisfied: seaborn>=0.11.0 in /usr/local/lib/python3.10/dist-packages (from ultralytics) (0.13.2)\n",
            "Collecting ultralytics-thop>=2.0.0 (from ultralytics)\n",
            "  Downloading ultralytics_thop-2.0.12-py3-none-any.whl.metadata (9.4 kB)\n",
            "Requirement already satisfied: contourpy>=1.0.1 in /usr/local/lib/python3.10/dist-packages (from matplotlib>=3.3.0->ultralytics) (1.3.1)\n",
            "Requirement already satisfied: cycler>=0.10 in /usr/local/lib/python3.10/dist-packages (from matplotlib>=3.3.0->ultralytics) (0.12.1)\n",
            "Requirement already satisfied: fonttools>=4.22.0 in /usr/local/lib/python3.10/dist-packages (from matplotlib>=3.3.0->ultralytics) (4.55.0)\n",
            "Requirement already satisfied: kiwisolver>=1.0.1 in /usr/local/lib/python3.10/dist-packages (from matplotlib>=3.3.0->ultralytics) (1.4.7)\n",
            "Requirement already satisfied: packaging>=20.0 in /usr/local/lib/python3.10/dist-packages (from matplotlib>=3.3.0->ultralytics) (24.2)\n",
            "Requirement already satisfied: pyparsing>=2.3.1 in /usr/local/lib/python3.10/dist-packages (from matplotlib>=3.3.0->ultralytics) (3.2.0)\n",
            "Requirement already satisfied: python-dateutil>=2.7 in /usr/local/lib/python3.10/dist-packages (from matplotlib>=3.3.0->ultralytics) (2.8.2)\n",
            "Requirement already satisfied: pytz>=2020.1 in /usr/local/lib/python3.10/dist-packages (from pandas>=1.1.4->ultralytics) (2024.2)\n",
            "Requirement already satisfied: tzdata>=2022.7 in /usr/local/lib/python3.10/dist-packages (from pandas>=1.1.4->ultralytics) (2024.2)\n",
            "Requirement already satisfied: charset-normalizer<4,>=2 in /usr/local/lib/python3.10/dist-packages (from requests>=2.23.0->ultralytics) (3.4.0)\n",
            "Requirement already satisfied: idna<4,>=2.5 in /usr/local/lib/python3.10/dist-packages (from requests>=2.23.0->ultralytics) (3.10)\n",
            "Requirement already satisfied: urllib3<3,>=1.21.1 in /usr/local/lib/python3.10/dist-packages (from requests>=2.23.0->ultralytics) (2.2.3)\n",
            "Requirement already satisfied: certifi>=2017.4.17 in /usr/local/lib/python3.10/dist-packages (from requests>=2.23.0->ultralytics) (2024.8.30)\n",
            "Requirement already satisfied: filelock in /usr/local/lib/python3.10/dist-packages (from torch>=1.8.0->ultralytics) (3.16.1)\n",
            "Requirement already satisfied: typing-extensions>=4.8.0 in /usr/local/lib/python3.10/dist-packages (from torch>=1.8.0->ultralytics) (4.12.2)\n",
            "Requirement already satisfied: networkx in /usr/local/lib/python3.10/dist-packages (from torch>=1.8.0->ultralytics) (3.4.2)\n",
            "Requirement already satisfied: jinja2 in /usr/local/lib/python3.10/dist-packages (from torch>=1.8.0->ultralytics) (3.1.4)\n",
            "Requirement already satisfied: fsspec in /usr/local/lib/python3.10/dist-packages (from torch>=1.8.0->ultralytics) (2024.10.0)\n",
            "Requirement already satisfied: sympy==1.13.1 in /usr/local/lib/python3.10/dist-packages (from torch>=1.8.0->ultralytics) (1.13.1)\n",
            "Requirement already satisfied: mpmath<1.4,>=1.1.0 in /usr/local/lib/python3.10/dist-packages (from sympy==1.13.1->torch>=1.8.0->ultralytics) (1.3.0)\n",
            "Requirement already satisfied: six>=1.5 in /usr/local/lib/python3.10/dist-packages (from python-dateutil>=2.7->matplotlib>=3.3.0->ultralytics) (1.16.0)\n",
            "Requirement already satisfied: MarkupSafe>=2.0 in /usr/local/lib/python3.10/dist-packages (from jinja2->torch>=1.8.0->ultralytics) (3.0.2)\n",
            "Downloading ultralytics-8.3.34-py3-none-any.whl (887 kB)\n",
            "\u001b[2K   \u001b[90m━━━━━━━━━━━━━━━━━━━━━━━━━━━━━━━━━━━━━━━━\u001b[0m \u001b[32m887.4/887.4 kB\u001b[0m \u001b[31m56.1 MB/s\u001b[0m eta \u001b[36m0:00:00\u001b[0m\n",
            "\u001b[?25hDownloading ultralytics_thop-2.0.12-py3-none-any.whl (26 kB)\n",
            "Installing collected packages: ultralytics-thop, ultralytics\n",
            "Successfully installed ultralytics-8.3.34 ultralytics-thop-2.0.12\n"
          ]
        }
      ]
    },
    {
      "cell_type": "code",
      "source": [
        "from ultralytics import YOLO\n",
        "\n",
        "# Load YOLOv10n model from scratch\n",
        "model = YOLO(\"yolov8n.yaml\")\n",
        "\n",
        "# Train the model\n",
        "model.train(data=\"/content/data.yaml\", epochs=50, imgsz=640)"
      ],
      "metadata": {
        "colab": {
          "base_uri": "https://localhost:8080/"
        },
        "id": "0QW8U0SSw3Zm",
        "outputId": "cadf0c9c-08e4-4067-e6de-0f5c70298b30"
      },
      "execution_count": null,
      "outputs": [
        {
          "output_type": "stream",
          "name": "stdout",
          "text": [
            "Creating new Ultralytics Settings v0.0.6 file ✅ \n",
            "View Ultralytics Settings with 'yolo settings' or at '/root/.config/Ultralytics/settings.json'\n",
            "Update Settings with 'yolo settings key=value', i.e. 'yolo settings runs_dir=path/to/dir'. For help see https://docs.ultralytics.com/quickstart/#ultralytics-settings.\n",
            "Ultralytics 8.3.34 🚀 Python-3.10.12 torch-2.5.1+cu121 CUDA:0 (Tesla T4, 15102MiB)\n",
            "\u001b[34m\u001b[1mengine/trainer: \u001b[0mtask=detect, mode=train, model=yolov8n.yaml, data=/content/data.yaml, epochs=50, time=None, patience=100, batch=16, imgsz=640, save=True, save_period=-1, cache=False, device=None, workers=8, project=None, name=train, exist_ok=False, pretrained=True, optimizer=auto, verbose=True, seed=0, deterministic=True, single_cls=False, rect=False, cos_lr=False, close_mosaic=10, resume=False, amp=True, fraction=1.0, profile=False, freeze=None, multi_scale=False, overlap_mask=True, mask_ratio=4, dropout=0.0, val=True, split=val, save_json=False, save_hybrid=False, conf=None, iou=0.7, max_det=300, half=False, dnn=False, plots=True, source=None, vid_stride=1, stream_buffer=False, visualize=False, augment=False, agnostic_nms=False, classes=None, retina_masks=False, embed=None, show=False, save_frames=False, save_txt=False, save_conf=False, save_crop=False, show_labels=True, show_conf=True, show_boxes=True, line_width=None, format=torchscript, keras=False, optimize=False, int8=False, dynamic=False, simplify=True, opset=None, workspace=4, nms=False, lr0=0.01, lrf=0.01, momentum=0.937, weight_decay=0.0005, warmup_epochs=3.0, warmup_momentum=0.8, warmup_bias_lr=0.1, box=7.5, cls=0.5, dfl=1.5, pose=12.0, kobj=1.0, label_smoothing=0.0, nbs=64, hsv_h=0.015, hsv_s=0.7, hsv_v=0.4, degrees=0.0, translate=0.1, scale=0.5, shear=0.0, perspective=0.0, flipud=0.0, fliplr=0.5, bgr=0.0, mosaic=1.0, mixup=0.0, copy_paste=0.0, copy_paste_mode=flip, auto_augment=randaugment, erasing=0.4, crop_fraction=1.0, cfg=None, tracker=botsort.yaml, save_dir=runs/detect/train\n",
            "Downloading https://ultralytics.com/assets/Arial.ttf to '/root/.config/Ultralytics/Arial.ttf'...\n"
          ]
        },
        {
          "output_type": "stream",
          "name": "stderr",
          "text": [
            "100%|██████████| 755k/755k [00:00<00:00, 13.7MB/s]\n"
          ]
        },
        {
          "output_type": "stream",
          "name": "stdout",
          "text": [
            "Overriding model.yaml nc=80 with nc=1\n",
            "\n",
            "                   from  n    params  module                                       arguments                     \n",
            "  0                  -1  1       464  ultralytics.nn.modules.conv.Conv             [3, 16, 3, 2]                 \n",
            "  1                  -1  1      4672  ultralytics.nn.modules.conv.Conv             [16, 32, 3, 2]                \n",
            "  2                  -1  1      7360  ultralytics.nn.modules.block.C2f             [32, 32, 1, True]             \n",
            "  3                  -1  1     18560  ultralytics.nn.modules.conv.Conv             [32, 64, 3, 2]                \n",
            "  4                  -1  2     49664  ultralytics.nn.modules.block.C2f             [64, 64, 2, True]             \n",
            "  5                  -1  1     73984  ultralytics.nn.modules.conv.Conv             [64, 128, 3, 2]               \n",
            "  6                  -1  2    197632  ultralytics.nn.modules.block.C2f             [128, 128, 2, True]           \n",
            "  7                  -1  1    295424  ultralytics.nn.modules.conv.Conv             [128, 256, 3, 2]              \n",
            "  8                  -1  1    460288  ultralytics.nn.modules.block.C2f             [256, 256, 1, True]           \n",
            "  9                  -1  1    164608  ultralytics.nn.modules.block.SPPF            [256, 256, 5]                 \n",
            " 10                  -1  1         0  torch.nn.modules.upsampling.Upsample         [None, 2, 'nearest']          \n",
            " 11             [-1, 6]  1         0  ultralytics.nn.modules.conv.Concat           [1]                           \n",
            " 12                  -1  1    148224  ultralytics.nn.modules.block.C2f             [384, 128, 1]                 \n",
            " 13                  -1  1         0  torch.nn.modules.upsampling.Upsample         [None, 2, 'nearest']          \n",
            " 14             [-1, 4]  1         0  ultralytics.nn.modules.conv.Concat           [1]                           \n",
            " 15                  -1  1     37248  ultralytics.nn.modules.block.C2f             [192, 64, 1]                  \n",
            " 16                  -1  1     36992  ultralytics.nn.modules.conv.Conv             [64, 64, 3, 2]                \n",
            " 17            [-1, 12]  1         0  ultralytics.nn.modules.conv.Concat           [1]                           \n",
            " 18                  -1  1    123648  ultralytics.nn.modules.block.C2f             [192, 128, 1]                 \n",
            " 19                  -1  1    147712  ultralytics.nn.modules.conv.Conv             [128, 128, 3, 2]              \n",
            " 20             [-1, 9]  1         0  ultralytics.nn.modules.conv.Concat           [1]                           \n",
            " 21                  -1  1    493056  ultralytics.nn.modules.block.C2f             [384, 256, 1]                 \n",
            " 22        [15, 18, 21]  1    751507  ultralytics.nn.modules.head.Detect           [1, [64, 128, 256]]           \n",
            "YOLOv8n summary: 225 layers, 3,011,043 parameters, 3,011,027 gradients, 8.2 GFLOPs\n",
            "\n",
            "\u001b[34m\u001b[1mTensorBoard: \u001b[0mStart with 'tensorboard --logdir runs/detect/train', view at http://localhost:6006/\n",
            "Freezing layer 'model.22.dfl.conv.weight'\n",
            "\u001b[34m\u001b[1mAMP: \u001b[0mrunning Automatic Mixed Precision (AMP) checks...\n",
            "Downloading https://github.com/ultralytics/assets/releases/download/v8.3.0/yolo11n.pt to 'yolo11n.pt'...\n"
          ]
        },
        {
          "output_type": "stream",
          "name": "stderr",
          "text": [
            "100%|██████████| 5.35M/5.35M [00:00<00:00, 67.7MB/s]\n"
          ]
        },
        {
          "output_type": "stream",
          "name": "stdout",
          "text": [
            "\u001b[34m\u001b[1mAMP: \u001b[0mchecks passed ✅\n"
          ]
        },
        {
          "output_type": "stream",
          "name": "stderr",
          "text": [
            "\u001b[34m\u001b[1mtrain: \u001b[0mScanning /content/train/labels... 2517 images, 1196 backgrounds, 0 corrupt: 100%|██████████| 2517/2517 [00:01<00:00, 2200.02it/s]"
          ]
        },
        {
          "output_type": "stream",
          "name": "stdout",
          "text": [
            "\u001b[34m\u001b[1mtrain: \u001b[0mNew cache created: /content/train/labels.cache\n"
          ]
        },
        {
          "output_type": "stream",
          "name": "stderr",
          "text": [
            "\n"
          ]
        },
        {
          "output_type": "stream",
          "name": "stdout",
          "text": [
            "\u001b[34m\u001b[1malbumentations: \u001b[0mBlur(p=0.01, blur_limit=(3, 7)), MedianBlur(p=0.01, blur_limit=(3, 7)), ToGray(p=0.01, num_output_channels=3, method='weighted_average'), CLAHE(p=0.01, clip_limit=(1.0, 4.0), tile_grid_size=(8, 8))\n"
          ]
        },
        {
          "output_type": "stream",
          "name": "stderr",
          "text": [
            "/usr/local/lib/python3.10/dist-packages/albumentations/__init__.py:24: UserWarning: A new version of Albumentations is available: 1.4.21 (you have 1.4.20). Upgrade using: pip install -U albumentations. To disable automatic update checks, set the environment variable NO_ALBUMENTATIONS_UPDATE to 1.\n",
            "  check_for_updates()\n",
            "\u001b[34m\u001b[1mval: \u001b[0mScanning /content/valid/labels... 371 images, 127 backgrounds, 0 corrupt: 100%|██████████| 371/371 [00:00<00:00, 754.04it/s]"
          ]
        },
        {
          "output_type": "stream",
          "name": "stdout",
          "text": [
            "\u001b[34m\u001b[1mval: \u001b[0mNew cache created: /content/valid/labels.cache\n"
          ]
        },
        {
          "output_type": "stream",
          "name": "stderr",
          "text": [
            "\n"
          ]
        },
        {
          "output_type": "stream",
          "name": "stdout",
          "text": [
            "Plotting labels to runs/detect/train/labels.jpg... \n",
            "\u001b[34m\u001b[1moptimizer:\u001b[0m 'optimizer=auto' found, ignoring 'lr0=0.01' and 'momentum=0.937' and determining best 'optimizer', 'lr0' and 'momentum' automatically... \n",
            "\u001b[34m\u001b[1moptimizer:\u001b[0m AdamW(lr=0.002, momentum=0.9) with parameter groups 57 weight(decay=0.0), 64 weight(decay=0.0005), 63 bias(decay=0.0)\n",
            "\u001b[34m\u001b[1mTensorBoard: \u001b[0mmodel graph visualization added ✅\n",
            "Image sizes 640 train, 640 val\n",
            "Using 2 dataloader workers\n",
            "Logging results to \u001b[1mruns/detect/train\u001b[0m\n",
            "Starting training for 50 epochs...\n",
            "\n",
            "      Epoch    GPU_mem   box_loss   cls_loss   dfl_loss  Instances       Size\n"
          ]
        },
        {
          "output_type": "stream",
          "name": "stderr",
          "text": [
            "       1/50      2.26G      3.144      4.682      4.015         10        640: 100%|██████████| 158/158 [00:59<00:00,  2.67it/s]\n",
            "                 Class     Images  Instances      Box(P          R      mAP50  mAP50-95): 100%|██████████| 12/12 [00:07<00:00,  1.67it/s]"
          ]
        },
        {
          "output_type": "stream",
          "name": "stdout",
          "text": [
            "                   all        371        288    0.00274      0.858    0.00869    0.00231\n"
          ]
        },
        {
          "output_type": "stream",
          "name": "stderr",
          "text": [
            "\n"
          ]
        },
        {
          "output_type": "stream",
          "name": "stdout",
          "text": [
            "\n",
            "      Epoch    GPU_mem   box_loss   cls_loss   dfl_loss  Instances       Size\n"
          ]
        },
        {
          "output_type": "stream",
          "name": "stderr",
          "text": [
            "       2/50       2.2G      2.805      3.866      3.405          3        640: 100%|██████████| 158/158 [00:51<00:00,  3.07it/s]\n",
            "                 Class     Images  Instances      Box(P          R      mAP50  mAP50-95): 100%|██████████| 12/12 [00:04<00:00,  2.76it/s]\n"
          ]
        },
        {
          "output_type": "stream",
          "name": "stdout",
          "text": [
            "                   all        371        288      0.308     0.0938     0.0807     0.0204\n",
            "\n",
            "      Epoch    GPU_mem   box_loss   cls_loss   dfl_loss  Instances       Size\n"
          ]
        },
        {
          "output_type": "stream",
          "name": "stderr",
          "text": [
            "       3/50       2.2G      2.688      3.518      3.242          4        640: 100%|██████████| 158/158 [00:53<00:00,  2.96it/s]\n",
            "                 Class     Images  Instances      Box(P          R      mAP50  mAP50-95): 100%|██████████| 12/12 [00:03<00:00,  3.75it/s]\n"
          ]
        },
        {
          "output_type": "stream",
          "name": "stdout",
          "text": [
            "                   all        371        288      0.316      0.142      0.138     0.0501\n",
            "\n",
            "      Epoch    GPU_mem   box_loss   cls_loss   dfl_loss  Instances       Size\n"
          ]
        },
        {
          "output_type": "stream",
          "name": "stderr",
          "text": [
            "       4/50      2.21G      2.526      3.339      3.135         10        640: 100%|██████████| 158/158 [00:55<00:00,  2.86it/s]\n",
            "                 Class     Images  Instances      Box(P          R      mAP50  mAP50-95): 100%|██████████| 12/12 [00:02<00:00,  4.09it/s]"
          ]
        },
        {
          "output_type": "stream",
          "name": "stdout",
          "text": [
            "                   all        371        288    0.00392      0.413    0.00714    0.00205\n"
          ]
        },
        {
          "output_type": "stream",
          "name": "stderr",
          "text": [
            "\n"
          ]
        },
        {
          "output_type": "stream",
          "name": "stdout",
          "text": [
            "\n",
            "      Epoch    GPU_mem   box_loss   cls_loss   dfl_loss  Instances       Size\n"
          ]
        },
        {
          "output_type": "stream",
          "name": "stderr",
          "text": [
            "       5/50      2.18G      2.418      3.238       2.99          6        640: 100%|██████████| 158/158 [00:53<00:00,  2.93it/s]\n",
            "                 Class     Images  Instances      Box(P          R      mAP50  mAP50-95): 100%|██████████| 12/12 [00:03<00:00,  3.88it/s]\n"
          ]
        },
        {
          "output_type": "stream",
          "name": "stdout",
          "text": [
            "                   all        371        288      0.223      0.118     0.0724     0.0206\n",
            "\n",
            "      Epoch    GPU_mem   box_loss   cls_loss   dfl_loss  Instances       Size\n"
          ]
        },
        {
          "output_type": "stream",
          "name": "stderr",
          "text": [
            "       6/50      2.19G      2.263      3.066      2.871          4        640: 100%|██████████| 158/158 [00:54<00:00,  2.89it/s]\n",
            "                 Class     Images  Instances      Box(P          R      mAP50  mAP50-95): 100%|██████████| 12/12 [00:03<00:00,  3.83it/s]"
          ]
        },
        {
          "output_type": "stream",
          "name": "stdout",
          "text": [
            "                   all        371        288      0.337      0.156      0.154     0.0497\n"
          ]
        },
        {
          "output_type": "stream",
          "name": "stderr",
          "text": [
            "\n"
          ]
        },
        {
          "output_type": "stream",
          "name": "stdout",
          "text": [
            "\n",
            "      Epoch    GPU_mem   box_loss   cls_loss   dfl_loss  Instances       Size\n"
          ]
        },
        {
          "output_type": "stream",
          "name": "stderr",
          "text": [
            "       7/50      2.19G      2.206      2.922       2.78          9        640: 100%|██████████| 158/158 [00:53<00:00,  2.93it/s]\n",
            "                 Class     Images  Instances      Box(P          R      mAP50  mAP50-95): 100%|██████████| 12/12 [00:03<00:00,  3.70it/s]"
          ]
        },
        {
          "output_type": "stream",
          "name": "stdout",
          "text": [
            "                   all        371        288    0.00927      0.747     0.0176    0.00511\n"
          ]
        },
        {
          "output_type": "stream",
          "name": "stderr",
          "text": [
            "\n"
          ]
        },
        {
          "output_type": "stream",
          "name": "stdout",
          "text": [
            "\n",
            "      Epoch    GPU_mem   box_loss   cls_loss   dfl_loss  Instances       Size\n"
          ]
        },
        {
          "output_type": "stream",
          "name": "stderr",
          "text": [
            "       8/50      2.19G      2.132      2.908       2.75          4        640: 100%|██████████| 158/158 [00:53<00:00,  2.98it/s]\n",
            "                 Class     Images  Instances      Box(P          R      mAP50  mAP50-95): 100%|██████████| 12/12 [00:04<00:00,  2.93it/s]"
          ]
        },
        {
          "output_type": "stream",
          "name": "stdout",
          "text": [
            "                   all        371        288     0.0419      0.288      0.106     0.0373\n"
          ]
        },
        {
          "output_type": "stream",
          "name": "stderr",
          "text": [
            "\n"
          ]
        },
        {
          "output_type": "stream",
          "name": "stdout",
          "text": [
            "\n",
            "      Epoch    GPU_mem   box_loss   cls_loss   dfl_loss  Instances       Size\n"
          ]
        },
        {
          "output_type": "stream",
          "name": "stderr",
          "text": [
            "       9/50      2.18G      2.111      2.762      2.711          3        640: 100%|██████████| 158/158 [00:54<00:00,  2.92it/s]\n",
            "                 Class     Images  Instances      Box(P          R      mAP50  mAP50-95): 100%|██████████| 12/12 [00:05<00:00,  2.37it/s]"
          ]
        },
        {
          "output_type": "stream",
          "name": "stdout",
          "text": [
            "                   all        371        288      0.272      0.215      0.194     0.0622\n"
          ]
        },
        {
          "output_type": "stream",
          "name": "stderr",
          "text": [
            "\n"
          ]
        },
        {
          "output_type": "stream",
          "name": "stdout",
          "text": [
            "\n",
            "      Epoch    GPU_mem   box_loss   cls_loss   dfl_loss  Instances       Size\n"
          ]
        },
        {
          "output_type": "stream",
          "name": "stderr",
          "text": [
            "      10/50      2.19G      2.088      2.737      2.656          3        640: 100%|██████████| 158/158 [00:53<00:00,  2.98it/s]\n",
            "                 Class     Images  Instances      Box(P          R      mAP50  mAP50-95): 100%|██████████| 12/12 [00:04<00:00,  2.83it/s]\n"
          ]
        },
        {
          "output_type": "stream",
          "name": "stdout",
          "text": [
            "                   all        371        288      0.163      0.257      0.159     0.0562\n",
            "\n",
            "      Epoch    GPU_mem   box_loss   cls_loss   dfl_loss  Instances       Size\n"
          ]
        },
        {
          "output_type": "stream",
          "name": "stderr",
          "text": [
            "      11/50      2.19G      2.031      2.649      2.618          7        640: 100%|██████████| 158/158 [00:52<00:00,  3.02it/s]\n",
            "                 Class     Images  Instances      Box(P          R      mAP50  mAP50-95): 100%|██████████| 12/12 [00:03<00:00,  3.71it/s]"
          ]
        },
        {
          "output_type": "stream",
          "name": "stdout",
          "text": [
            "                   all        371        288      0.513      0.231      0.287      0.107\n"
          ]
        },
        {
          "output_type": "stream",
          "name": "stderr",
          "text": [
            "\n"
          ]
        },
        {
          "output_type": "stream",
          "name": "stdout",
          "text": [
            "\n",
            "      Epoch    GPU_mem   box_loss   cls_loss   dfl_loss  Instances       Size\n"
          ]
        },
        {
          "output_type": "stream",
          "name": "stderr",
          "text": [
            "      12/50      2.19G      2.026      2.515      2.613          6        640: 100%|██████████| 158/158 [00:54<00:00,  2.91it/s]\n",
            "                 Class     Images  Instances      Box(P          R      mAP50  mAP50-95): 100%|██████████| 12/12 [00:03<00:00,  4.00it/s]\n"
          ]
        },
        {
          "output_type": "stream",
          "name": "stdout",
          "text": [
            "                   all        371        288       0.41      0.278      0.215     0.0645\n",
            "\n",
            "      Epoch    GPU_mem   box_loss   cls_loss   dfl_loss  Instances       Size\n"
          ]
        },
        {
          "output_type": "stream",
          "name": "stderr",
          "text": [
            "      13/50      2.18G      1.999      2.482      2.574          5        640: 100%|██████████| 158/158 [00:53<00:00,  2.96it/s]\n",
            "                 Class     Images  Instances      Box(P          R      mAP50  mAP50-95): 100%|██████████| 12/12 [00:03<00:00,  3.98it/s]"
          ]
        },
        {
          "output_type": "stream",
          "name": "stdout",
          "text": [
            "                   all        371        288      0.232       0.29      0.212     0.0717\n"
          ]
        },
        {
          "output_type": "stream",
          "name": "stderr",
          "text": [
            "\n"
          ]
        },
        {
          "output_type": "stream",
          "name": "stdout",
          "text": [
            "\n",
            "      Epoch    GPU_mem   box_loss   cls_loss   dfl_loss  Instances       Size\n"
          ]
        },
        {
          "output_type": "stream",
          "name": "stderr",
          "text": [
            "      14/50      2.19G      1.983      2.484      2.555          7        640: 100%|██████████| 158/158 [00:52<00:00,  3.00it/s]\n",
            "                 Class     Images  Instances      Box(P          R      mAP50  mAP50-95): 100%|██████████| 12/12 [00:03<00:00,  3.93it/s]"
          ]
        },
        {
          "output_type": "stream",
          "name": "stdout",
          "text": [
            "                   all        371        288      0.335      0.295      0.292        0.1\n"
          ]
        },
        {
          "output_type": "stream",
          "name": "stderr",
          "text": [
            "\n"
          ]
        },
        {
          "output_type": "stream",
          "name": "stdout",
          "text": [
            "\n",
            "      Epoch    GPU_mem   box_loss   cls_loss   dfl_loss  Instances       Size\n"
          ]
        },
        {
          "output_type": "stream",
          "name": "stderr",
          "text": [
            "      15/50      2.19G      1.947      2.416      2.511          7        640: 100%|██████████| 158/158 [00:51<00:00,  3.06it/s]\n",
            "                 Class     Images  Instances      Box(P          R      mAP50  mAP50-95): 100%|██████████| 12/12 [00:02<00:00,  4.01it/s]\n"
          ]
        },
        {
          "output_type": "stream",
          "name": "stdout",
          "text": [
            "                   all        371        288      0.329      0.351      0.257     0.0963\n",
            "\n",
            "      Epoch    GPU_mem   box_loss   cls_loss   dfl_loss  Instances       Size\n"
          ]
        },
        {
          "output_type": "stream",
          "name": "stderr",
          "text": [
            "      16/50      2.19G      1.978      2.444      2.532          2        640: 100%|██████████| 158/158 [00:53<00:00,  2.96it/s]\n",
            "                 Class     Images  Instances      Box(P          R      mAP50  mAP50-95): 100%|██████████| 12/12 [00:04<00:00,  2.81it/s]"
          ]
        },
        {
          "output_type": "stream",
          "name": "stdout",
          "text": [
            "                   all        371        288      0.652      0.286      0.408      0.159\n"
          ]
        },
        {
          "output_type": "stream",
          "name": "stderr",
          "text": [
            "\n"
          ]
        },
        {
          "output_type": "stream",
          "name": "stdout",
          "text": [
            "\n",
            "      Epoch    GPU_mem   box_loss   cls_loss   dfl_loss  Instances       Size\n"
          ]
        },
        {
          "output_type": "stream",
          "name": "stderr",
          "text": [
            "      17/50      2.19G      1.948      2.339      2.507          6        640: 100%|██████████| 158/158 [00:50<00:00,  3.10it/s]\n",
            "                 Class     Images  Instances      Box(P          R      mAP50  mAP50-95): 100%|██████████| 12/12 [00:04<00:00,  2.85it/s]"
          ]
        },
        {
          "output_type": "stream",
          "name": "stdout",
          "text": [
            "                   all        371        288      0.493       0.34      0.394      0.142\n"
          ]
        },
        {
          "output_type": "stream",
          "name": "stderr",
          "text": [
            "\n"
          ]
        },
        {
          "output_type": "stream",
          "name": "stdout",
          "text": [
            "\n",
            "      Epoch    GPU_mem   box_loss   cls_loss   dfl_loss  Instances       Size\n"
          ]
        },
        {
          "output_type": "stream",
          "name": "stderr",
          "text": [
            "      18/50      2.19G      1.978      2.331      2.518          5        640: 100%|██████████| 158/158 [00:53<00:00,  2.98it/s]\n",
            "                 Class     Images  Instances      Box(P          R      mAP50  mAP50-95): 100%|██████████| 12/12 [00:05<00:00,  2.29it/s]"
          ]
        },
        {
          "output_type": "stream",
          "name": "stdout",
          "text": [
            "                   all        371        288      0.303      0.361      0.279      0.112\n"
          ]
        },
        {
          "output_type": "stream",
          "name": "stderr",
          "text": [
            "\n"
          ]
        },
        {
          "output_type": "stream",
          "name": "stdout",
          "text": [
            "\n",
            "      Epoch    GPU_mem   box_loss   cls_loss   dfl_loss  Instances       Size\n"
          ]
        },
        {
          "output_type": "stream",
          "name": "stderr",
          "text": [
            "      19/50      2.19G      1.913      2.289      2.465          8        640: 100%|██████████| 158/158 [00:49<00:00,  3.20it/s]\n",
            "                 Class     Images  Instances      Box(P          R      mAP50  mAP50-95): 100%|██████████| 12/12 [00:04<00:00,  2.40it/s]"
          ]
        },
        {
          "output_type": "stream",
          "name": "stdout",
          "text": [
            "                   all        371        288      0.587       0.37      0.433      0.173\n"
          ]
        },
        {
          "output_type": "stream",
          "name": "stderr",
          "text": [
            "\n"
          ]
        },
        {
          "output_type": "stream",
          "name": "stdout",
          "text": [
            "\n",
            "      Epoch    GPU_mem   box_loss   cls_loss   dfl_loss  Instances       Size\n"
          ]
        },
        {
          "output_type": "stream",
          "name": "stderr",
          "text": [
            "      20/50      2.19G      1.905      2.239      2.468          3        640: 100%|██████████| 158/158 [00:52<00:00,  3.02it/s]\n",
            "                 Class     Images  Instances      Box(P          R      mAP50  mAP50-95): 100%|██████████| 12/12 [00:03<00:00,  3.12it/s]\n"
          ]
        },
        {
          "output_type": "stream",
          "name": "stdout",
          "text": [
            "                   all        371        288      0.546       0.49      0.498      0.207\n",
            "\n",
            "      Epoch    GPU_mem   box_loss   cls_loss   dfl_loss  Instances       Size\n"
          ]
        },
        {
          "output_type": "stream",
          "name": "stderr",
          "text": [
            "      21/50      2.18G      1.876      2.204       2.43          6        640: 100%|██████████| 158/158 [00:53<00:00,  2.95it/s]\n",
            "                 Class     Images  Instances      Box(P          R      mAP50  mAP50-95): 100%|██████████| 12/12 [00:03<00:00,  3.68it/s]"
          ]
        },
        {
          "output_type": "stream",
          "name": "stdout",
          "text": [
            "                   all        371        288      0.478      0.403      0.403      0.156\n"
          ]
        },
        {
          "output_type": "stream",
          "name": "stderr",
          "text": [
            "\n"
          ]
        },
        {
          "output_type": "stream",
          "name": "stdout",
          "text": [
            "\n",
            "      Epoch    GPU_mem   box_loss   cls_loss   dfl_loss  Instances       Size\n"
          ]
        },
        {
          "output_type": "stream",
          "name": "stderr",
          "text": [
            "      22/50      2.19G      1.835      2.141       2.42         13        640: 100%|██████████| 158/158 [00:52<00:00,  3.02it/s]\n",
            "                 Class     Images  Instances      Box(P          R      mAP50  mAP50-95): 100%|██████████| 12/12 [00:03<00:00,  3.96it/s]"
          ]
        },
        {
          "output_type": "stream",
          "name": "stdout",
          "text": [
            "                   all        371        288      0.489      0.472      0.466      0.201\n"
          ]
        },
        {
          "output_type": "stream",
          "name": "stderr",
          "text": [
            "\n"
          ]
        },
        {
          "output_type": "stream",
          "name": "stdout",
          "text": [
            "\n",
            "      Epoch    GPU_mem   box_loss   cls_loss   dfl_loss  Instances       Size\n"
          ]
        },
        {
          "output_type": "stream",
          "name": "stderr",
          "text": [
            "      23/50      2.19G      1.876      2.134      2.413          8        640: 100%|██████████| 158/158 [00:51<00:00,  3.06it/s]\n",
            "                 Class     Images  Instances      Box(P          R      mAP50  mAP50-95): 100%|██████████| 12/12 [00:02<00:00,  4.09it/s]\n"
          ]
        },
        {
          "output_type": "stream",
          "name": "stdout",
          "text": [
            "                   all        371        288      0.495      0.385      0.371      0.149\n",
            "\n",
            "      Epoch    GPU_mem   box_loss   cls_loss   dfl_loss  Instances       Size\n"
          ]
        },
        {
          "output_type": "stream",
          "name": "stderr",
          "text": [
            "      24/50      2.19G      1.869      2.131      2.408          7        640: 100%|██████████| 158/158 [00:52<00:00,  2.98it/s]\n",
            "                 Class     Images  Instances      Box(P          R      mAP50  mAP50-95): 100%|██████████| 12/12 [00:03<00:00,  3.90it/s]\n"
          ]
        },
        {
          "output_type": "stream",
          "name": "stdout",
          "text": [
            "                   all        371        288      0.606       0.39      0.458      0.192\n",
            "\n",
            "      Epoch    GPU_mem   box_loss   cls_loss   dfl_loss  Instances       Size\n"
          ]
        },
        {
          "output_type": "stream",
          "name": "stderr",
          "text": [
            "      25/50      2.18G      1.822      2.074      2.408          3        640: 100%|██████████| 158/158 [00:53<00:00,  2.95it/s]\n",
            "                 Class     Images  Instances      Box(P          R      mAP50  mAP50-95): 100%|██████████| 12/12 [00:02<00:00,  4.28it/s]"
          ]
        },
        {
          "output_type": "stream",
          "name": "stdout",
          "text": [
            "                   all        371        288      0.538      0.425      0.436      0.175\n"
          ]
        },
        {
          "output_type": "stream",
          "name": "stderr",
          "text": [
            "\n"
          ]
        },
        {
          "output_type": "stream",
          "name": "stdout",
          "text": [
            "\n",
            "      Epoch    GPU_mem   box_loss   cls_loss   dfl_loss  Instances       Size\n"
          ]
        },
        {
          "output_type": "stream",
          "name": "stderr",
          "text": [
            "      26/50      2.19G      1.813      2.061      2.371          7        640: 100%|██████████| 158/158 [00:53<00:00,  2.97it/s]\n",
            "                 Class     Images  Instances      Box(P          R      mAP50  mAP50-95): 100%|██████████| 12/12 [00:03<00:00,  3.87it/s]\n"
          ]
        },
        {
          "output_type": "stream",
          "name": "stdout",
          "text": [
            "                   all        371        288      0.562       0.41      0.468        0.2\n",
            "\n",
            "      Epoch    GPU_mem   box_loss   cls_loss   dfl_loss  Instances       Size\n"
          ]
        },
        {
          "output_type": "stream",
          "name": "stderr",
          "text": [
            "      27/50      2.18G      1.818      2.039      2.373          5        640: 100%|██████████| 158/158 [00:53<00:00,  2.96it/s]\n",
            "                 Class     Images  Instances      Box(P          R      mAP50  mAP50-95): 100%|██████████| 12/12 [00:02<00:00,  4.03it/s]"
          ]
        },
        {
          "output_type": "stream",
          "name": "stdout",
          "text": [
            "                   all        371        288      0.567      0.448      0.461      0.194\n"
          ]
        },
        {
          "output_type": "stream",
          "name": "stderr",
          "text": [
            "\n"
          ]
        },
        {
          "output_type": "stream",
          "name": "stdout",
          "text": [
            "\n",
            "      Epoch    GPU_mem   box_loss   cls_loss   dfl_loss  Instances       Size\n"
          ]
        },
        {
          "output_type": "stream",
          "name": "stderr",
          "text": [
            "      28/50      2.19G      1.797      1.968      2.376          7        640: 100%|██████████| 158/158 [00:53<00:00,  2.97it/s]\n",
            "                 Class     Images  Instances      Box(P          R      mAP50  mAP50-95): 100%|██████████| 12/12 [00:03<00:00,  3.11it/s]"
          ]
        },
        {
          "output_type": "stream",
          "name": "stdout",
          "text": [
            "                   all        371        288      0.606      0.441      0.479      0.192\n"
          ]
        },
        {
          "output_type": "stream",
          "name": "stderr",
          "text": [
            "\n"
          ]
        },
        {
          "output_type": "stream",
          "name": "stdout",
          "text": [
            "\n",
            "      Epoch    GPU_mem   box_loss   cls_loss   dfl_loss  Instances       Size\n"
          ]
        },
        {
          "output_type": "stream",
          "name": "stderr",
          "text": [
            "      29/50      2.18G      1.761      1.952      2.347          7        640: 100%|██████████| 158/158 [00:53<00:00,  2.97it/s]\n",
            "                 Class     Images  Instances      Box(P          R      mAP50  mAP50-95): 100%|██████████| 12/12 [00:04<00:00,  2.42it/s]"
          ]
        },
        {
          "output_type": "stream",
          "name": "stdout",
          "text": [
            "                   all        371        288      0.526      0.465      0.445      0.171\n"
          ]
        },
        {
          "output_type": "stream",
          "name": "stderr",
          "text": [
            "\n"
          ]
        },
        {
          "output_type": "stream",
          "name": "stdout",
          "text": [
            "\n",
            "      Epoch    GPU_mem   box_loss   cls_loss   dfl_loss  Instances       Size\n"
          ]
        },
        {
          "output_type": "stream",
          "name": "stderr",
          "text": [
            "      30/50      2.19G      1.792      1.938      2.359         10        640: 100%|██████████| 158/158 [00:51<00:00,  3.08it/s]\n",
            "                 Class     Images  Instances      Box(P          R      mAP50  mAP50-95): 100%|██████████| 12/12 [00:04<00:00,  2.47it/s]"
          ]
        },
        {
          "output_type": "stream",
          "name": "stdout",
          "text": [
            "                   all        371        288      0.566      0.465       0.51      0.198\n"
          ]
        },
        {
          "output_type": "stream",
          "name": "stderr",
          "text": [
            "\n"
          ]
        },
        {
          "output_type": "stream",
          "name": "stdout",
          "text": [
            "\n",
            "      Epoch    GPU_mem   box_loss   cls_loss   dfl_loss  Instances       Size\n"
          ]
        },
        {
          "output_type": "stream",
          "name": "stderr",
          "text": [
            "      31/50      2.18G      1.765      1.953      2.325          2        640: 100%|██████████| 158/158 [00:49<00:00,  3.17it/s]\n",
            "                 Class     Images  Instances      Box(P          R      mAP50  mAP50-95): 100%|██████████| 12/12 [00:05<00:00,  2.30it/s]"
          ]
        },
        {
          "output_type": "stream",
          "name": "stdout",
          "text": [
            "                   all        371        288      0.677      0.476      0.526      0.229\n"
          ]
        },
        {
          "output_type": "stream",
          "name": "stderr",
          "text": [
            "\n"
          ]
        },
        {
          "output_type": "stream",
          "name": "stdout",
          "text": [
            "\n",
            "      Epoch    GPU_mem   box_loss   cls_loss   dfl_loss  Instances       Size\n"
          ]
        },
        {
          "output_type": "stream",
          "name": "stderr",
          "text": [
            "      32/50      2.19G       1.76      1.918      2.325          6        640: 100%|██████████| 158/158 [00:50<00:00,  3.13it/s]\n",
            "                 Class     Images  Instances      Box(P          R      mAP50  mAP50-95): 100%|██████████| 12/12 [00:05<00:00,  2.17it/s]"
          ]
        },
        {
          "output_type": "stream",
          "name": "stdout",
          "text": [
            "                   all        371        288      0.663      0.396      0.473      0.204\n"
          ]
        },
        {
          "output_type": "stream",
          "name": "stderr",
          "text": [
            "\n"
          ]
        },
        {
          "output_type": "stream",
          "name": "stdout",
          "text": [
            "\n",
            "      Epoch    GPU_mem   box_loss   cls_loss   dfl_loss  Instances       Size\n"
          ]
        },
        {
          "output_type": "stream",
          "name": "stderr",
          "text": [
            "      33/50      2.18G      1.774      1.905      2.331          7        640: 100%|██████████| 158/158 [00:52<00:00,  3.02it/s]\n",
            "                 Class     Images  Instances      Box(P          R      mAP50  mAP50-95): 100%|██████████| 12/12 [00:04<00:00,  2.63it/s]"
          ]
        },
        {
          "output_type": "stream",
          "name": "stdout",
          "text": [
            "                   all        371        288      0.635      0.444      0.515      0.207\n"
          ]
        },
        {
          "output_type": "stream",
          "name": "stderr",
          "text": [
            "\n"
          ]
        },
        {
          "output_type": "stream",
          "name": "stdout",
          "text": [
            "\n",
            "      Epoch    GPU_mem   box_loss   cls_loss   dfl_loss  Instances       Size\n"
          ]
        },
        {
          "output_type": "stream",
          "name": "stderr",
          "text": [
            "      34/50      2.19G      1.751      1.834      2.325          6        640: 100%|██████████| 158/158 [00:53<00:00,  2.94it/s]\n",
            "                 Class     Images  Instances      Box(P          R      mAP50  mAP50-95): 100%|██████████| 12/12 [00:03<00:00,  3.92it/s]"
          ]
        },
        {
          "output_type": "stream",
          "name": "stdout",
          "text": [
            "                   all        371        288      0.653      0.451      0.519      0.223\n"
          ]
        },
        {
          "output_type": "stream",
          "name": "stderr",
          "text": [
            "\n"
          ]
        },
        {
          "output_type": "stream",
          "name": "stdout",
          "text": [
            "\n",
            "      Epoch    GPU_mem   box_loss   cls_loss   dfl_loss  Instances       Size\n"
          ]
        },
        {
          "output_type": "stream",
          "name": "stderr",
          "text": [
            "      35/50      2.18G      1.747      1.807      2.293          6        640: 100%|██████████| 158/158 [00:55<00:00,  2.86it/s]\n",
            "                 Class     Images  Instances      Box(P          R      mAP50  mAP50-95): 100%|██████████| 12/12 [00:03<00:00,  3.84it/s]\n"
          ]
        },
        {
          "output_type": "stream",
          "name": "stdout",
          "text": [
            "                   all        371        288      0.674      0.479      0.539       0.23\n",
            "\n",
            "      Epoch    GPU_mem   box_loss   cls_loss   dfl_loss  Instances       Size\n"
          ]
        },
        {
          "output_type": "stream",
          "name": "stderr",
          "text": [
            "      36/50      2.19G      1.738       1.82      2.308          8        640: 100%|██████████| 158/158 [00:54<00:00,  2.89it/s]\n",
            "                 Class     Images  Instances      Box(P          R      mAP50  mAP50-95): 100%|██████████| 12/12 [00:03<00:00,  3.75it/s]"
          ]
        },
        {
          "output_type": "stream",
          "name": "stdout",
          "text": [
            "                   all        371        288      0.651       0.49      0.545      0.243\n"
          ]
        },
        {
          "output_type": "stream",
          "name": "stderr",
          "text": [
            "\n"
          ]
        },
        {
          "output_type": "stream",
          "name": "stdout",
          "text": [
            "\n",
            "      Epoch    GPU_mem   box_loss   cls_loss   dfl_loss  Instances       Size\n"
          ]
        },
        {
          "output_type": "stream",
          "name": "stderr",
          "text": [
            "      37/50      2.18G      1.736      1.837      2.291          9        640: 100%|██████████| 158/158 [00:55<00:00,  2.86it/s]\n",
            "                 Class     Images  Instances      Box(P          R      mAP50  mAP50-95): 100%|██████████| 12/12 [00:03<00:00,  3.97it/s]"
          ]
        },
        {
          "output_type": "stream",
          "name": "stdout",
          "text": [
            "                   all        371        288      0.711      0.462      0.526      0.202\n"
          ]
        },
        {
          "output_type": "stream",
          "name": "stderr",
          "text": [
            "\n"
          ]
        },
        {
          "output_type": "stream",
          "name": "stdout",
          "text": [
            "\n",
            "      Epoch    GPU_mem   box_loss   cls_loss   dfl_loss  Instances       Size\n"
          ]
        },
        {
          "output_type": "stream",
          "name": "stderr",
          "text": [
            "      38/50      2.19G      1.702      1.785      2.276          5        640: 100%|██████████| 158/158 [00:54<00:00,  2.93it/s]\n",
            "                 Class     Images  Instances      Box(P          R      mAP50  mAP50-95): 100%|██████████| 12/12 [00:04<00:00,  2.93it/s]"
          ]
        },
        {
          "output_type": "stream",
          "name": "stdout",
          "text": [
            "                   all        371        288      0.621      0.478      0.535      0.211\n"
          ]
        },
        {
          "output_type": "stream",
          "name": "stderr",
          "text": [
            "\n"
          ]
        },
        {
          "output_type": "stream",
          "name": "stdout",
          "text": [
            "\n",
            "      Epoch    GPU_mem   box_loss   cls_loss   dfl_loss  Instances       Size\n"
          ]
        },
        {
          "output_type": "stream",
          "name": "stderr",
          "text": [
            "      39/50      2.18G      1.688      1.773      2.247          1        640: 100%|██████████| 158/158 [00:50<00:00,  3.13it/s]\n",
            "                 Class     Images  Instances      Box(P          R      mAP50  mAP50-95): 100%|██████████| 12/12 [00:04<00:00,  2.85it/s]"
          ]
        },
        {
          "output_type": "stream",
          "name": "stdout",
          "text": [
            "                   all        371        288      0.698      0.545      0.574       0.26\n"
          ]
        },
        {
          "output_type": "stream",
          "name": "stderr",
          "text": [
            "\n"
          ]
        },
        {
          "output_type": "stream",
          "name": "stdout",
          "text": [
            "\n",
            "      Epoch    GPU_mem   box_loss   cls_loss   dfl_loss  Instances       Size\n"
          ]
        },
        {
          "output_type": "stream",
          "name": "stderr",
          "text": [
            "      40/50      2.19G      1.683      1.736      2.253          3        640: 100%|██████████| 158/158 [00:48<00:00,  3.24it/s]\n",
            "                 Class     Images  Instances      Box(P          R      mAP50  mAP50-95): 100%|██████████| 12/12 [00:03<00:00,  3.10it/s]"
          ]
        },
        {
          "output_type": "stream",
          "name": "stdout",
          "text": [
            "                   all        371        288      0.686      0.538      0.582      0.259\n"
          ]
        },
        {
          "output_type": "stream",
          "name": "stderr",
          "text": [
            "\n"
          ]
        },
        {
          "output_type": "stream",
          "name": "stdout",
          "text": [
            "Closing dataloader mosaic\n",
            "\u001b[34m\u001b[1malbumentations: \u001b[0mBlur(p=0.01, blur_limit=(3, 7)), MedianBlur(p=0.01, blur_limit=(3, 7)), ToGray(p=0.01, num_output_channels=3, method='weighted_average'), CLAHE(p=0.01, clip_limit=(1.0, 4.0), tile_grid_size=(8, 8))\n",
            "\n",
            "      Epoch    GPU_mem   box_loss   cls_loss   dfl_loss  Instances       Size\n"
          ]
        },
        {
          "output_type": "stream",
          "name": "stderr",
          "text": [
            "      41/50      2.18G      1.686      1.436      2.387          2        640: 100%|██████████| 158/158 [00:49<00:00,  3.21it/s]\n",
            "                 Class     Images  Instances      Box(P          R      mAP50  mAP50-95): 100%|██████████| 12/12 [00:03<00:00,  3.06it/s]"
          ]
        },
        {
          "output_type": "stream",
          "name": "stdout",
          "text": [
            "                   all        371        288      0.774      0.512      0.606      0.277\n"
          ]
        },
        {
          "output_type": "stream",
          "name": "stderr",
          "text": [
            "\n"
          ]
        },
        {
          "output_type": "stream",
          "name": "stdout",
          "text": [
            "\n",
            "      Epoch    GPU_mem   box_loss   cls_loss   dfl_loss  Instances       Size\n"
          ]
        },
        {
          "output_type": "stream",
          "name": "stderr",
          "text": [
            "      42/50      2.19G      1.651      1.327      2.384          1        640: 100%|██████████| 158/158 [00:49<00:00,  3.19it/s]\n",
            "                 Class     Images  Instances      Box(P          R      mAP50  mAP50-95): 100%|██████████| 12/12 [00:03<00:00,  3.75it/s]"
          ]
        },
        {
          "output_type": "stream",
          "name": "stdout",
          "text": [
            "                   all        371        288      0.731      0.528      0.601      0.263\n"
          ]
        },
        {
          "output_type": "stream",
          "name": "stderr",
          "text": [
            "\n"
          ]
        },
        {
          "output_type": "stream",
          "name": "stdout",
          "text": [
            "\n",
            "      Epoch    GPU_mem   box_loss   cls_loss   dfl_loss  Instances       Size\n"
          ]
        },
        {
          "output_type": "stream",
          "name": "stderr",
          "text": [
            "      43/50      2.18G      1.639      1.313      2.354          2        640: 100%|██████████| 158/158 [00:50<00:00,  3.15it/s]\n",
            "                 Class     Images  Instances      Box(P          R      mAP50  mAP50-95): 100%|██████████| 12/12 [00:02<00:00,  4.19it/s]"
          ]
        },
        {
          "output_type": "stream",
          "name": "stdout",
          "text": [
            "                   all        371        288      0.733      0.528      0.607       0.26\n"
          ]
        },
        {
          "output_type": "stream",
          "name": "stderr",
          "text": [
            "\n"
          ]
        },
        {
          "output_type": "stream",
          "name": "stdout",
          "text": [
            "\n",
            "      Epoch    GPU_mem   box_loss   cls_loss   dfl_loss  Instances       Size\n"
          ]
        },
        {
          "output_type": "stream",
          "name": "stderr",
          "text": [
            "      44/50      2.19G      1.641      1.289      2.366          1        640: 100%|██████████| 158/158 [00:49<00:00,  3.17it/s]\n",
            "                 Class     Images  Instances      Box(P          R      mAP50  mAP50-95): 100%|██████████| 12/12 [00:03<00:00,  3.96it/s]"
          ]
        },
        {
          "output_type": "stream",
          "name": "stdout",
          "text": [
            "                   all        371        288      0.768      0.531      0.589      0.265\n"
          ]
        },
        {
          "output_type": "stream",
          "name": "stderr",
          "text": [
            "\n"
          ]
        },
        {
          "output_type": "stream",
          "name": "stdout",
          "text": [
            "\n",
            "      Epoch    GPU_mem   box_loss   cls_loss   dfl_loss  Instances       Size\n"
          ]
        },
        {
          "output_type": "stream",
          "name": "stderr",
          "text": [
            "      45/50      2.18G      1.633      1.285       2.35          2        640: 100%|██████████| 158/158 [00:54<00:00,  2.90it/s]\n",
            "                 Class     Images  Instances      Box(P          R      mAP50  mAP50-95): 100%|██████████| 12/12 [00:02<00:00,  4.21it/s]"
          ]
        },
        {
          "output_type": "stream",
          "name": "stdout",
          "text": [
            "                   all        371        288      0.755      0.569      0.607      0.274\n"
          ]
        },
        {
          "output_type": "stream",
          "name": "stderr",
          "text": [
            "\n"
          ]
        },
        {
          "output_type": "stream",
          "name": "stdout",
          "text": [
            "\n",
            "      Epoch    GPU_mem   box_loss   cls_loss   dfl_loss  Instances       Size\n"
          ]
        },
        {
          "output_type": "stream",
          "name": "stderr",
          "text": [
            "      46/50      2.19G      1.606      1.241      2.315          1        640: 100%|██████████| 158/158 [00:51<00:00,  3.09it/s]\n",
            "                 Class     Images  Instances      Box(P          R      mAP50  mAP50-95): 100%|██████████| 12/12 [00:02<00:00,  4.20it/s]"
          ]
        },
        {
          "output_type": "stream",
          "name": "stdout",
          "text": [
            "                   all        371        288      0.791       0.54      0.612      0.277\n"
          ]
        },
        {
          "output_type": "stream",
          "name": "stderr",
          "text": [
            "\n"
          ]
        },
        {
          "output_type": "stream",
          "name": "stdout",
          "text": [
            "\n",
            "      Epoch    GPU_mem   box_loss   cls_loss   dfl_loss  Instances       Size\n"
          ]
        },
        {
          "output_type": "stream",
          "name": "stderr",
          "text": [
            "      47/50      2.18G      1.598      1.223      2.313          3        640: 100%|██████████| 158/158 [00:50<00:00,  3.11it/s]\n",
            "                 Class     Images  Instances      Box(P          R      mAP50  mAP50-95): 100%|██████████| 12/12 [00:03<00:00,  3.98it/s]"
          ]
        },
        {
          "output_type": "stream",
          "name": "stdout",
          "text": [
            "                   all        371        288      0.786      0.562      0.608      0.279\n"
          ]
        },
        {
          "output_type": "stream",
          "name": "stderr",
          "text": [
            "\n"
          ]
        },
        {
          "output_type": "stream",
          "name": "stdout",
          "text": [
            "\n",
            "      Epoch    GPU_mem   box_loss   cls_loss   dfl_loss  Instances       Size\n"
          ]
        },
        {
          "output_type": "stream",
          "name": "stderr",
          "text": [
            "      48/50      2.19G      1.591      1.233      2.301          2        640: 100%|██████████| 158/158 [00:50<00:00,  3.12it/s]\n",
            "                 Class     Images  Instances      Box(P          R      mAP50  mAP50-95): 100%|██████████| 12/12 [00:03<00:00,  3.15it/s]"
          ]
        },
        {
          "output_type": "stream",
          "name": "stdout",
          "text": [
            "                   all        371        288      0.771      0.552      0.617      0.286\n"
          ]
        },
        {
          "output_type": "stream",
          "name": "stderr",
          "text": [
            "\n"
          ]
        },
        {
          "output_type": "stream",
          "name": "stdout",
          "text": [
            "\n",
            "      Epoch    GPU_mem   box_loss   cls_loss   dfl_loss  Instances       Size\n"
          ]
        },
        {
          "output_type": "stream",
          "name": "stderr",
          "text": [
            "      49/50      2.18G      1.584      1.162      2.295          5        640: 100%|██████████| 158/158 [00:47<00:00,  3.33it/s]\n",
            "                 Class     Images  Instances      Box(P          R      mAP50  mAP50-95): 100%|██████████| 12/12 [00:05<00:00,  2.36it/s]"
          ]
        },
        {
          "output_type": "stream",
          "name": "stdout",
          "text": [
            "                   all        371        288      0.709      0.583      0.619      0.285\n"
          ]
        },
        {
          "output_type": "stream",
          "name": "stderr",
          "text": [
            "\n"
          ]
        },
        {
          "output_type": "stream",
          "name": "stdout",
          "text": [
            "\n",
            "      Epoch    GPU_mem   box_loss   cls_loss   dfl_loss  Instances       Size\n"
          ]
        },
        {
          "output_type": "stream",
          "name": "stderr",
          "text": [
            "      50/50      2.19G      1.575      1.179      2.306          4        640: 100%|██████████| 158/158 [00:49<00:00,  3.19it/s]\n",
            "                 Class     Images  Instances      Box(P          R      mAP50  mAP50-95): 100%|██████████| 12/12 [00:04<00:00,  2.70it/s]"
          ]
        },
        {
          "output_type": "stream",
          "name": "stdout",
          "text": [
            "                   all        371        288      0.755      0.547      0.621      0.286\n"
          ]
        },
        {
          "output_type": "stream",
          "name": "stderr",
          "text": [
            "\n"
          ]
        },
        {
          "output_type": "stream",
          "name": "stdout",
          "text": [
            "\n",
            "50 epochs completed in 0.795 hours.\n",
            "Optimizer stripped from runs/detect/train/weights/last.pt, 6.2MB\n",
            "Optimizer stripped from runs/detect/train/weights/best.pt, 6.2MB\n",
            "\n",
            "Validating runs/detect/train/weights/best.pt...\n",
            "WARNING ⚠️ validating an untrained model YAML will result in 0 mAP.\n",
            "Ultralytics 8.3.34 🚀 Python-3.10.12 torch-2.5.1+cu121 CUDA:0 (Tesla T4, 15102MiB)\n",
            "YOLOv8n summary (fused): 168 layers, 3,005,843 parameters, 0 gradients, 8.1 GFLOPs\n"
          ]
        },
        {
          "output_type": "stream",
          "name": "stderr",
          "text": [
            "                 Class     Images  Instances      Box(P          R      mAP50  mAP50-95): 100%|██████████| 12/12 [00:05<00:00,  2.18it/s]\n"
          ]
        },
        {
          "output_type": "stream",
          "name": "stdout",
          "text": [
            "                   all        371        288      0.755      0.547      0.621      0.286\n",
            "Speed: 0.3ms preprocess, 2.6ms inference, 0.0ms loss, 3.5ms postprocess per image\n",
            "Results saved to \u001b[1mruns/detect/train\u001b[0m\n"
          ]
        },
        {
          "output_type": "execute_result",
          "data": {
            "text/plain": [
              "ultralytics.utils.metrics.DetMetrics object with attributes:\n",
              "\n",
              "ap_class_index: array([0])\n",
              "box: ultralytics.utils.metrics.Metric object\n",
              "confusion_matrix: <ultralytics.utils.metrics.ConfusionMatrix object at 0x7ecc62990460>\n",
              "curves: ['Precision-Recall(B)', 'F1-Confidence(B)', 'Precision-Confidence(B)', 'Recall-Confidence(B)']\n",
              "curves_results: [[array([          0,    0.001001,    0.002002,    0.003003,    0.004004,    0.005005,    0.006006,    0.007007,    0.008008,    0.009009,     0.01001,    0.011011,    0.012012,    0.013013,    0.014014,    0.015015,    0.016016,    0.017017,    0.018018,    0.019019,     0.02002,    0.021021,    0.022022,    0.023023,\n",
              "          0.024024,    0.025025,    0.026026,    0.027027,    0.028028,    0.029029,     0.03003,    0.031031,    0.032032,    0.033033,    0.034034,    0.035035,    0.036036,    0.037037,    0.038038,    0.039039,     0.04004,    0.041041,    0.042042,    0.043043,    0.044044,    0.045045,    0.046046,    0.047047,\n",
              "          0.048048,    0.049049,     0.05005,    0.051051,    0.052052,    0.053053,    0.054054,    0.055055,    0.056056,    0.057057,    0.058058,    0.059059,     0.06006,    0.061061,    0.062062,    0.063063,    0.064064,    0.065065,    0.066066,    0.067067,    0.068068,    0.069069,     0.07007,    0.071071,\n",
              "          0.072072,    0.073073,    0.074074,    0.075075,    0.076076,    0.077077,    0.078078,    0.079079,     0.08008,    0.081081,    0.082082,    0.083083,    0.084084,    0.085085,    0.086086,    0.087087,    0.088088,    0.089089,     0.09009,    0.091091,    0.092092,    0.093093,    0.094094,    0.095095,\n",
              "          0.096096,    0.097097,    0.098098,    0.099099,      0.1001,      0.1011,      0.1021,      0.1031,      0.1041,     0.10511,     0.10611,     0.10711,     0.10811,     0.10911,     0.11011,     0.11111,     0.11211,     0.11311,     0.11411,     0.11512,     0.11612,     0.11712,     0.11812,     0.11912,\n",
              "           0.12012,     0.12112,     0.12212,     0.12312,     0.12412,     0.12513,     0.12613,     0.12713,     0.12813,     0.12913,     0.13013,     0.13113,     0.13213,     0.13313,     0.13413,     0.13514,     0.13614,     0.13714,     0.13814,     0.13914,     0.14014,     0.14114,     0.14214,     0.14314,\n",
              "           0.14414,     0.14515,     0.14615,     0.14715,     0.14815,     0.14915,     0.15015,     0.15115,     0.15215,     0.15315,     0.15415,     0.15516,     0.15616,     0.15716,     0.15816,     0.15916,     0.16016,     0.16116,     0.16216,     0.16316,     0.16416,     0.16517,     0.16617,     0.16717,\n",
              "           0.16817,     0.16917,     0.17017,     0.17117,     0.17217,     0.17317,     0.17417,     0.17518,     0.17618,     0.17718,     0.17818,     0.17918,     0.18018,     0.18118,     0.18218,     0.18318,     0.18418,     0.18519,     0.18619,     0.18719,     0.18819,     0.18919,     0.19019,     0.19119,\n",
              "           0.19219,     0.19319,     0.19419,      0.1952,      0.1962,      0.1972,      0.1982,      0.1992,      0.2002,      0.2012,      0.2022,      0.2032,      0.2042,     0.20521,     0.20621,     0.20721,     0.20821,     0.20921,     0.21021,     0.21121,     0.21221,     0.21321,     0.21421,     0.21522,\n",
              "           0.21622,     0.21722,     0.21822,     0.21922,     0.22022,     0.22122,     0.22222,     0.22322,     0.22422,     0.22523,     0.22623,     0.22723,     0.22823,     0.22923,     0.23023,     0.23123,     0.23223,     0.23323,     0.23423,     0.23524,     0.23624,     0.23724,     0.23824,     0.23924,\n",
              "           0.24024,     0.24124,     0.24224,     0.24324,     0.24424,     0.24525,     0.24625,     0.24725,     0.24825,     0.24925,     0.25025,     0.25125,     0.25225,     0.25325,     0.25425,     0.25526,     0.25626,     0.25726,     0.25826,     0.25926,     0.26026,     0.26126,     0.26226,     0.26326,\n",
              "           0.26426,     0.26527,     0.26627,     0.26727,     0.26827,     0.26927,     0.27027,     0.27127,     0.27227,     0.27327,     0.27427,     0.27528,     0.27628,     0.27728,     0.27828,     0.27928,     0.28028,     0.28128,     0.28228,     0.28328,     0.28428,     0.28529,     0.28629,     0.28729,\n",
              "           0.28829,     0.28929,     0.29029,     0.29129,     0.29229,     0.29329,     0.29429,      0.2953,      0.2963,      0.2973,      0.2983,      0.2993,      0.3003,      0.3013,      0.3023,      0.3033,      0.3043,     0.30531,     0.30631,     0.30731,     0.30831,     0.30931,     0.31031,     0.31131,\n",
              "           0.31231,     0.31331,     0.31431,     0.31532,     0.31632,     0.31732,     0.31832,     0.31932,     0.32032,     0.32132,     0.32232,     0.32332,     0.32432,     0.32533,     0.32633,     0.32733,     0.32833,     0.32933,     0.33033,     0.33133,     0.33233,     0.33333,     0.33433,     0.33534,\n",
              "           0.33634,     0.33734,     0.33834,     0.33934,     0.34034,     0.34134,     0.34234,     0.34334,     0.34434,     0.34535,     0.34635,     0.34735,     0.34835,     0.34935,     0.35035,     0.35135,     0.35235,     0.35335,     0.35435,     0.35536,     0.35636,     0.35736,     0.35836,     0.35936,\n",
              "           0.36036,     0.36136,     0.36236,     0.36336,     0.36436,     0.36537,     0.36637,     0.36737,     0.36837,     0.36937,     0.37037,     0.37137,     0.37237,     0.37337,     0.37437,     0.37538,     0.37638,     0.37738,     0.37838,     0.37938,     0.38038,     0.38138,     0.38238,     0.38338,\n",
              "           0.38438,     0.38539,     0.38639,     0.38739,     0.38839,     0.38939,     0.39039,     0.39139,     0.39239,     0.39339,     0.39439,      0.3954,      0.3964,      0.3974,      0.3984,      0.3994,      0.4004,      0.4014,      0.4024,      0.4034,      0.4044,     0.40541,     0.40641,     0.40741,\n",
              "           0.40841,     0.40941,     0.41041,     0.41141,     0.41241,     0.41341,     0.41441,     0.41542,     0.41642,     0.41742,     0.41842,     0.41942,     0.42042,     0.42142,     0.42242,     0.42342,     0.42442,     0.42543,     0.42643,     0.42743,     0.42843,     0.42943,     0.43043,     0.43143,\n",
              "           0.43243,     0.43343,     0.43443,     0.43544,     0.43644,     0.43744,     0.43844,     0.43944,     0.44044,     0.44144,     0.44244,     0.44344,     0.44444,     0.44545,     0.44645,     0.44745,     0.44845,     0.44945,     0.45045,     0.45145,     0.45245,     0.45345,     0.45445,     0.45546,\n",
              "           0.45646,     0.45746,     0.45846,     0.45946,     0.46046,     0.46146,     0.46246,     0.46346,     0.46446,     0.46547,     0.46647,     0.46747,     0.46847,     0.46947,     0.47047,     0.47147,     0.47247,     0.47347,     0.47447,     0.47548,     0.47648,     0.47748,     0.47848,     0.47948,\n",
              "           0.48048,     0.48148,     0.48248,     0.48348,     0.48448,     0.48549,     0.48649,     0.48749,     0.48849,     0.48949,     0.49049,     0.49149,     0.49249,     0.49349,     0.49449,      0.4955,      0.4965,      0.4975,      0.4985,      0.4995,      0.5005,      0.5015,      0.5025,      0.5035,\n",
              "            0.5045,     0.50551,     0.50651,     0.50751,     0.50851,     0.50951,     0.51051,     0.51151,     0.51251,     0.51351,     0.51451,     0.51552,     0.51652,     0.51752,     0.51852,     0.51952,     0.52052,     0.52152,     0.52252,     0.52352,     0.52452,     0.52553,     0.52653,     0.52753,\n",
              "           0.52853,     0.52953,     0.53053,     0.53153,     0.53253,     0.53353,     0.53453,     0.53554,     0.53654,     0.53754,     0.53854,     0.53954,     0.54054,     0.54154,     0.54254,     0.54354,     0.54454,     0.54555,     0.54655,     0.54755,     0.54855,     0.54955,     0.55055,     0.55155,\n",
              "           0.55255,     0.55355,     0.55455,     0.55556,     0.55656,     0.55756,     0.55856,     0.55956,     0.56056,     0.56156,     0.56256,     0.56356,     0.56456,     0.56557,     0.56657,     0.56757,     0.56857,     0.56957,     0.57057,     0.57157,     0.57257,     0.57357,     0.57457,     0.57558,\n",
              "           0.57658,     0.57758,     0.57858,     0.57958,     0.58058,     0.58158,     0.58258,     0.58358,     0.58458,     0.58559,     0.58659,     0.58759,     0.58859,     0.58959,     0.59059,     0.59159,     0.59259,     0.59359,     0.59459,      0.5956,      0.5966,      0.5976,      0.5986,      0.5996,\n",
              "            0.6006,      0.6016,      0.6026,      0.6036,      0.6046,     0.60561,     0.60661,     0.60761,     0.60861,     0.60961,     0.61061,     0.61161,     0.61261,     0.61361,     0.61461,     0.61562,     0.61662,     0.61762,     0.61862,     0.61962,     0.62062,     0.62162,     0.62262,     0.62362,\n",
              "           0.62462,     0.62563,     0.62663,     0.62763,     0.62863,     0.62963,     0.63063,     0.63163,     0.63263,     0.63363,     0.63463,     0.63564,     0.63664,     0.63764,     0.63864,     0.63964,     0.64064,     0.64164,     0.64264,     0.64364,     0.64464,     0.64565,     0.64665,     0.64765,\n",
              "           0.64865,     0.64965,     0.65065,     0.65165,     0.65265,     0.65365,     0.65465,     0.65566,     0.65666,     0.65766,     0.65866,     0.65966,     0.66066,     0.66166,     0.66266,     0.66366,     0.66466,     0.66567,     0.66667,     0.66767,     0.66867,     0.66967,     0.67067,     0.67167,\n",
              "           0.67267,     0.67367,     0.67467,     0.67568,     0.67668,     0.67768,     0.67868,     0.67968,     0.68068,     0.68168,     0.68268,     0.68368,     0.68468,     0.68569,     0.68669,     0.68769,     0.68869,     0.68969,     0.69069,     0.69169,     0.69269,     0.69369,     0.69469,      0.6957,\n",
              "            0.6967,      0.6977,      0.6987,      0.6997,      0.7007,      0.7017,      0.7027,      0.7037,      0.7047,     0.70571,     0.70671,     0.70771,     0.70871,     0.70971,     0.71071,     0.71171,     0.71271,     0.71371,     0.71471,     0.71572,     0.71672,     0.71772,     0.71872,     0.71972,\n",
              "           0.72072,     0.72172,     0.72272,     0.72372,     0.72472,     0.72573,     0.72673,     0.72773,     0.72873,     0.72973,     0.73073,     0.73173,     0.73273,     0.73373,     0.73473,     0.73574,     0.73674,     0.73774,     0.73874,     0.73974,     0.74074,     0.74174,     0.74274,     0.74374,\n",
              "           0.74474,     0.74575,     0.74675,     0.74775,     0.74875,     0.74975,     0.75075,     0.75175,     0.75275,     0.75375,     0.75475,     0.75576,     0.75676,     0.75776,     0.75876,     0.75976,     0.76076,     0.76176,     0.76276,     0.76376,     0.76476,     0.76577,     0.76677,     0.76777,\n",
              "           0.76877,     0.76977,     0.77077,     0.77177,     0.77277,     0.77377,     0.77477,     0.77578,     0.77678,     0.77778,     0.77878,     0.77978,     0.78078,     0.78178,     0.78278,     0.78378,     0.78478,     0.78579,     0.78679,     0.78779,     0.78879,     0.78979,     0.79079,     0.79179,\n",
              "           0.79279,     0.79379,     0.79479,      0.7958,      0.7968,      0.7978,      0.7988,      0.7998,      0.8008,      0.8018,      0.8028,      0.8038,      0.8048,     0.80581,     0.80681,     0.80781,     0.80881,     0.80981,     0.81081,     0.81181,     0.81281,     0.81381,     0.81481,     0.81582,\n",
              "           0.81682,     0.81782,     0.81882,     0.81982,     0.82082,     0.82182,     0.82282,     0.82382,     0.82482,     0.82583,     0.82683,     0.82783,     0.82883,     0.82983,     0.83083,     0.83183,     0.83283,     0.83383,     0.83483,     0.83584,     0.83684,     0.83784,     0.83884,     0.83984,\n",
              "           0.84084,     0.84184,     0.84284,     0.84384,     0.84484,     0.84585,     0.84685,     0.84785,     0.84885,     0.84985,     0.85085,     0.85185,     0.85285,     0.85385,     0.85485,     0.85586,     0.85686,     0.85786,     0.85886,     0.85986,     0.86086,     0.86186,     0.86286,     0.86386,\n",
              "           0.86486,     0.86587,     0.86687,     0.86787,     0.86887,     0.86987,     0.87087,     0.87187,     0.87287,     0.87387,     0.87487,     0.87588,     0.87688,     0.87788,     0.87888,     0.87988,     0.88088,     0.88188,     0.88288,     0.88388,     0.88488,     0.88589,     0.88689,     0.88789,\n",
              "           0.88889,     0.88989,     0.89089,     0.89189,     0.89289,     0.89389,     0.89489,      0.8959,      0.8969,      0.8979,      0.8989,      0.8999,      0.9009,      0.9019,      0.9029,      0.9039,      0.9049,     0.90591,     0.90691,     0.90791,     0.90891,     0.90991,     0.91091,     0.91191,\n",
              "           0.91291,     0.91391,     0.91491,     0.91592,     0.91692,     0.91792,     0.91892,     0.91992,     0.92092,     0.92192,     0.92292,     0.92392,     0.92492,     0.92593,     0.92693,     0.92793,     0.92893,     0.92993,     0.93093,     0.93193,     0.93293,     0.93393,     0.93493,     0.93594,\n",
              "           0.93694,     0.93794,     0.93894,     0.93994,     0.94094,     0.94194,     0.94294,     0.94394,     0.94494,     0.94595,     0.94695,     0.94795,     0.94895,     0.94995,     0.95095,     0.95195,     0.95295,     0.95395,     0.95495,     0.95596,     0.95696,     0.95796,     0.95896,     0.95996,\n",
              "           0.96096,     0.96196,     0.96296,     0.96396,     0.96496,     0.96597,     0.96697,     0.96797,     0.96897,     0.96997,     0.97097,     0.97197,     0.97297,     0.97397,     0.97497,     0.97598,     0.97698,     0.97798,     0.97898,     0.97998,     0.98098,     0.98198,     0.98298,     0.98398,\n",
              "           0.98498,     0.98599,     0.98699,     0.98799,     0.98899,     0.98999,     0.99099,     0.99199,     0.99299,     0.99399,     0.99499,       0.996,       0.997,       0.998,       0.999,           1]), array([[          1,           1,           1,           1,           1,           1,           1,           1,           1,           1,           1,           1,           1,           1,           1,           1,           1,           1,           1,           1,           1,           1,           1,\n",
              "                  1,           1,           1,           1,           1,           1,           1,           1,           1,           1,           1,           1,           1,           1,           1,           1,     0.98611,     0.98611,     0.98611,     0.98611,     0.98611,     0.98611,     0.98611,\n",
              "            0.98611,     0.98611,     0.98611,     0.98611,     0.98611,     0.98611,     0.98611,     0.98611,     0.98611,     0.98611,     0.98611,     0.98611,     0.98611,     0.98611,     0.98611,     0.98611,     0.98611,     0.98611,     0.98611,     0.98611,     0.98611,     0.98611,     0.98611,\n",
              "            0.98611,     0.98611,     0.98611,     0.98611,     0.98611,     0.98611,     0.98611,     0.98611,     0.98611,     0.98611,     0.98611,     0.98611,     0.98611,     0.98611,     0.98611,     0.98611,     0.98611,     0.98611,     0.98611,     0.98611,     0.98611,     0.98611,     0.98611,\n",
              "            0.98611,     0.98611,     0.98611,     0.98611,     0.98611,     0.98611,     0.98611,     0.98611,     0.98611,     0.98611,     0.98611,     0.98611,     0.98611,     0.98611,     0.98611,     0.98611,     0.98611,     0.98611,     0.98611,     0.98611,     0.98611,     0.98611,     0.98611,\n",
              "            0.98611,     0.98611,     0.98611,     0.98611,     0.98611,     0.98611,     0.98611,     0.98611,     0.98611,     0.98611,     0.98611,     0.98611,     0.98611,     0.98611,     0.98611,     0.98611,     0.98611,     0.98611,     0.98611,     0.98611,     0.98611,     0.98611,     0.98611,\n",
              "            0.98611,     0.98611,     0.98611,     0.98611,     0.98611,     0.98611,     0.98611,     0.98611,     0.98611,     0.98611,     0.98611,     0.98611,     0.98611,     0.98611,     0.98611,     0.98611,     0.98611,     0.98611,     0.98611,     0.98611,     0.98611,     0.98611,     0.98611,\n",
              "            0.98611,     0.98611,     0.98611,     0.98611,     0.98611,     0.98611,     0.98611,     0.98611,     0.98611,     0.98611,     0.98611,     0.98611,     0.98611,     0.98611,     0.98611,     0.98611,     0.98611,     0.98611,     0.98611,     0.98611,     0.98611,     0.98611,     0.98611,\n",
              "            0.98611,     0.98611,     0.98611,     0.98611,     0.98611,     0.98611,     0.98611,     0.98611,     0.98611,     0.98611,     0.98611,     0.98611,     0.98611,     0.98611,     0.98611,     0.98611,     0.98611,     0.98611,     0.98611,     0.98611,     0.98611,     0.98611,     0.98611,\n",
              "            0.98611,     0.98611,     0.98611,     0.98611,     0.98611,     0.98611,     0.98611,     0.98611,     0.98611,     0.98611,     0.98611,     0.98611,     0.98611,     0.98611,     0.98611,     0.98611,     0.98611,     0.98611,     0.98611,     0.98611,     0.98611,     0.98611,     0.98611,\n",
              "            0.98611,     0.98611,     0.98611,     0.98611,     0.98611,     0.98611,     0.98611,     0.98611,     0.98611,     0.98611,     0.98611,     0.98611,     0.98611,     0.98611,     0.98611,     0.98611,     0.98611,     0.97403,     0.97403,     0.97403,     0.97403,     0.97403,     0.97403,\n",
              "            0.97403,     0.97403,     0.97403,     0.97403,     0.97403,     0.97403,     0.97403,     0.97403,     0.94118,     0.94118,     0.94118,     0.94118,     0.94118,     0.94118,     0.94118,     0.94118,     0.94118,     0.94118,     0.94118,     0.94118,     0.94118,     0.94118,     0.94118,\n",
              "            0.94118,     0.94118,     0.92391,     0.92391,     0.92391,     0.92391,     0.92391,     0.92391,     0.92391,     0.92391,     0.92391,     0.92391,     0.92391,     0.92391,     0.92391,     0.92391,     0.92391,     0.92391,     0.92391,     0.91753,     0.91753,     0.91753,     0.91753,\n",
              "            0.91753,     0.91753,     0.91753,     0.91753,     0.91753,     0.91753,     0.91753,     0.91753,     0.91753,     0.91753,      0.8835,      0.8835,      0.8835,      0.8835,      0.8835,      0.8835,      0.8835,     0.87736,     0.87736,     0.87736,     0.87736,     0.87736,     0.87736,\n",
              "            0.87736,     0.87387,     0.87387,     0.87387,     0.87387,     0.87387,     0.87387,     0.87387,     0.87387,     0.87387,     0.87387,     0.87387,     0.87387,     0.87387,     0.87387,     0.86957,     0.86957,     0.86957,     0.86957,     0.86957,     0.86957,     0.86957,     0.86957,\n",
              "            0.86957,     0.86957,     0.86885,     0.86885,     0.86885,     0.86885,     0.86885,     0.86885,     0.86885,     0.86885,     0.86885,     0.86885,     0.86885,     0.86885,     0.86885,     0.86885,     0.86885,     0.86885,     0.86885,     0.86885,     0.86885,     0.86885,     0.86885,\n",
              "            0.85938,     0.85938,     0.85938,     0.85938,     0.85938,     0.85938,     0.85938,     0.85938,     0.85938,     0.85938,     0.85938,     0.85938,     0.85938,     0.85938,     0.85385,     0.85385,     0.85385,     0.85385,     0.84328,     0.84328,     0.84328,     0.84328,     0.84328,\n",
              "            0.84328,     0.83974,     0.83974,     0.83974,     0.83974,     0.83974,     0.83974,     0.83974,     0.83974,     0.83974,     0.83974,     0.83974,     0.83974,     0.83974,     0.83974,     0.83974,     0.83974,     0.83974,     0.83974,     0.83974,     0.83974,     0.83974,     0.83974,\n",
              "            0.83974,     0.83974,     0.83974,     0.83974,     0.83974,     0.83974,     0.83974,     0.83974,     0.83974,     0.83974,     0.83974,     0.83974,     0.83974,     0.83974,     0.83974,     0.83974,     0.83974,     0.83974,     0.83974,     0.83974,     0.83974,     0.83974,     0.83974,\n",
              "            0.83974,     0.83974,     0.83974,     0.83974,     0.83974,     0.83974,     0.83974,     0.83974,     0.83974,     0.83974,     0.83974,     0.83974,     0.83974,     0.83974,     0.83974,     0.83974,     0.83974,     0.83974,      0.8303,      0.8303,      0.8303,      0.8303,      0.8303,\n",
              "             0.8303,      0.8303,      0.8303,      0.8303,      0.8303,      0.8303,      0.8303,      0.8303,      0.8303,      0.8303,      0.8303,      0.8303,      0.8303,      0.8303,      0.8303,      0.8303,      0.8284,      0.8284,      0.8284,      0.8284,      0.8284,      0.8284,      0.8284,\n",
              "             0.8284,      0.8284,      0.8284,     0.82286,     0.82286,     0.82286,     0.82286,     0.82286,     0.82286,     0.82286,     0.82286,     0.82286,     0.82286,     0.82286,     0.82286,     0.82286,     0.82286,     0.81921,     0.81921,     0.81921,     0.81421,     0.81421,     0.81421,\n",
              "            0.81421,     0.81421,     0.81421,     0.81421,     0.81421,     0.81421,     0.81421,     0.81421,     0.81421,     0.81421,     0.81421,     0.81081,     0.81081,     0.81081,     0.81081,     0.80749,     0.80749,     0.80749,     0.79167,     0.79167,     0.79167,     0.79167,     0.78866,\n",
              "            0.78866,     0.78866,     0.78788,     0.78788,     0.78788,     0.78788,     0.78788,     0.78788,     0.78788,     0.78788,     0.78788,     0.78788,     0.78788,     0.75845,     0.75845,     0.75845,     0.75598,     0.75598,     0.75598,     0.75598,        0.75,        0.75,        0.75,\n",
              "            0.73853,     0.73853,     0.73853,     0.73853,     0.73853,     0.73853,     0.73853,     0.73756,     0.73756,     0.73756,     0.73756,     0.73756,     0.73756,     0.73756,      0.7193,      0.7193,      0.7193,     0.71429,     0.71429,     0.71429,     0.71429,      0.7094,      0.7094,\n",
              "             0.7094,     0.69547,     0.69547,     0.69547,     0.69547,     0.69547,     0.69547,     0.69547,     0.69547,     0.69547,     0.69547,     0.69547,     0.68826,     0.68826,     0.68826,     0.67589,     0.67589,     0.67589,     0.67589,     0.66284,     0.66284,     0.66284,     0.66284,\n",
              "            0.66284,     0.66284,     0.66284,     0.65169,     0.65169,     0.65169,     0.65056,     0.65056,     0.65056,     0.65056,     0.63768,     0.63768,     0.63768,     0.61458,     0.61458,     0.61458,     0.60751,     0.60751,     0.60751,     0.60751,     0.60473,     0.60473,     0.60473,\n",
              "            0.57508,     0.57508,     0.57508,     0.57508,     0.55488,     0.55488,     0.55488,     0.55488,     0.55488,     0.55488,     0.55488,     0.53198,     0.53198,     0.53198,     0.51397,     0.51397,     0.51397,     0.51397,     0.49465,     0.49465,     0.49465,      0.4934,      0.4934,\n",
              "             0.4934,      0.4934,      0.4934,      0.4934,      0.4934,     0.48705,     0.48705,     0.48705,     0.48705,     0.47607,     0.47607,     0.47607,     0.46455,     0.46455,     0.46455,     0.46455,     0.43311,     0.43311,     0.43311,     0.43146,     0.43146,     0.43146,     0.42418,\n",
              "            0.42418,     0.42418,     0.42418,     0.40586,     0.40586,     0.40586,     0.40206,     0.40206,     0.40206,     0.40206,     0.40164,     0.40164,     0.40164,     0.39479,     0.39479,     0.39479,     0.39479,       0.389,       0.389,       0.389,     0.38867,     0.38867,     0.38867,\n",
              "            0.38867,     0.37951,     0.37951,     0.37951,     0.36612,     0.36612,     0.36612,     0.36612,     0.36201,     0.36201,     0.36201,     0.35979,     0.35979,     0.35979,     0.35979,     0.35979,     0.35979,     0.35979,     0.34167,     0.34167,     0.34167,     0.34167,     0.33993,\n",
              "            0.33993,     0.33993,     0.33659,     0.33659,     0.33659,     0.33659,     0.33174,     0.33174,     0.33174,     0.29772,     0.29772,     0.29772,     0.29207,     0.29207,     0.29207,     0.29207,     0.28668,     0.28668,     0.28668,     0.27075,     0.27075,     0.27075,     0.27075,\n",
              "            0.24711,     0.24711,     0.24711,     0.24711,     0.24711,     0.24711,     0.24711,     0.22571,     0.22571,     0.22571,     0.22571,     0.22571,     0.22571,     0.22571,     0.20686,     0.20686,     0.20686,     0.20111,     0.20111,     0.20111,     0.20111,      0.1798,      0.1798,\n",
              "             0.1798,     0.17309,     0.17309,     0.17309,     0.17309,     0.15199,     0.15199,     0.15199,     0.14939,     0.14939,     0.14939,     0.14939,     0.13466,     0.13466,     0.13466,     0.13397,     0.13397,     0.13397,     0.13274,     0.13274,     0.13274,     0.13274,     0.11437,\n",
              "            0.11437,     0.11437,     0.11271,     0.11271,     0.11271,     0.11271,     0.11259,     0.11259,     0.11259,     0.11176,     0.11176,     0.11176,     0.11176,     0.11063,     0.11063,     0.11063,      0.1019,      0.1019,      0.1019,      0.1019,    0.099528,    0.099528,    0.099528,\n",
              "           0.095727,    0.095727,    0.095727,    0.095727,    0.093525,    0.093525,    0.093525,    0.092326,    0.092326,    0.092326,    0.092326,    0.092326,    0.092326,    0.092326,    0.092326,    0.092326,    0.092326,    0.092326,    0.091715,    0.091715,    0.091715,    0.089951,    0.089951,\n",
              "           0.089951,    0.089951,    0.082873,    0.082873,    0.082873,    0.082253,    0.082253,    0.082253,    0.081564,    0.081564,    0.081564,    0.081564,    0.080528,    0.080528,    0.080528,    0.080528,    0.080528,    0.080528,    0.080528,    0.079179,    0.078658,    0.078137,    0.077616,\n",
              "           0.077095,    0.076575,    0.076054,    0.075533,    0.075012,    0.074491,     0.07397,    0.073449,    0.072928,    0.072407,    0.071886,    0.071365,    0.070845,    0.070324,    0.069803,    0.069282,    0.068761,     0.06824,    0.067719,    0.067198,    0.066677,    0.066156,    0.065635,\n",
              "           0.065114,    0.064594,    0.064073,    0.063552,    0.063031,     0.06251,    0.061989,    0.061468,    0.060947,    0.060426,    0.059905,    0.059384,    0.058863,    0.058343,    0.057822,    0.057301,     0.05678,    0.056259,    0.055738,    0.055217,    0.054696,    0.054175,    0.053654,\n",
              "           0.053133,    0.052612,    0.052092,    0.051571,     0.05105,    0.050529,    0.050008,    0.049487,    0.048966,    0.048445,    0.047924,    0.047403,    0.046882,    0.046361,    0.045841,     0.04532,    0.044799,    0.044278,    0.043757,    0.043236,    0.042715,    0.042194,    0.041673,\n",
              "           0.041152,    0.040631,     0.04011,     0.03959,    0.039069,    0.038548,    0.038027,    0.037506,    0.036985,    0.036464,    0.035943,    0.035422,    0.034901,     0.03438,     0.03386,    0.033339,    0.032818,    0.032297,    0.031776,    0.031255,    0.030734,    0.030213,    0.029692,\n",
              "           0.029171,     0.02865,    0.028129,    0.027609,    0.027088,    0.026567,    0.026046,    0.025525,    0.025004,    0.024483,    0.023962,    0.023441,     0.02292,    0.022399,    0.021878,    0.021358,    0.020837,    0.020316,    0.019795,    0.019274,    0.018753,    0.018232,    0.017711,\n",
              "            0.01719,    0.016669,    0.016148,    0.015627,    0.015107,    0.014586,    0.014065,    0.013544,    0.013023,    0.012502,    0.011981,     0.01146,    0.010939,    0.010418,   0.0098974,   0.0093765,   0.0088556,   0.0083346,   0.0078137,   0.0072928,   0.0067719,    0.006251,   0.0057301,\n",
              "          0.0052092,   0.0046882,   0.0041673,   0.0036464,   0.0031255,   0.0026046,   0.0020837,   0.0015627,   0.0010418,  0.00052092,           0]]), 'Recall', 'Precision'], [array([          0,    0.001001,    0.002002,    0.003003,    0.004004,    0.005005,    0.006006,    0.007007,    0.008008,    0.009009,     0.01001,    0.011011,    0.012012,    0.013013,    0.014014,    0.015015,    0.016016,    0.017017,    0.018018,    0.019019,     0.02002,    0.021021,    0.022022,    0.023023,\n",
              "          0.024024,    0.025025,    0.026026,    0.027027,    0.028028,    0.029029,     0.03003,    0.031031,    0.032032,    0.033033,    0.034034,    0.035035,    0.036036,    0.037037,    0.038038,    0.039039,     0.04004,    0.041041,    0.042042,    0.043043,    0.044044,    0.045045,    0.046046,    0.047047,\n",
              "          0.048048,    0.049049,     0.05005,    0.051051,    0.052052,    0.053053,    0.054054,    0.055055,    0.056056,    0.057057,    0.058058,    0.059059,     0.06006,    0.061061,    0.062062,    0.063063,    0.064064,    0.065065,    0.066066,    0.067067,    0.068068,    0.069069,     0.07007,    0.071071,\n",
              "          0.072072,    0.073073,    0.074074,    0.075075,    0.076076,    0.077077,    0.078078,    0.079079,     0.08008,    0.081081,    0.082082,    0.083083,    0.084084,    0.085085,    0.086086,    0.087087,    0.088088,    0.089089,     0.09009,    0.091091,    0.092092,    0.093093,    0.094094,    0.095095,\n",
              "          0.096096,    0.097097,    0.098098,    0.099099,      0.1001,      0.1011,      0.1021,      0.1031,      0.1041,     0.10511,     0.10611,     0.10711,     0.10811,     0.10911,     0.11011,     0.11111,     0.11211,     0.11311,     0.11411,     0.11512,     0.11612,     0.11712,     0.11812,     0.11912,\n",
              "           0.12012,     0.12112,     0.12212,     0.12312,     0.12412,     0.12513,     0.12613,     0.12713,     0.12813,     0.12913,     0.13013,     0.13113,     0.13213,     0.13313,     0.13413,     0.13514,     0.13614,     0.13714,     0.13814,     0.13914,     0.14014,     0.14114,     0.14214,     0.14314,\n",
              "           0.14414,     0.14515,     0.14615,     0.14715,     0.14815,     0.14915,     0.15015,     0.15115,     0.15215,     0.15315,     0.15415,     0.15516,     0.15616,     0.15716,     0.15816,     0.15916,     0.16016,     0.16116,     0.16216,     0.16316,     0.16416,     0.16517,     0.16617,     0.16717,\n",
              "           0.16817,     0.16917,     0.17017,     0.17117,     0.17217,     0.17317,     0.17417,     0.17518,     0.17618,     0.17718,     0.17818,     0.17918,     0.18018,     0.18118,     0.18218,     0.18318,     0.18418,     0.18519,     0.18619,     0.18719,     0.18819,     0.18919,     0.19019,     0.19119,\n",
              "           0.19219,     0.19319,     0.19419,      0.1952,      0.1962,      0.1972,      0.1982,      0.1992,      0.2002,      0.2012,      0.2022,      0.2032,      0.2042,     0.20521,     0.20621,     0.20721,     0.20821,     0.20921,     0.21021,     0.21121,     0.21221,     0.21321,     0.21421,     0.21522,\n",
              "           0.21622,     0.21722,     0.21822,     0.21922,     0.22022,     0.22122,     0.22222,     0.22322,     0.22422,     0.22523,     0.22623,     0.22723,     0.22823,     0.22923,     0.23023,     0.23123,     0.23223,     0.23323,     0.23423,     0.23524,     0.23624,     0.23724,     0.23824,     0.23924,\n",
              "           0.24024,     0.24124,     0.24224,     0.24324,     0.24424,     0.24525,     0.24625,     0.24725,     0.24825,     0.24925,     0.25025,     0.25125,     0.25225,     0.25325,     0.25425,     0.25526,     0.25626,     0.25726,     0.25826,     0.25926,     0.26026,     0.26126,     0.26226,     0.26326,\n",
              "           0.26426,     0.26527,     0.26627,     0.26727,     0.26827,     0.26927,     0.27027,     0.27127,     0.27227,     0.27327,     0.27427,     0.27528,     0.27628,     0.27728,     0.27828,     0.27928,     0.28028,     0.28128,     0.28228,     0.28328,     0.28428,     0.28529,     0.28629,     0.28729,\n",
              "           0.28829,     0.28929,     0.29029,     0.29129,     0.29229,     0.29329,     0.29429,      0.2953,      0.2963,      0.2973,      0.2983,      0.2993,      0.3003,      0.3013,      0.3023,      0.3033,      0.3043,     0.30531,     0.30631,     0.30731,     0.30831,     0.30931,     0.31031,     0.31131,\n",
              "           0.31231,     0.31331,     0.31431,     0.31532,     0.31632,     0.31732,     0.31832,     0.31932,     0.32032,     0.32132,     0.32232,     0.32332,     0.32432,     0.32533,     0.32633,     0.32733,     0.32833,     0.32933,     0.33033,     0.33133,     0.33233,     0.33333,     0.33433,     0.33534,\n",
              "           0.33634,     0.33734,     0.33834,     0.33934,     0.34034,     0.34134,     0.34234,     0.34334,     0.34434,     0.34535,     0.34635,     0.34735,     0.34835,     0.34935,     0.35035,     0.35135,     0.35235,     0.35335,     0.35435,     0.35536,     0.35636,     0.35736,     0.35836,     0.35936,\n",
              "           0.36036,     0.36136,     0.36236,     0.36336,     0.36436,     0.36537,     0.36637,     0.36737,     0.36837,     0.36937,     0.37037,     0.37137,     0.37237,     0.37337,     0.37437,     0.37538,     0.37638,     0.37738,     0.37838,     0.37938,     0.38038,     0.38138,     0.38238,     0.38338,\n",
              "           0.38438,     0.38539,     0.38639,     0.38739,     0.38839,     0.38939,     0.39039,     0.39139,     0.39239,     0.39339,     0.39439,      0.3954,      0.3964,      0.3974,      0.3984,      0.3994,      0.4004,      0.4014,      0.4024,      0.4034,      0.4044,     0.40541,     0.40641,     0.40741,\n",
              "           0.40841,     0.40941,     0.41041,     0.41141,     0.41241,     0.41341,     0.41441,     0.41542,     0.41642,     0.41742,     0.41842,     0.41942,     0.42042,     0.42142,     0.42242,     0.42342,     0.42442,     0.42543,     0.42643,     0.42743,     0.42843,     0.42943,     0.43043,     0.43143,\n",
              "           0.43243,     0.43343,     0.43443,     0.43544,     0.43644,     0.43744,     0.43844,     0.43944,     0.44044,     0.44144,     0.44244,     0.44344,     0.44444,     0.44545,     0.44645,     0.44745,     0.44845,     0.44945,     0.45045,     0.45145,     0.45245,     0.45345,     0.45445,     0.45546,\n",
              "           0.45646,     0.45746,     0.45846,     0.45946,     0.46046,     0.46146,     0.46246,     0.46346,     0.46446,     0.46547,     0.46647,     0.46747,     0.46847,     0.46947,     0.47047,     0.47147,     0.47247,     0.47347,     0.47447,     0.47548,     0.47648,     0.47748,     0.47848,     0.47948,\n",
              "           0.48048,     0.48148,     0.48248,     0.48348,     0.48448,     0.48549,     0.48649,     0.48749,     0.48849,     0.48949,     0.49049,     0.49149,     0.49249,     0.49349,     0.49449,      0.4955,      0.4965,      0.4975,      0.4985,      0.4995,      0.5005,      0.5015,      0.5025,      0.5035,\n",
              "            0.5045,     0.50551,     0.50651,     0.50751,     0.50851,     0.50951,     0.51051,     0.51151,     0.51251,     0.51351,     0.51451,     0.51552,     0.51652,     0.51752,     0.51852,     0.51952,     0.52052,     0.52152,     0.52252,     0.52352,     0.52452,     0.52553,     0.52653,     0.52753,\n",
              "           0.52853,     0.52953,     0.53053,     0.53153,     0.53253,     0.53353,     0.53453,     0.53554,     0.53654,     0.53754,     0.53854,     0.53954,     0.54054,     0.54154,     0.54254,     0.54354,     0.54454,     0.54555,     0.54655,     0.54755,     0.54855,     0.54955,     0.55055,     0.55155,\n",
              "           0.55255,     0.55355,     0.55455,     0.55556,     0.55656,     0.55756,     0.55856,     0.55956,     0.56056,     0.56156,     0.56256,     0.56356,     0.56456,     0.56557,     0.56657,     0.56757,     0.56857,     0.56957,     0.57057,     0.57157,     0.57257,     0.57357,     0.57457,     0.57558,\n",
              "           0.57658,     0.57758,     0.57858,     0.57958,     0.58058,     0.58158,     0.58258,     0.58358,     0.58458,     0.58559,     0.58659,     0.58759,     0.58859,     0.58959,     0.59059,     0.59159,     0.59259,     0.59359,     0.59459,      0.5956,      0.5966,      0.5976,      0.5986,      0.5996,\n",
              "            0.6006,      0.6016,      0.6026,      0.6036,      0.6046,     0.60561,     0.60661,     0.60761,     0.60861,     0.60961,     0.61061,     0.61161,     0.61261,     0.61361,     0.61461,     0.61562,     0.61662,     0.61762,     0.61862,     0.61962,     0.62062,     0.62162,     0.62262,     0.62362,\n",
              "           0.62462,     0.62563,     0.62663,     0.62763,     0.62863,     0.62963,     0.63063,     0.63163,     0.63263,     0.63363,     0.63463,     0.63564,     0.63664,     0.63764,     0.63864,     0.63964,     0.64064,     0.64164,     0.64264,     0.64364,     0.64464,     0.64565,     0.64665,     0.64765,\n",
              "           0.64865,     0.64965,     0.65065,     0.65165,     0.65265,     0.65365,     0.65465,     0.65566,     0.65666,     0.65766,     0.65866,     0.65966,     0.66066,     0.66166,     0.66266,     0.66366,     0.66466,     0.66567,     0.66667,     0.66767,     0.66867,     0.66967,     0.67067,     0.67167,\n",
              "           0.67267,     0.67367,     0.67467,     0.67568,     0.67668,     0.67768,     0.67868,     0.67968,     0.68068,     0.68168,     0.68268,     0.68368,     0.68468,     0.68569,     0.68669,     0.68769,     0.68869,     0.68969,     0.69069,     0.69169,     0.69269,     0.69369,     0.69469,      0.6957,\n",
              "            0.6967,      0.6977,      0.6987,      0.6997,      0.7007,      0.7017,      0.7027,      0.7037,      0.7047,     0.70571,     0.70671,     0.70771,     0.70871,     0.70971,     0.71071,     0.71171,     0.71271,     0.71371,     0.71471,     0.71572,     0.71672,     0.71772,     0.71872,     0.71972,\n",
              "           0.72072,     0.72172,     0.72272,     0.72372,     0.72472,     0.72573,     0.72673,     0.72773,     0.72873,     0.72973,     0.73073,     0.73173,     0.73273,     0.73373,     0.73473,     0.73574,     0.73674,     0.73774,     0.73874,     0.73974,     0.74074,     0.74174,     0.74274,     0.74374,\n",
              "           0.74474,     0.74575,     0.74675,     0.74775,     0.74875,     0.74975,     0.75075,     0.75175,     0.75275,     0.75375,     0.75475,     0.75576,     0.75676,     0.75776,     0.75876,     0.75976,     0.76076,     0.76176,     0.76276,     0.76376,     0.76476,     0.76577,     0.76677,     0.76777,\n",
              "           0.76877,     0.76977,     0.77077,     0.77177,     0.77277,     0.77377,     0.77477,     0.77578,     0.77678,     0.77778,     0.77878,     0.77978,     0.78078,     0.78178,     0.78278,     0.78378,     0.78478,     0.78579,     0.78679,     0.78779,     0.78879,     0.78979,     0.79079,     0.79179,\n",
              "           0.79279,     0.79379,     0.79479,      0.7958,      0.7968,      0.7978,      0.7988,      0.7998,      0.8008,      0.8018,      0.8028,      0.8038,      0.8048,     0.80581,     0.80681,     0.80781,     0.80881,     0.80981,     0.81081,     0.81181,     0.81281,     0.81381,     0.81481,     0.81582,\n",
              "           0.81682,     0.81782,     0.81882,     0.81982,     0.82082,     0.82182,     0.82282,     0.82382,     0.82482,     0.82583,     0.82683,     0.82783,     0.82883,     0.82983,     0.83083,     0.83183,     0.83283,     0.83383,     0.83483,     0.83584,     0.83684,     0.83784,     0.83884,     0.83984,\n",
              "           0.84084,     0.84184,     0.84284,     0.84384,     0.84484,     0.84585,     0.84685,     0.84785,     0.84885,     0.84985,     0.85085,     0.85185,     0.85285,     0.85385,     0.85485,     0.85586,     0.85686,     0.85786,     0.85886,     0.85986,     0.86086,     0.86186,     0.86286,     0.86386,\n",
              "           0.86486,     0.86587,     0.86687,     0.86787,     0.86887,     0.86987,     0.87087,     0.87187,     0.87287,     0.87387,     0.87487,     0.87588,     0.87688,     0.87788,     0.87888,     0.87988,     0.88088,     0.88188,     0.88288,     0.88388,     0.88488,     0.88589,     0.88689,     0.88789,\n",
              "           0.88889,     0.88989,     0.89089,     0.89189,     0.89289,     0.89389,     0.89489,      0.8959,      0.8969,      0.8979,      0.8989,      0.8999,      0.9009,      0.9019,      0.9029,      0.9039,      0.9049,     0.90591,     0.90691,     0.90791,     0.90891,     0.90991,     0.91091,     0.91191,\n",
              "           0.91291,     0.91391,     0.91491,     0.91592,     0.91692,     0.91792,     0.91892,     0.91992,     0.92092,     0.92192,     0.92292,     0.92392,     0.92492,     0.92593,     0.92693,     0.92793,     0.92893,     0.92993,     0.93093,     0.93193,     0.93293,     0.93393,     0.93493,     0.93594,\n",
              "           0.93694,     0.93794,     0.93894,     0.93994,     0.94094,     0.94194,     0.94294,     0.94394,     0.94494,     0.94595,     0.94695,     0.94795,     0.94895,     0.94995,     0.95095,     0.95195,     0.95295,     0.95395,     0.95495,     0.95596,     0.95696,     0.95796,     0.95896,     0.95996,\n",
              "           0.96096,     0.96196,     0.96296,     0.96396,     0.96496,     0.96597,     0.96697,     0.96797,     0.96897,     0.96997,     0.97097,     0.97197,     0.97297,     0.97397,     0.97497,     0.97598,     0.97698,     0.97798,     0.97898,     0.97998,     0.98098,     0.98198,     0.98298,     0.98398,\n",
              "           0.98498,     0.98599,     0.98699,     0.98799,     0.98899,     0.98999,     0.99099,     0.99199,     0.99299,     0.99399,     0.99499,       0.996,       0.997,       0.998,       0.999,           1]), array([[    0.14537,     0.14537,     0.18232,     0.20784,     0.22885,     0.24882,     0.26223,     0.27551,     0.28971,     0.30084,      0.3082,     0.31629,     0.32438,     0.33126,     0.33912,     0.34643,     0.35051,     0.35833,     0.36347,     0.36634,     0.37063,      0.3795,     0.38559,\n",
              "            0.38933,     0.39423,     0.39452,     0.40054,     0.40454,     0.40976,     0.41252,     0.41673,     0.42079,     0.42577,     0.43002,     0.43929,     0.44298,     0.44655,     0.45117,     0.45298,     0.45669,     0.45809,     0.46138,     0.46297,     0.46636,     0.46921,     0.47171,\n",
              "            0.47281,     0.47707,     0.47706,     0.47976,     0.48077,     0.48298,     0.48442,     0.48666,      0.4885,     0.48948,     0.48978,     0.49434,     0.49636,     0.49532,     0.49858,     0.49899,     0.50122,     0.50194,     0.50308,     0.50508,     0.50287,     0.50389,     0.50589,\n",
              "            0.50608,      0.5069,     0.50766,     0.50952,     0.51338,      0.5156,     0.51619,     0.51846,     0.51932,     0.51757,     0.52041,     0.52097,     0.52196,     0.52233,     0.52336,     0.52293,     0.52257,      0.5236,     0.52232,      0.5249,     0.52547,     0.52778,     0.52936,\n",
              "            0.53096,     0.53128,     0.53242,     0.53449,     0.53506,     0.53709,     0.53807,     0.53975,     0.54226,     0.54407,      0.5447,     0.54358,     0.54516,     0.54603,     0.54685,     0.54746,     0.54815,     0.54999,     0.55124,     0.55175,     0.55224,     0.55327,     0.55413,\n",
              "             0.5564,     0.55743,     0.55609,     0.55764,     0.55896,     0.55957,     0.56019,     0.55989,     0.55697,     0.55799,     0.55867,     0.55828,     0.55729,     0.55785,     0.55901,     0.56037,     0.56339,     0.56538,      0.5676,     0.56863,      0.5694,     0.56785,     0.56923,\n",
              "            0.56972,      0.5703,     0.57121,     0.57201,      0.5725,     0.57358,     0.57545,     0.57664,     0.57717,     0.57887,     0.57757,     0.57813,     0.57854,      0.5799,     0.58093,     0.58162,     0.58339,     0.58398,     0.58446,     0.58483,     0.58519,     0.58613,     0.58674,\n",
              "            0.58771,     0.58918,     0.58978,     0.59017,     0.58912,     0.58931,     0.59073,     0.59153,     0.59266,     0.59362,     0.59451,      0.5988,     0.59707,      0.5978,     0.59819,     0.59858,     0.59958,     0.60052,     0.60088,     0.60113,     0.60138,     0.60163,     0.60252,\n",
              "            0.60369,     0.60439,     0.60499,     0.60548,      0.6065,     0.60898,     0.60959,     0.61122,     0.61179,     0.61211,     0.61233,     0.61254,     0.61276,     0.61297,     0.61069,     0.61141,      0.6104,     0.61061,     0.61082,     0.61103,     0.61124,     0.61183,     0.61365,\n",
              "            0.61414,     0.61449,     0.61325,     0.61236,     0.61367,      0.6159,     0.61867,     0.61889,     0.61911,     0.61933,     0.61954,     0.62087,     0.62117,     0.62147,     0.62177,      0.6221,     0.62247,     0.62283,     0.62375,     0.62221,      0.6219,     0.62219,     0.62249,\n",
              "            0.62278,     0.62343,     0.62479,     0.62662,     0.62716,     0.62794,     0.62636,      0.6256,     0.62561,     0.62705,     0.62746,     0.62786,     0.62911,     0.62942,     0.62974,     0.63005,     0.62706,     0.62534,     0.62557,     0.62593,     0.62629,     0.62709,     0.62954,\n",
              "             0.6308,     0.63186,       0.631,     0.63013,     0.62985,     0.63039,     0.63116,     0.63237,     0.63318,      0.6344,      0.6351,     0.63392,     0.63485,     0.63549,     0.63587,     0.63624,     0.63639,     0.63577,     0.63515,     0.63453,     0.63392,     0.63342,     0.63291,\n",
              "            0.63241,     0.63191,      0.6314,     0.63074,     0.63008,     0.62942,      0.6288,     0.62906,     0.62932,     0.62958,     0.62983,      0.6301,     0.63039,     0.63068,     0.63097,     0.63306,     0.63408,      0.6347,     0.63598,     0.63562,     0.63526,     0.63491,     0.63455,\n",
              "            0.63419,     0.63383,     0.63347,     0.63418,      0.6349,      0.6354,     0.63561,     0.63381,     0.63376,     0.63446,     0.63459,     0.63472,     0.63485,     0.63499,     0.63512,     0.63525,     0.63539,     0.63552,     0.63565,     0.63312,     0.63315,     0.63329,     0.63344,\n",
              "            0.63358,     0.63373,     0.63387,     0.63401,     0.63416,     0.63437,     0.63467,     0.63496,     0.63526,     0.63556,     0.63584,     0.63612,      0.6364,     0.63669,     0.63683,     0.63696,     0.63709,     0.63722,     0.63734,     0.63747,      0.6376,     0.63773,     0.63785,\n",
              "            0.63801,     0.63833,     0.63865,     0.63897,      0.6398,     0.63973,     0.63874,     0.63758,     0.63517,     0.63537,     0.63557,     0.63577,     0.63597,     0.63616,     0.63636,     0.63481,     0.63315,      0.6313,     0.63127,     0.63167,     0.63207,     0.63304,     0.63351,\n",
              "            0.63449,     0.63579,     0.63554,     0.63527,     0.63499,     0.63472,     0.63444,     0.63417,     0.63389,     0.63362,     0.63334,     0.63307,      0.6332,     0.63334,     0.63348,     0.63362,     0.63375,     0.63389,     0.63403,     0.63417,      0.6343,     0.63252,     0.63415,\n",
              "            0.63482,     0.63548,     0.63614,     0.63682,     0.63758,     0.63831,     0.63898,     0.63939,      0.6395,     0.63961,     0.63972,     0.63982,     0.63993,     0.64004,     0.64015,     0.64025,     0.64036,     0.64047,     0.64058,     0.64077,     0.64122,     0.64167,     0.63883,\n",
              "            0.63779,     0.63674,     0.63612,     0.63575,     0.63538,       0.635,     0.63463,     0.63426,     0.63388,     0.63482,     0.63446,      0.6341,     0.63373,     0.63337,     0.63301,     0.63264,     0.63228,     0.63221,     0.63288,     0.63308,      0.6323,     0.63152,     0.63074,\n",
              "            0.63071,     0.63105,     0.63138,     0.63172,     0.63232,       0.633,     0.63368,     0.63436,     0.63451,     0.63458,     0.63465,     0.63472,     0.63479,     0.63486,     0.63493,       0.635,     0.63507,     0.63514,     0.63521,     0.63528,     0.63535,     0.63542,     0.63548,\n",
              "            0.63555,     0.63562,     0.63569,     0.63576,     0.63544,     0.63485,     0.63426,     0.63367,     0.63308,     0.63318,      0.6317,     0.63241,     0.62742,     0.62625,      0.6255,     0.62475,       0.624,     0.62255,     0.62104,      0.6223,     0.62247,     0.62262,     0.62277,\n",
              "            0.62293,     0.62308,     0.62323,     0.62338,     0.62354,     0.62345,     0.62243,     0.62142,     0.62108,     0.62157,     0.62004,     0.61796,     0.61547,     0.61393,     0.61172,     0.61033,     0.61101,     0.61113,     0.60801,     0.60487,     0.60364,     0.60383,     0.60403,\n",
              "            0.60422,     0.60442,     0.60461,     0.60481,     0.60368,      0.6021,     0.59741,     0.59581,     0.59286,     0.59187,     0.59123,     0.59058,     0.58994,     0.58929,     0.58769,     0.58749,     0.58879,     0.58925,      0.5897,     0.59002,     0.58947,     0.58893,     0.58839,\n",
              "            0.58784,      0.5873,     0.58599,     0.58321,     0.58156,     0.57698,     0.57615,     0.57532,     0.57449,     0.57252,     0.56918,     0.56694,     0.56582,      0.5647,     0.56448,     0.56492,     0.56536,     0.56442,     0.56273,     0.56162,     0.56077,     0.55992,     0.55907,\n",
              "             0.5584,     0.55778,     0.55716,     0.55653,     0.55591,     0.55482,      0.5531,     0.55138,     0.54966,     0.54362,     0.54013,     0.53877,     0.53898,      0.5392,     0.53942,     0.53963,     0.53985,     0.53562,     0.53444,     0.53326,     0.53328,      0.5336,     0.53392,\n",
              "            0.53424,     0.53544,     0.52878,     0.53045,     0.53109,     0.52822,     0.52882,     0.52801,      0.5272,     0.52639,     0.52559,     0.52471,      0.5238,     0.52289,     0.52197,     0.51679,     0.51494,     0.51558,     0.51687,     0.51394,     0.51021,      0.5017,      0.4998,\n",
              "            0.49562,     0.48693,     0.48563,     0.48035,     0.47257,     0.47104,     0.47132,     0.47159,     0.47186,     0.47134,     0.46791,     0.46658,     0.46524,     0.46039,     0.45777,     0.45838,      0.4592,     0.44665,     0.44397,      0.4394,     0.42883,     0.42669,     0.42839,\n",
              "            0.42465,     0.42247,     0.42023,     0.41731,     0.41484,     0.41264,     0.40895,     0.40899,     0.40937,     0.40975,     0.41073,     0.41031,      0.4095,     0.40869,     0.40787,     0.40706,     0.40616,     0.40517,     0.40417,     0.40317,     0.40202,     0.39767,     0.39586,\n",
              "            0.39403,     0.39359,     0.39396,     0.39433,     0.39124,     0.38931,     0.38839,     0.38746,     0.38654,     0.38562,     0.38461,     0.38358,     0.38255,     0.38152,     0.37989,     0.37756,     0.37546,     0.37359,     0.36692,     0.36239,     0.36001,     0.35283,     0.34962,\n",
              "            0.34764,     0.34625,     0.34487,     0.34257,     0.33359,     0.33113,     0.32617,     0.32399,     0.32322,     0.32246,     0.32169,     0.32092,     0.32015,     0.31947,     0.31888,     0.31829,      0.3177,     0.31711,     0.31652,     0.31593,     0.31534,     0.31416,     0.31079,\n",
              "            0.29615,     0.28592,      0.2807,      0.2791,     0.27829,     0.27748,     0.27667,     0.27586,     0.27505,     0.27209,     0.26336,     0.26158,     0.25979,     0.25859,     0.25782,     0.25705,     0.25628,     0.25551,     0.25474,     0.25397,     0.25276,     0.25141,     0.25005,\n",
              "            0.24869,     0.24787,     0.24714,     0.24642,     0.24569,     0.24496,     0.24423,      0.2435,     0.23778,     0.23717,     0.23655,     0.23594,     0.23533,     0.23471,      0.2341,     0.23349,     0.23287,     0.23169,     0.22891,     0.22526,     0.22107,     0.21966,     0.21826,\n",
              "            0.21685,     0.21115,     0.21021,     0.20988,     0.20954,     0.20921,     0.20887,     0.20854,      0.2082,     0.20787,     0.20753,      0.2072,     0.20686,     0.20653,     0.20619,     0.20586,     0.20552,     0.20518,     0.20459,     0.20355,     0.20251,     0.20147,     0.20043,\n",
              "            0.19938,     0.19556,     0.18603,     0.17639,     0.17245,     0.16969,     0.16771,     0.16572,     0.15062,     0.14017,     0.12846,     0.12431,     0.11401,     0.10463,     0.10372,     0.10281,      0.1019,     0.10099,     0.10007,    0.099158,      0.0978,    0.095965,    0.094126,\n",
              "             0.0923,    0.090685,    0.089067,    0.087447,    0.085824,    0.084198,    0.082569,    0.080938,    0.076286,    0.073402,    0.073487,    0.073567,    0.067958,    0.063237,     0.05786,    0.053218,    0.051289,    0.049356,     0.04744,    0.046535,    0.045629,    0.044722,    0.043815,\n",
              "           0.042906,    0.041997,    0.041087,    0.039749,    0.038228,    0.036705,     0.03518,    0.032696,    0.028094,     0.02609,    0.024548,    0.023003,    0.021456,    0.013619,    0.013239,     0.01286,     0.01248,      0.0121,    0.011719,    0.011339,    0.010959,    0.010578,    0.010197,\n",
              "          0.0098162,   0.0094351,   0.0090539,   0.0086725,    0.008291,   0.0079093,   0.0075275,   0.0071456,           0,           0,           0,           0,           0,           0,           0,           0,           0,           0,           0,           0,           0,           0,           0,\n",
              "                  0,           0,           0,           0,           0,           0,           0,           0,           0,           0,           0,           0,           0,           0,           0,           0,           0,           0,           0,           0,           0,           0,           0,\n",
              "                  0,           0,           0,           0,           0,           0,           0,           0,           0,           0,           0,           0,           0,           0,           0,           0,           0,           0,           0,           0,           0,           0,           0,\n",
              "                  0,           0,           0,           0,           0,           0,           0,           0,           0,           0,           0,           0,           0,           0,           0,           0,           0,           0,           0,           0,           0,           0,           0,\n",
              "                  0,           0,           0,           0,           0,           0,           0,           0,           0,           0,           0,           0,           0,           0,           0,           0,           0,           0,           0,           0,           0,           0,           0,\n",
              "                  0,           0,           0,           0,           0,           0,           0,           0,           0,           0,           0,           0,           0,           0,           0,           0,           0,           0,           0,           0,           0,           0,           0,\n",
              "                  0,           0,           0,           0,           0,           0,           0,           0,           0,           0,           0,           0,           0,           0,           0,           0,           0,           0,           0,           0,           0,           0,           0,\n",
              "                  0,           0,           0,           0,           0,           0,           0,           0,           0,           0,           0]]), 'Confidence', 'F1'], [array([          0,    0.001001,    0.002002,    0.003003,    0.004004,    0.005005,    0.006006,    0.007007,    0.008008,    0.009009,     0.01001,    0.011011,    0.012012,    0.013013,    0.014014,    0.015015,    0.016016,    0.017017,    0.018018,    0.019019,     0.02002,    0.021021,    0.022022,    0.023023,\n",
              "          0.024024,    0.025025,    0.026026,    0.027027,    0.028028,    0.029029,     0.03003,    0.031031,    0.032032,    0.033033,    0.034034,    0.035035,    0.036036,    0.037037,    0.038038,    0.039039,     0.04004,    0.041041,    0.042042,    0.043043,    0.044044,    0.045045,    0.046046,    0.047047,\n",
              "          0.048048,    0.049049,     0.05005,    0.051051,    0.052052,    0.053053,    0.054054,    0.055055,    0.056056,    0.057057,    0.058058,    0.059059,     0.06006,    0.061061,    0.062062,    0.063063,    0.064064,    0.065065,    0.066066,    0.067067,    0.068068,    0.069069,     0.07007,    0.071071,\n",
              "          0.072072,    0.073073,    0.074074,    0.075075,    0.076076,    0.077077,    0.078078,    0.079079,     0.08008,    0.081081,    0.082082,    0.083083,    0.084084,    0.085085,    0.086086,    0.087087,    0.088088,    0.089089,     0.09009,    0.091091,    0.092092,    0.093093,    0.094094,    0.095095,\n",
              "          0.096096,    0.097097,    0.098098,    0.099099,      0.1001,      0.1011,      0.1021,      0.1031,      0.1041,     0.10511,     0.10611,     0.10711,     0.10811,     0.10911,     0.11011,     0.11111,     0.11211,     0.11311,     0.11411,     0.11512,     0.11612,     0.11712,     0.11812,     0.11912,\n",
              "           0.12012,     0.12112,     0.12212,     0.12312,     0.12412,     0.12513,     0.12613,     0.12713,     0.12813,     0.12913,     0.13013,     0.13113,     0.13213,     0.13313,     0.13413,     0.13514,     0.13614,     0.13714,     0.13814,     0.13914,     0.14014,     0.14114,     0.14214,     0.14314,\n",
              "           0.14414,     0.14515,     0.14615,     0.14715,     0.14815,     0.14915,     0.15015,     0.15115,     0.15215,     0.15315,     0.15415,     0.15516,     0.15616,     0.15716,     0.15816,     0.15916,     0.16016,     0.16116,     0.16216,     0.16316,     0.16416,     0.16517,     0.16617,     0.16717,\n",
              "           0.16817,     0.16917,     0.17017,     0.17117,     0.17217,     0.17317,     0.17417,     0.17518,     0.17618,     0.17718,     0.17818,     0.17918,     0.18018,     0.18118,     0.18218,     0.18318,     0.18418,     0.18519,     0.18619,     0.18719,     0.18819,     0.18919,     0.19019,     0.19119,\n",
              "           0.19219,     0.19319,     0.19419,      0.1952,      0.1962,      0.1972,      0.1982,      0.1992,      0.2002,      0.2012,      0.2022,      0.2032,      0.2042,     0.20521,     0.20621,     0.20721,     0.20821,     0.20921,     0.21021,     0.21121,     0.21221,     0.21321,     0.21421,     0.21522,\n",
              "           0.21622,     0.21722,     0.21822,     0.21922,     0.22022,     0.22122,     0.22222,     0.22322,     0.22422,     0.22523,     0.22623,     0.22723,     0.22823,     0.22923,     0.23023,     0.23123,     0.23223,     0.23323,     0.23423,     0.23524,     0.23624,     0.23724,     0.23824,     0.23924,\n",
              "           0.24024,     0.24124,     0.24224,     0.24324,     0.24424,     0.24525,     0.24625,     0.24725,     0.24825,     0.24925,     0.25025,     0.25125,     0.25225,     0.25325,     0.25425,     0.25526,     0.25626,     0.25726,     0.25826,     0.25926,     0.26026,     0.26126,     0.26226,     0.26326,\n",
              "           0.26426,     0.26527,     0.26627,     0.26727,     0.26827,     0.26927,     0.27027,     0.27127,     0.27227,     0.27327,     0.27427,     0.27528,     0.27628,     0.27728,     0.27828,     0.27928,     0.28028,     0.28128,     0.28228,     0.28328,     0.28428,     0.28529,     0.28629,     0.28729,\n",
              "           0.28829,     0.28929,     0.29029,     0.29129,     0.29229,     0.29329,     0.29429,      0.2953,      0.2963,      0.2973,      0.2983,      0.2993,      0.3003,      0.3013,      0.3023,      0.3033,      0.3043,     0.30531,     0.30631,     0.30731,     0.30831,     0.30931,     0.31031,     0.31131,\n",
              "           0.31231,     0.31331,     0.31431,     0.31532,     0.31632,     0.31732,     0.31832,     0.31932,     0.32032,     0.32132,     0.32232,     0.32332,     0.32432,     0.32533,     0.32633,     0.32733,     0.32833,     0.32933,     0.33033,     0.33133,     0.33233,     0.33333,     0.33433,     0.33534,\n",
              "           0.33634,     0.33734,     0.33834,     0.33934,     0.34034,     0.34134,     0.34234,     0.34334,     0.34434,     0.34535,     0.34635,     0.34735,     0.34835,     0.34935,     0.35035,     0.35135,     0.35235,     0.35335,     0.35435,     0.35536,     0.35636,     0.35736,     0.35836,     0.35936,\n",
              "           0.36036,     0.36136,     0.36236,     0.36336,     0.36436,     0.36537,     0.36637,     0.36737,     0.36837,     0.36937,     0.37037,     0.37137,     0.37237,     0.37337,     0.37437,     0.37538,     0.37638,     0.37738,     0.37838,     0.37938,     0.38038,     0.38138,     0.38238,     0.38338,\n",
              "           0.38438,     0.38539,     0.38639,     0.38739,     0.38839,     0.38939,     0.39039,     0.39139,     0.39239,     0.39339,     0.39439,      0.3954,      0.3964,      0.3974,      0.3984,      0.3994,      0.4004,      0.4014,      0.4024,      0.4034,      0.4044,     0.40541,     0.40641,     0.40741,\n",
              "           0.40841,     0.40941,     0.41041,     0.41141,     0.41241,     0.41341,     0.41441,     0.41542,     0.41642,     0.41742,     0.41842,     0.41942,     0.42042,     0.42142,     0.42242,     0.42342,     0.42442,     0.42543,     0.42643,     0.42743,     0.42843,     0.42943,     0.43043,     0.43143,\n",
              "           0.43243,     0.43343,     0.43443,     0.43544,     0.43644,     0.43744,     0.43844,     0.43944,     0.44044,     0.44144,     0.44244,     0.44344,     0.44444,     0.44545,     0.44645,     0.44745,     0.44845,     0.44945,     0.45045,     0.45145,     0.45245,     0.45345,     0.45445,     0.45546,\n",
              "           0.45646,     0.45746,     0.45846,     0.45946,     0.46046,     0.46146,     0.46246,     0.46346,     0.46446,     0.46547,     0.46647,     0.46747,     0.46847,     0.46947,     0.47047,     0.47147,     0.47247,     0.47347,     0.47447,     0.47548,     0.47648,     0.47748,     0.47848,     0.47948,\n",
              "           0.48048,     0.48148,     0.48248,     0.48348,     0.48448,     0.48549,     0.48649,     0.48749,     0.48849,     0.48949,     0.49049,     0.49149,     0.49249,     0.49349,     0.49449,      0.4955,      0.4965,      0.4975,      0.4985,      0.4995,      0.5005,      0.5015,      0.5025,      0.5035,\n",
              "            0.5045,     0.50551,     0.50651,     0.50751,     0.50851,     0.50951,     0.51051,     0.51151,     0.51251,     0.51351,     0.51451,     0.51552,     0.51652,     0.51752,     0.51852,     0.51952,     0.52052,     0.52152,     0.52252,     0.52352,     0.52452,     0.52553,     0.52653,     0.52753,\n",
              "           0.52853,     0.52953,     0.53053,     0.53153,     0.53253,     0.53353,     0.53453,     0.53554,     0.53654,     0.53754,     0.53854,     0.53954,     0.54054,     0.54154,     0.54254,     0.54354,     0.54454,     0.54555,     0.54655,     0.54755,     0.54855,     0.54955,     0.55055,     0.55155,\n",
              "           0.55255,     0.55355,     0.55455,     0.55556,     0.55656,     0.55756,     0.55856,     0.55956,     0.56056,     0.56156,     0.56256,     0.56356,     0.56456,     0.56557,     0.56657,     0.56757,     0.56857,     0.56957,     0.57057,     0.57157,     0.57257,     0.57357,     0.57457,     0.57558,\n",
              "           0.57658,     0.57758,     0.57858,     0.57958,     0.58058,     0.58158,     0.58258,     0.58358,     0.58458,     0.58559,     0.58659,     0.58759,     0.58859,     0.58959,     0.59059,     0.59159,     0.59259,     0.59359,     0.59459,      0.5956,      0.5966,      0.5976,      0.5986,      0.5996,\n",
              "            0.6006,      0.6016,      0.6026,      0.6036,      0.6046,     0.60561,     0.60661,     0.60761,     0.60861,     0.60961,     0.61061,     0.61161,     0.61261,     0.61361,     0.61461,     0.61562,     0.61662,     0.61762,     0.61862,     0.61962,     0.62062,     0.62162,     0.62262,     0.62362,\n",
              "           0.62462,     0.62563,     0.62663,     0.62763,     0.62863,     0.62963,     0.63063,     0.63163,     0.63263,     0.63363,     0.63463,     0.63564,     0.63664,     0.63764,     0.63864,     0.63964,     0.64064,     0.64164,     0.64264,     0.64364,     0.64464,     0.64565,     0.64665,     0.64765,\n",
              "           0.64865,     0.64965,     0.65065,     0.65165,     0.65265,     0.65365,     0.65465,     0.65566,     0.65666,     0.65766,     0.65866,     0.65966,     0.66066,     0.66166,     0.66266,     0.66366,     0.66466,     0.66567,     0.66667,     0.66767,     0.66867,     0.66967,     0.67067,     0.67167,\n",
              "           0.67267,     0.67367,     0.67467,     0.67568,     0.67668,     0.67768,     0.67868,     0.67968,     0.68068,     0.68168,     0.68268,     0.68368,     0.68468,     0.68569,     0.68669,     0.68769,     0.68869,     0.68969,     0.69069,     0.69169,     0.69269,     0.69369,     0.69469,      0.6957,\n",
              "            0.6967,      0.6977,      0.6987,      0.6997,      0.7007,      0.7017,      0.7027,      0.7037,      0.7047,     0.70571,     0.70671,     0.70771,     0.70871,     0.70971,     0.71071,     0.71171,     0.71271,     0.71371,     0.71471,     0.71572,     0.71672,     0.71772,     0.71872,     0.71972,\n",
              "           0.72072,     0.72172,     0.72272,     0.72372,     0.72472,     0.72573,     0.72673,     0.72773,     0.72873,     0.72973,     0.73073,     0.73173,     0.73273,     0.73373,     0.73473,     0.73574,     0.73674,     0.73774,     0.73874,     0.73974,     0.74074,     0.74174,     0.74274,     0.74374,\n",
              "           0.74474,     0.74575,     0.74675,     0.74775,     0.74875,     0.74975,     0.75075,     0.75175,     0.75275,     0.75375,     0.75475,     0.75576,     0.75676,     0.75776,     0.75876,     0.75976,     0.76076,     0.76176,     0.76276,     0.76376,     0.76476,     0.76577,     0.76677,     0.76777,\n",
              "           0.76877,     0.76977,     0.77077,     0.77177,     0.77277,     0.77377,     0.77477,     0.77578,     0.77678,     0.77778,     0.77878,     0.77978,     0.78078,     0.78178,     0.78278,     0.78378,     0.78478,     0.78579,     0.78679,     0.78779,     0.78879,     0.78979,     0.79079,     0.79179,\n",
              "           0.79279,     0.79379,     0.79479,      0.7958,      0.7968,      0.7978,      0.7988,      0.7998,      0.8008,      0.8018,      0.8028,      0.8038,      0.8048,     0.80581,     0.80681,     0.80781,     0.80881,     0.80981,     0.81081,     0.81181,     0.81281,     0.81381,     0.81481,     0.81582,\n",
              "           0.81682,     0.81782,     0.81882,     0.81982,     0.82082,     0.82182,     0.82282,     0.82382,     0.82482,     0.82583,     0.82683,     0.82783,     0.82883,     0.82983,     0.83083,     0.83183,     0.83283,     0.83383,     0.83483,     0.83584,     0.83684,     0.83784,     0.83884,     0.83984,\n",
              "           0.84084,     0.84184,     0.84284,     0.84384,     0.84484,     0.84585,     0.84685,     0.84785,     0.84885,     0.84985,     0.85085,     0.85185,     0.85285,     0.85385,     0.85485,     0.85586,     0.85686,     0.85786,     0.85886,     0.85986,     0.86086,     0.86186,     0.86286,     0.86386,\n",
              "           0.86486,     0.86587,     0.86687,     0.86787,     0.86887,     0.86987,     0.87087,     0.87187,     0.87287,     0.87387,     0.87487,     0.87588,     0.87688,     0.87788,     0.87888,     0.87988,     0.88088,     0.88188,     0.88288,     0.88388,     0.88488,     0.88589,     0.88689,     0.88789,\n",
              "           0.88889,     0.88989,     0.89089,     0.89189,     0.89289,     0.89389,     0.89489,      0.8959,      0.8969,      0.8979,      0.8989,      0.8999,      0.9009,      0.9019,      0.9029,      0.9039,      0.9049,     0.90591,     0.90691,     0.90791,     0.90891,     0.90991,     0.91091,     0.91191,\n",
              "           0.91291,     0.91391,     0.91491,     0.91592,     0.91692,     0.91792,     0.91892,     0.91992,     0.92092,     0.92192,     0.92292,     0.92392,     0.92492,     0.92593,     0.92693,     0.92793,     0.92893,     0.92993,     0.93093,     0.93193,     0.93293,     0.93393,     0.93493,     0.93594,\n",
              "           0.93694,     0.93794,     0.93894,     0.93994,     0.94094,     0.94194,     0.94294,     0.94394,     0.94494,     0.94595,     0.94695,     0.94795,     0.94895,     0.94995,     0.95095,     0.95195,     0.95295,     0.95395,     0.95495,     0.95596,     0.95696,     0.95796,     0.95896,     0.95996,\n",
              "           0.96096,     0.96196,     0.96296,     0.96396,     0.96496,     0.96597,     0.96697,     0.96797,     0.96897,     0.96997,     0.97097,     0.97197,     0.97297,     0.97397,     0.97497,     0.97598,     0.97698,     0.97798,     0.97898,     0.97998,     0.98098,     0.98198,     0.98298,     0.98398,\n",
              "           0.98498,     0.98599,     0.98699,     0.98799,     0.98899,     0.98999,     0.99099,     0.99199,     0.99299,     0.99399,     0.99499,       0.996,       0.997,       0.998,       0.999,           1]), array([[   0.079505,    0.079505,      0.1029,     0.11987,     0.13437,     0.14836,     0.15828,     0.16806,     0.17894,     0.18772,     0.19349,     0.19992,     0.20668,     0.21258,     0.21909,     0.22524,     0.22934,     0.23609,     0.24057,     0.24309,     0.24767,     0.25565,      0.2612,\n",
              "            0.26465,      0.2692,     0.26994,      0.2756,     0.27941,     0.28442,     0.28762,     0.29229,     0.29688,     0.30186,     0.30616,     0.31564,     0.31946,     0.32319,     0.32805,     0.33069,     0.33467,     0.33694,     0.34131,     0.34386,     0.34762,     0.35078,     0.35359,\n",
              "            0.35483,     0.35964,     0.36145,     0.36551,     0.36765,     0.37024,     0.37193,     0.37459,     0.37676,     0.37794,     0.37933,     0.38483,     0.38838,     0.38822,     0.39224,      0.3939,     0.39669,     0.39759,     0.39902,     0.40154,       0.401,     0.40248,     0.40504,\n",
              "            0.40655,     0.40761,      0.4086,     0.41101,     0.41605,     0.41898,     0.41975,     0.42277,     0.42391,     0.42298,     0.42679,     0.42753,     0.42886,     0.42937,     0.43077,     0.43086,     0.43115,     0.43255,     0.43228,     0.43584,     0.43662,     0.43982,     0.44201,\n",
              "            0.44425,      0.4447,      0.4463,     0.44922,     0.45002,     0.45291,      0.4543,     0.45669,      0.4603,     0.46291,     0.46424,     0.46392,     0.46624,      0.4675,     0.46871,     0.46961,     0.47062,     0.47335,      0.4752,     0.47595,     0.47854,     0.48009,     0.48138,\n",
              "            0.48482,     0.48638,     0.48628,     0.48866,     0.49068,     0.49162,     0.49259,     0.49289,     0.49108,     0.49321,     0.49428,     0.49426,     0.49364,     0.49506,     0.49688,     0.49904,     0.50384,     0.50704,     0.51063,      0.5123,     0.51354,     0.51327,     0.51553,\n",
              "            0.51633,     0.51728,     0.51879,     0.52011,     0.52092,     0.52272,     0.52583,     0.52782,     0.52871,     0.53183,     0.53181,     0.53276,     0.53347,     0.53578,     0.53754,     0.53871,     0.54177,     0.54279,     0.54361,     0.54425,     0.54488,     0.54651,     0.54756,\n",
              "            0.54926,     0.55183,     0.55289,     0.55444,     0.55382,     0.55748,     0.56002,     0.56146,      0.5635,     0.56524,     0.56686,     0.57496,     0.57446,     0.57581,     0.57654,     0.57726,     0.57914,     0.58088,     0.58156,     0.58203,      0.5825,     0.58297,     0.58464,\n",
              "            0.58684,     0.58818,      0.5893,     0.59024,     0.59218,     0.59693,      0.5981,     0.60124,     0.60235,     0.60298,      0.6034,     0.60382,     0.60423,     0.60465,      0.6035,      0.6049,     0.60627,     0.60668,      0.6071,     0.60752,     0.60793,      0.6091,     0.61272,\n",
              "            0.61369,     0.61453,     0.61384,     0.61361,     0.61626,     0.62077,     0.62642,     0.62687,     0.62732,     0.62777,     0.62821,     0.63095,     0.63157,     0.63219,     0.63281,      0.6335,     0.63425,       0.635,     0.63693,     0.63665,     0.63685,     0.63746,     0.63808,\n",
              "            0.63869,     0.64006,     0.64295,     0.64683,     0.64799,     0.65033,     0.65024,     0.65093,     0.65269,     0.65583,     0.65672,      0.6576,     0.66034,     0.66103,     0.66173,     0.66242,     0.66118,     0.66029,     0.66098,     0.66179,      0.6626,      0.6644,     0.66991,\n",
              "            0.67278,     0.67574,      0.6753,     0.67486,     0.67512,     0.67634,     0.67813,     0.68092,     0.68282,     0.68564,     0.68805,     0.68926,     0.69146,     0.69298,     0.69388,     0.69478,      0.6954,      0.6951,      0.6948,     0.69449,      0.6942,     0.69395,      0.6937,\n",
              "            0.69345,      0.6932,     0.69296,     0.69263,      0.6923,     0.69198,      0.6917,     0.69233,     0.69295,     0.69357,      0.6942,     0.69486,     0.69556,     0.69627,     0.69697,      0.7021,      0.7046,     0.70613,     0.70938,     0.70921,     0.70904,     0.70887,      0.7087,\n",
              "            0.70853,     0.70836,     0.70819,     0.71013,     0.71192,     0.71319,     0.71418,     0.71333,     0.71446,     0.71623,     0.71656,      0.7169,     0.71724,     0.71758,     0.71792,     0.71826,      0.7186,     0.71894,     0.71928,     0.71811,     0.71842,     0.71879,     0.71916,\n",
              "            0.71954,     0.71991,     0.72028,     0.72065,     0.72102,     0.72157,     0.72234,     0.72311,     0.72388,     0.72465,     0.72538,     0.72612,     0.72686,     0.72759,     0.72797,     0.72831,     0.72864,     0.72898,     0.72931,     0.72965,     0.72998,     0.73032,     0.73065,\n",
              "            0.73105,      0.7319,     0.73274,     0.73358,     0.73579,     0.73723,     0.73678,     0.73627,     0.73533,     0.73586,      0.7364,     0.73693,     0.73746,     0.73799,     0.73852,     0.73784,      0.7371,     0.73627,     0.73699,     0.73807,     0.73915,     0.74181,     0.74892,\n",
              "            0.75224,     0.75592,     0.75587,     0.75575,     0.75563,     0.75551,      0.7554,     0.75528,     0.75516,     0.75504,     0.75493,     0.75481,      0.7552,     0.75559,     0.75598,     0.75638,     0.75677,     0.75716,     0.75756,     0.75795,     0.75834,        0.76,     0.76472,\n",
              "            0.76665,     0.76859,     0.77054,     0.77252,     0.77477,     0.77691,      0.7789,     0.78014,     0.78047,     0.78079,     0.78111,     0.78143,     0.78175,     0.78207,     0.78239,     0.78272,     0.78304,     0.78336,     0.78368,     0.78426,     0.78562,     0.78697,     0.78667,\n",
              "            0.78626,     0.78586,     0.78562,     0.78548,     0.78533,     0.78518,     0.78504,     0.78489,     0.78475,     0.78865,     0.78851,     0.78837,     0.78823,     0.78809,     0.78795,     0.78781,     0.78767,     0.78815,     0.79025,     0.79157,     0.79127,     0.79097,     0.79067,\n",
              "            0.79129,     0.79236,     0.79342,     0.79449,     0.79639,     0.79854,     0.80072,      0.8029,     0.80338,     0.80361,     0.80383,     0.80405,     0.80428,      0.8045,     0.80472,     0.80494,     0.80517,     0.80539,     0.80561,     0.80584,     0.80606,     0.80628,     0.80651,\n",
              "            0.80673,     0.80695,     0.80717,      0.8074,     0.80736,     0.80715,     0.80694,     0.80672,     0.80651,     0.81043,     0.80991,     0.81326,     0.81235,     0.81194,     0.81167,      0.8114,     0.81113,     0.81062,     0.81008,     0.81455,     0.81512,     0.81565,     0.81617,\n",
              "             0.8167,     0.81722,     0.81775,     0.81827,     0.81879,     0.81914,     0.81879,     0.81843,     0.81952,      0.8227,     0.82218,     0.82147,     0.82061,     0.82007,     0.81931,     0.81983,      0.8223,     0.82788,     0.82683,     0.82576,     0.82572,     0.82645,     0.82719,\n",
              "            0.82792,     0.82865,     0.82938,     0.83012,     0.82991,     0.82938,     0.82779,     0.82725,     0.82623,     0.82589,     0.82567,     0.82545,     0.82523,       0.825,     0.82444,     0.82931,     0.83451,     0.83633,     0.83816,     0.83972,     0.83954,     0.83937,     0.83919,\n",
              "            0.83901,     0.83884,     0.83841,      0.8375,     0.83695,     0.83543,     0.83515,     0.83487,     0.83459,     0.83393,     0.83279,     0.83202,     0.83163,     0.83125,     0.83219,     0.83412,     0.83605,     0.83636,     0.83579,     0.83541,     0.83512,     0.83483,     0.83454,\n",
              "            0.83431,      0.8341,     0.83388,     0.83367,     0.83346,     0.83308,     0.83248,     0.83188,     0.83127,     0.82913,     0.82788,     0.82793,     0.82895,     0.82998,       0.831,     0.83202,     0.83305,     0.83181,     0.83139,     0.83097,     0.83214,     0.83371,     0.83529,\n",
              "            0.83687,     0.84275,     0.84098,     0.85047,     0.85381,     0.85609,     0.85937,     0.85911,     0.85886,     0.85861,     0.85836,     0.85808,     0.85779,      0.8575,     0.85722,     0.85556,     0.85496,      0.8605,     0.86772,     0.86792,     0.86679,     0.86417,     0.86357,\n",
              "            0.86555,     0.86668,     0.87009,      0.8721,     0.86969,     0.87023,      0.8721,     0.87397,     0.87584,     0.87714,     0.87611,      0.8757,     0.87529,     0.88201,     0.88258,     0.88709,     0.89328,     0.91786,     0.92322,     0.92227,     0.92001,     0.91954,     0.93579,\n",
              "            0.94046,     0.94009,     0.93971,     0.93921,     0.93878,      0.9384,     0.93774,     0.95227,     0.95643,     0.96059,     0.97141,     0.97398,     0.97391,     0.97385,     0.97378,     0.97372,     0.97365,     0.97357,     0.97349,     0.97341,     0.97332,     0.97296,     0.97281,\n",
              "            0.97266,     0.97549,     0.98011,     0.98472,     0.98597,     0.98589,     0.98584,      0.9858,     0.98576,     0.98572,     0.98567,     0.98563,     0.98558,     0.98553,     0.98546,     0.98535,     0.98525,     0.98516,     0.98483,      0.9846,     0.98448,      0.9841,     0.98393,\n",
              "            0.98382,     0.98374,     0.98366,     0.98353,     0.98301,     0.98286,     0.98255,     0.98241,     0.98236,     0.98232,     0.98227,     0.98222,     0.98217,     0.98212,     0.98208,     0.98204,     0.98201,     0.98197,     0.98193,     0.98189,     0.98185,     0.98177,     0.98154,\n",
              "            0.98048,     0.97968,     0.97924,     0.97911,     0.97904,     0.97897,      0.9789,     0.97883,     0.97876,      0.9785,     0.97769,     0.97752,     0.97735,     0.97723,     0.97715,     0.97707,       0.977,     0.97692,     0.97684,     0.97676,     0.97664,      0.9765,     0.97635,\n",
              "            0.97621,     0.97612,     0.97604,     0.97596,     0.97589,     0.97581,     0.97573,     0.97565,       0.975,     0.97492,     0.97485,     0.97478,      0.9747,     0.97463,     0.97456,     0.97449,     0.97441,     0.97427,     0.97392,     0.97346,     0.97291,     0.97272,     0.97252,\n",
              "            0.97233,     0.97152,     0.97138,     0.97133,     0.97128,     0.97123,     0.97118,     0.97113,     0.97108,     0.97103,     0.97098,     0.97092,     0.97087,     0.97082,     0.97077,     0.97072,     0.97067,     0.97062,     0.97053,     0.97036,      0.9702,     0.97003,     0.96986,\n",
              "             0.9697,     0.96905,     0.96735,     0.96546,     0.96462,     0.96401,     0.96356,     0.96311,     0.95923,     0.95609,     0.95199,     0.95037,     0.94582,     0.94101,     0.94047,     0.93993,     0.93939,     0.93886,     0.93832,     0.93778,     0.93691,     0.93569,     0.93447,\n",
              "            0.93325,     0.93203,     0.93081,     0.92959,     0.92834,     0.92693,     0.92552,     0.92411,     0.91962,     0.93874,     0.96722,     0.99569,           1,           1,           1,           1,           1,           1,           1,           1,           1,           1,           1,\n",
              "                  1,           1,           1,           1,           1,           1,           1,           1,           1,           1,           1,           1,           1,           1,           1,           1,           1,           1,           1,           1,           1,           1,           1,\n",
              "                  1,           1,           1,           1,           1,           1,           1,           1,           1,           1,           1,           1,           1,           1,           1,           1,           1,           1,           1,           1,           1,           1,           1,\n",
              "                  1,           1,           1,           1,           1,           1,           1,           1,           1,           1,           1,           1,           1,           1,           1,           1,           1,           1,           1,           1,           1,           1,           1,\n",
              "                  1,           1,           1,           1,           1,           1,           1,           1,           1,           1,           1,           1,           1,           1,           1,           1,           1,           1,           1,           1,           1,           1,           1,\n",
              "                  1,           1,           1,           1,           1,           1,           1,           1,           1,           1,           1,           1,           1,           1,           1,           1,           1,           1,           1,           1,           1,           1,           1,\n",
              "                  1,           1,           1,           1,           1,           1,           1,           1,           1,           1,           1,           1,           1,           1,           1,           1,           1,           1,           1,           1,           1,           1,           1,\n",
              "                  1,           1,           1,           1,           1,           1,           1,           1,           1,           1,           1,           1,           1,           1,           1,           1,           1,           1,           1,           1,           1,           1,           1,\n",
              "                  1,           1,           1,           1,           1,           1,           1,           1,           1,           1,           1,           1,           1,           1,           1,           1,           1,           1,           1,           1,           1,           1,           1,\n",
              "                  1,           1,           1,           1,           1,           1,           1,           1,           1,           1,           1]]), 'Confidence', 'Precision'], [array([          0,    0.001001,    0.002002,    0.003003,    0.004004,    0.005005,    0.006006,    0.007007,    0.008008,    0.009009,     0.01001,    0.011011,    0.012012,    0.013013,    0.014014,    0.015015,    0.016016,    0.017017,    0.018018,    0.019019,     0.02002,    0.021021,    0.022022,    0.023023,\n",
              "          0.024024,    0.025025,    0.026026,    0.027027,    0.028028,    0.029029,     0.03003,    0.031031,    0.032032,    0.033033,    0.034034,    0.035035,    0.036036,    0.037037,    0.038038,    0.039039,     0.04004,    0.041041,    0.042042,    0.043043,    0.044044,    0.045045,    0.046046,    0.047047,\n",
              "          0.048048,    0.049049,     0.05005,    0.051051,    0.052052,    0.053053,    0.054054,    0.055055,    0.056056,    0.057057,    0.058058,    0.059059,     0.06006,    0.061061,    0.062062,    0.063063,    0.064064,    0.065065,    0.066066,    0.067067,    0.068068,    0.069069,     0.07007,    0.071071,\n",
              "          0.072072,    0.073073,    0.074074,    0.075075,    0.076076,    0.077077,    0.078078,    0.079079,     0.08008,    0.081081,    0.082082,    0.083083,    0.084084,    0.085085,    0.086086,    0.087087,    0.088088,    0.089089,     0.09009,    0.091091,    0.092092,    0.093093,    0.094094,    0.095095,\n",
              "          0.096096,    0.097097,    0.098098,    0.099099,      0.1001,      0.1011,      0.1021,      0.1031,      0.1041,     0.10511,     0.10611,     0.10711,     0.10811,     0.10911,     0.11011,     0.11111,     0.11211,     0.11311,     0.11411,     0.11512,     0.11612,     0.11712,     0.11812,     0.11912,\n",
              "           0.12012,     0.12112,     0.12212,     0.12312,     0.12412,     0.12513,     0.12613,     0.12713,     0.12813,     0.12913,     0.13013,     0.13113,     0.13213,     0.13313,     0.13413,     0.13514,     0.13614,     0.13714,     0.13814,     0.13914,     0.14014,     0.14114,     0.14214,     0.14314,\n",
              "           0.14414,     0.14515,     0.14615,     0.14715,     0.14815,     0.14915,     0.15015,     0.15115,     0.15215,     0.15315,     0.15415,     0.15516,     0.15616,     0.15716,     0.15816,     0.15916,     0.16016,     0.16116,     0.16216,     0.16316,     0.16416,     0.16517,     0.16617,     0.16717,\n",
              "           0.16817,     0.16917,     0.17017,     0.17117,     0.17217,     0.17317,     0.17417,     0.17518,     0.17618,     0.17718,     0.17818,     0.17918,     0.18018,     0.18118,     0.18218,     0.18318,     0.18418,     0.18519,     0.18619,     0.18719,     0.18819,     0.18919,     0.19019,     0.19119,\n",
              "           0.19219,     0.19319,     0.19419,      0.1952,      0.1962,      0.1972,      0.1982,      0.1992,      0.2002,      0.2012,      0.2022,      0.2032,      0.2042,     0.20521,     0.20621,     0.20721,     0.20821,     0.20921,     0.21021,     0.21121,     0.21221,     0.21321,     0.21421,     0.21522,\n",
              "           0.21622,     0.21722,     0.21822,     0.21922,     0.22022,     0.22122,     0.22222,     0.22322,     0.22422,     0.22523,     0.22623,     0.22723,     0.22823,     0.22923,     0.23023,     0.23123,     0.23223,     0.23323,     0.23423,     0.23524,     0.23624,     0.23724,     0.23824,     0.23924,\n",
              "           0.24024,     0.24124,     0.24224,     0.24324,     0.24424,     0.24525,     0.24625,     0.24725,     0.24825,     0.24925,     0.25025,     0.25125,     0.25225,     0.25325,     0.25425,     0.25526,     0.25626,     0.25726,     0.25826,     0.25926,     0.26026,     0.26126,     0.26226,     0.26326,\n",
              "           0.26426,     0.26527,     0.26627,     0.26727,     0.26827,     0.26927,     0.27027,     0.27127,     0.27227,     0.27327,     0.27427,     0.27528,     0.27628,     0.27728,     0.27828,     0.27928,     0.28028,     0.28128,     0.28228,     0.28328,     0.28428,     0.28529,     0.28629,     0.28729,\n",
              "           0.28829,     0.28929,     0.29029,     0.29129,     0.29229,     0.29329,     0.29429,      0.2953,      0.2963,      0.2973,      0.2983,      0.2993,      0.3003,      0.3013,      0.3023,      0.3033,      0.3043,     0.30531,     0.30631,     0.30731,     0.30831,     0.30931,     0.31031,     0.31131,\n",
              "           0.31231,     0.31331,     0.31431,     0.31532,     0.31632,     0.31732,     0.31832,     0.31932,     0.32032,     0.32132,     0.32232,     0.32332,     0.32432,     0.32533,     0.32633,     0.32733,     0.32833,     0.32933,     0.33033,     0.33133,     0.33233,     0.33333,     0.33433,     0.33534,\n",
              "           0.33634,     0.33734,     0.33834,     0.33934,     0.34034,     0.34134,     0.34234,     0.34334,     0.34434,     0.34535,     0.34635,     0.34735,     0.34835,     0.34935,     0.35035,     0.35135,     0.35235,     0.35335,     0.35435,     0.35536,     0.35636,     0.35736,     0.35836,     0.35936,\n",
              "           0.36036,     0.36136,     0.36236,     0.36336,     0.36436,     0.36537,     0.36637,     0.36737,     0.36837,     0.36937,     0.37037,     0.37137,     0.37237,     0.37337,     0.37437,     0.37538,     0.37638,     0.37738,     0.37838,     0.37938,     0.38038,     0.38138,     0.38238,     0.38338,\n",
              "           0.38438,     0.38539,     0.38639,     0.38739,     0.38839,     0.38939,     0.39039,     0.39139,     0.39239,     0.39339,     0.39439,      0.3954,      0.3964,      0.3974,      0.3984,      0.3994,      0.4004,      0.4014,      0.4024,      0.4034,      0.4044,     0.40541,     0.40641,     0.40741,\n",
              "           0.40841,     0.40941,     0.41041,     0.41141,     0.41241,     0.41341,     0.41441,     0.41542,     0.41642,     0.41742,     0.41842,     0.41942,     0.42042,     0.42142,     0.42242,     0.42342,     0.42442,     0.42543,     0.42643,     0.42743,     0.42843,     0.42943,     0.43043,     0.43143,\n",
              "           0.43243,     0.43343,     0.43443,     0.43544,     0.43644,     0.43744,     0.43844,     0.43944,     0.44044,     0.44144,     0.44244,     0.44344,     0.44444,     0.44545,     0.44645,     0.44745,     0.44845,     0.44945,     0.45045,     0.45145,     0.45245,     0.45345,     0.45445,     0.45546,\n",
              "           0.45646,     0.45746,     0.45846,     0.45946,     0.46046,     0.46146,     0.46246,     0.46346,     0.46446,     0.46547,     0.46647,     0.46747,     0.46847,     0.46947,     0.47047,     0.47147,     0.47247,     0.47347,     0.47447,     0.47548,     0.47648,     0.47748,     0.47848,     0.47948,\n",
              "           0.48048,     0.48148,     0.48248,     0.48348,     0.48448,     0.48549,     0.48649,     0.48749,     0.48849,     0.48949,     0.49049,     0.49149,     0.49249,     0.49349,     0.49449,      0.4955,      0.4965,      0.4975,      0.4985,      0.4995,      0.5005,      0.5015,      0.5025,      0.5035,\n",
              "            0.5045,     0.50551,     0.50651,     0.50751,     0.50851,     0.50951,     0.51051,     0.51151,     0.51251,     0.51351,     0.51451,     0.51552,     0.51652,     0.51752,     0.51852,     0.51952,     0.52052,     0.52152,     0.52252,     0.52352,     0.52452,     0.52553,     0.52653,     0.52753,\n",
              "           0.52853,     0.52953,     0.53053,     0.53153,     0.53253,     0.53353,     0.53453,     0.53554,     0.53654,     0.53754,     0.53854,     0.53954,     0.54054,     0.54154,     0.54254,     0.54354,     0.54454,     0.54555,     0.54655,     0.54755,     0.54855,     0.54955,     0.55055,     0.55155,\n",
              "           0.55255,     0.55355,     0.55455,     0.55556,     0.55656,     0.55756,     0.55856,     0.55956,     0.56056,     0.56156,     0.56256,     0.56356,     0.56456,     0.56557,     0.56657,     0.56757,     0.56857,     0.56957,     0.57057,     0.57157,     0.57257,     0.57357,     0.57457,     0.57558,\n",
              "           0.57658,     0.57758,     0.57858,     0.57958,     0.58058,     0.58158,     0.58258,     0.58358,     0.58458,     0.58559,     0.58659,     0.58759,     0.58859,     0.58959,     0.59059,     0.59159,     0.59259,     0.59359,     0.59459,      0.5956,      0.5966,      0.5976,      0.5986,      0.5996,\n",
              "            0.6006,      0.6016,      0.6026,      0.6036,      0.6046,     0.60561,     0.60661,     0.60761,     0.60861,     0.60961,     0.61061,     0.61161,     0.61261,     0.61361,     0.61461,     0.61562,     0.61662,     0.61762,     0.61862,     0.61962,     0.62062,     0.62162,     0.62262,     0.62362,\n",
              "           0.62462,     0.62563,     0.62663,     0.62763,     0.62863,     0.62963,     0.63063,     0.63163,     0.63263,     0.63363,     0.63463,     0.63564,     0.63664,     0.63764,     0.63864,     0.63964,     0.64064,     0.64164,     0.64264,     0.64364,     0.64464,     0.64565,     0.64665,     0.64765,\n",
              "           0.64865,     0.64965,     0.65065,     0.65165,     0.65265,     0.65365,     0.65465,     0.65566,     0.65666,     0.65766,     0.65866,     0.65966,     0.66066,     0.66166,     0.66266,     0.66366,     0.66466,     0.66567,     0.66667,     0.66767,     0.66867,     0.66967,     0.67067,     0.67167,\n",
              "           0.67267,     0.67367,     0.67467,     0.67568,     0.67668,     0.67768,     0.67868,     0.67968,     0.68068,     0.68168,     0.68268,     0.68368,     0.68468,     0.68569,     0.68669,     0.68769,     0.68869,     0.68969,     0.69069,     0.69169,     0.69269,     0.69369,     0.69469,      0.6957,\n",
              "            0.6967,      0.6977,      0.6987,      0.6997,      0.7007,      0.7017,      0.7027,      0.7037,      0.7047,     0.70571,     0.70671,     0.70771,     0.70871,     0.70971,     0.71071,     0.71171,     0.71271,     0.71371,     0.71471,     0.71572,     0.71672,     0.71772,     0.71872,     0.71972,\n",
              "           0.72072,     0.72172,     0.72272,     0.72372,     0.72472,     0.72573,     0.72673,     0.72773,     0.72873,     0.72973,     0.73073,     0.73173,     0.73273,     0.73373,     0.73473,     0.73574,     0.73674,     0.73774,     0.73874,     0.73974,     0.74074,     0.74174,     0.74274,     0.74374,\n",
              "           0.74474,     0.74575,     0.74675,     0.74775,     0.74875,     0.74975,     0.75075,     0.75175,     0.75275,     0.75375,     0.75475,     0.75576,     0.75676,     0.75776,     0.75876,     0.75976,     0.76076,     0.76176,     0.76276,     0.76376,     0.76476,     0.76577,     0.76677,     0.76777,\n",
              "           0.76877,     0.76977,     0.77077,     0.77177,     0.77277,     0.77377,     0.77477,     0.77578,     0.77678,     0.77778,     0.77878,     0.77978,     0.78078,     0.78178,     0.78278,     0.78378,     0.78478,     0.78579,     0.78679,     0.78779,     0.78879,     0.78979,     0.79079,     0.79179,\n",
              "           0.79279,     0.79379,     0.79479,      0.7958,      0.7968,      0.7978,      0.7988,      0.7998,      0.8008,      0.8018,      0.8028,      0.8038,      0.8048,     0.80581,     0.80681,     0.80781,     0.80881,     0.80981,     0.81081,     0.81181,     0.81281,     0.81381,     0.81481,     0.81582,\n",
              "           0.81682,     0.81782,     0.81882,     0.81982,     0.82082,     0.82182,     0.82282,     0.82382,     0.82482,     0.82583,     0.82683,     0.82783,     0.82883,     0.82983,     0.83083,     0.83183,     0.83283,     0.83383,     0.83483,     0.83584,     0.83684,     0.83784,     0.83884,     0.83984,\n",
              "           0.84084,     0.84184,     0.84284,     0.84384,     0.84484,     0.84585,     0.84685,     0.84785,     0.84885,     0.84985,     0.85085,     0.85185,     0.85285,     0.85385,     0.85485,     0.85586,     0.85686,     0.85786,     0.85886,     0.85986,     0.86086,     0.86186,     0.86286,     0.86386,\n",
              "           0.86486,     0.86587,     0.86687,     0.86787,     0.86887,     0.86987,     0.87087,     0.87187,     0.87287,     0.87387,     0.87487,     0.87588,     0.87688,     0.87788,     0.87888,     0.87988,     0.88088,     0.88188,     0.88288,     0.88388,     0.88488,     0.88589,     0.88689,     0.88789,\n",
              "           0.88889,     0.88989,     0.89089,     0.89189,     0.89289,     0.89389,     0.89489,      0.8959,      0.8969,      0.8979,      0.8989,      0.8999,      0.9009,      0.9019,      0.9029,      0.9039,      0.9049,     0.90591,     0.90691,     0.90791,     0.90891,     0.90991,     0.91091,     0.91191,\n",
              "           0.91291,     0.91391,     0.91491,     0.91592,     0.91692,     0.91792,     0.91892,     0.91992,     0.92092,     0.92192,     0.92292,     0.92392,     0.92492,     0.92593,     0.92693,     0.92793,     0.92893,     0.92993,     0.93093,     0.93193,     0.93293,     0.93393,     0.93493,     0.93594,\n",
              "           0.93694,     0.93794,     0.93894,     0.93994,     0.94094,     0.94194,     0.94294,     0.94394,     0.94494,     0.94595,     0.94695,     0.94795,     0.94895,     0.94995,     0.95095,     0.95195,     0.95295,     0.95395,     0.95495,     0.95596,     0.95696,     0.95796,     0.95896,     0.95996,\n",
              "           0.96096,     0.96196,     0.96296,     0.96396,     0.96496,     0.96597,     0.96697,     0.96797,     0.96897,     0.96997,     0.97097,     0.97197,     0.97297,     0.97397,     0.97497,     0.97598,     0.97698,     0.97798,     0.97898,     0.97998,     0.98098,     0.98198,     0.98298,     0.98398,\n",
              "           0.98498,     0.98599,     0.98699,     0.98799,     0.98899,     0.98999,     0.99099,     0.99199,     0.99299,     0.99399,     0.99499,       0.996,       0.997,       0.998,       0.999,           1]), array([[    0.84722,     0.84722,     0.79861,     0.78125,     0.77083,     0.77083,     0.76389,     0.76389,     0.76042,     0.75694,     0.75694,     0.75694,     0.75347,        0.75,        0.75,        0.75,     0.74306,     0.74306,     0.74306,     0.74306,     0.73611,     0.73611,     0.73611,\n",
              "            0.73611,     0.73611,     0.73264,     0.73264,     0.73264,     0.73264,     0.72917,     0.72569,     0.72222,     0.72222,     0.72222,     0.72222,     0.72222,     0.72222,     0.72222,     0.71875,     0.71875,     0.71528,     0.71181,     0.70833,     0.70833,     0.70833,     0.70833,\n",
              "            0.70833,     0.70833,     0.70139,     0.69792,     0.69444,     0.69444,     0.69444,     0.69444,     0.69444,     0.69444,     0.69097,     0.69097,      0.6875,     0.68403,     0.68403,     0.68056,     0.68056,     0.68056,     0.68056,     0.68056,     0.67411,     0.67361,     0.67361,\n",
              "            0.67014,     0.67014,     0.67014,     0.67014,     0.67014,     0.67014,     0.67014,     0.67014,     0.67014,     0.66667,     0.66667,     0.66667,     0.66667,     0.66667,     0.66667,     0.66504,     0.66319,     0.66319,     0.65972,     0.65972,     0.65972,     0.65972,     0.65972,\n",
              "            0.65972,     0.65972,     0.65972,     0.65972,     0.65972,     0.65972,     0.65972,     0.65972,     0.65972,     0.65972,      0.6589,     0.65625,     0.65625,     0.65625,     0.65625,     0.65625,     0.65625,     0.65625,     0.65625,     0.65625,     0.65278,     0.65278,     0.65278,\n",
              "            0.65278,     0.65278,     0.64931,     0.64931,     0.64931,     0.64931,     0.64931,     0.64797,     0.64329,     0.64236,     0.64236,     0.64135,     0.63977,     0.63889,     0.63889,     0.63889,     0.63889,     0.63889,     0.63889,     0.63889,     0.63889,     0.63542,     0.63542,\n",
              "            0.63542,     0.63542,     0.63542,     0.63542,     0.63542,     0.63542,     0.63542,     0.63542,     0.63542,     0.63504,     0.63194,     0.63194,     0.63194,     0.63194,     0.63194,     0.63194,     0.63194,     0.63194,     0.63194,     0.63194,     0.63194,     0.63194,     0.63194,\n",
              "            0.63194,     0.63194,     0.63194,     0.63082,     0.62924,       0.625,       0.625,       0.625,       0.625,       0.625,       0.625,      0.6247,     0.62153,     0.62153,     0.62153,     0.62153,     0.62153,     0.62153,     0.62153,     0.62153,     0.62153,     0.62153,     0.62153,\n",
              "            0.62153,     0.62153,     0.62153,     0.62153,     0.62153,     0.62153,     0.62153,     0.62153,     0.62153,     0.62153,     0.62153,     0.62153,     0.62153,     0.62153,     0.61806,     0.61806,     0.61458,     0.61458,     0.61458,     0.61458,     0.61458,     0.61458,     0.61458,\n",
              "            0.61458,     0.61444,     0.61266,     0.61111,     0.61111,     0.61111,     0.61111,     0.61111,     0.61111,     0.61111,     0.61111,     0.61111,     0.61111,     0.61111,     0.61111,     0.61111,     0.61111,     0.61111,     0.61111,      0.6084,     0.60764,     0.60764,     0.60764,\n",
              "            0.60764,     0.60764,     0.60764,     0.60764,     0.60764,     0.60703,     0.60417,     0.60217,     0.60069,     0.60069,     0.60069,     0.60069,     0.60069,     0.60069,     0.60069,     0.60069,     0.59628,     0.59391,     0.59375,     0.59375,     0.59375,     0.59375,     0.59375,\n",
              "            0.59375,     0.59334,     0.59215,     0.59096,     0.59028,     0.59028,     0.59028,     0.59028,     0.59028,     0.59028,     0.58971,     0.58681,     0.58681,     0.58681,     0.58681,     0.58681,     0.58662,     0.58578,     0.58494,      0.5841,     0.58328,      0.5826,     0.58192,\n",
              "            0.58125,     0.58057,     0.57989,     0.57901,     0.57812,     0.57723,     0.57639,     0.57639,     0.57639,     0.57639,     0.57639,     0.57639,     0.57639,     0.57639,     0.57639,     0.57639,     0.57639,     0.57639,     0.57634,     0.57586,     0.57539,     0.57492,     0.57444,\n",
              "            0.57397,     0.57349,     0.57302,     0.57292,     0.57292,     0.57292,     0.57261,     0.57024,     0.56944,     0.56944,     0.56944,     0.56944,     0.56944,     0.56944,     0.56944,     0.56944,     0.56944,     0.56944,     0.56944,     0.56612,     0.56597,     0.56597,     0.56597,\n",
              "            0.56597,     0.56597,     0.56597,     0.56597,     0.56597,     0.56597,     0.56597,     0.56597,     0.56597,     0.56597,     0.56597,     0.56597,     0.56597,     0.56597,     0.56597,     0.56597,     0.56597,     0.56597,     0.56597,     0.56597,     0.56597,     0.56597,     0.56597,\n",
              "            0.56597,     0.56597,     0.56597,     0.56597,     0.56597,     0.56501,     0.56372,     0.56223,     0.55903,     0.55903,     0.55903,     0.55903,     0.55903,     0.55903,     0.55903,     0.55703,      0.5549,     0.55253,     0.55208,     0.55208,     0.55208,     0.55208,     0.54892,\n",
              "            0.54861,     0.54861,     0.54827,     0.54792,     0.54757,     0.54723,     0.54688,     0.54653,     0.54619,     0.54584,     0.54549,     0.54514,     0.54514,     0.54514,     0.54514,     0.54514,     0.54514,     0.54514,     0.54514,     0.54514,     0.54514,     0.54167,     0.54167,\n",
              "            0.54167,     0.54167,     0.54167,     0.54167,     0.54167,     0.54167,     0.54167,     0.54167,     0.54167,     0.54167,     0.54167,     0.54167,     0.54167,     0.54167,     0.54167,     0.54167,     0.54167,     0.54167,     0.54167,     0.54167,     0.54167,     0.54167,     0.53777,\n",
              "            0.53648,     0.53518,     0.53443,     0.53397,     0.53351,     0.53305,     0.53259,     0.53213,     0.53167,     0.53121,     0.53077,     0.53032,     0.52988,     0.52943,     0.52899,     0.52854,      0.5281,     0.52778,     0.52778,     0.52747,     0.52652,     0.52557,     0.52462,\n",
              "            0.52431,     0.52431,     0.52431,     0.52431,     0.52431,     0.52431,     0.52431,     0.52431,     0.52431,     0.52431,     0.52431,     0.52431,     0.52431,     0.52431,     0.52431,     0.52431,     0.52431,     0.52431,     0.52431,     0.52431,     0.52431,     0.52431,     0.52431,\n",
              "            0.52431,     0.52431,     0.52431,     0.52431,     0.52388,     0.52317,     0.52246,     0.52175,     0.52103,     0.51955,     0.51777,     0.51736,     0.51107,     0.50969,      0.5088,     0.50791,     0.50702,     0.50532,     0.50354,     0.50347,     0.50347,     0.50347,     0.50347,\n",
              "            0.50347,     0.50347,     0.50347,     0.50347,     0.50347,     0.50323,     0.50204,     0.50085,         0.5,     0.49946,     0.49768,     0.49527,     0.49238,      0.4906,     0.48806,     0.48611,     0.48611,     0.48433,     0.48077,     0.47721,     0.47569,     0.47569,     0.47569,\n",
              "            0.47569,     0.47569,     0.47569,     0.47569,     0.47437,     0.47259,     0.46734,     0.46556,     0.46228,     0.46119,     0.46048,     0.45977,     0.45905,     0.45834,     0.45657,     0.45486,     0.45486,     0.45486,     0.45486,     0.45478,     0.45419,     0.45359,       0.453,\n",
              "            0.45241,     0.45182,     0.45039,     0.44737,     0.44559,     0.44066,     0.43977,     0.43888,     0.43799,     0.43589,     0.43233,     0.42996,     0.42877,     0.42759,     0.42708,     0.42708,     0.42708,     0.42593,     0.42415,     0.42299,      0.4221,     0.42121,     0.42032,\n",
              "            0.41963,     0.41898,     0.41833,     0.41768,     0.41704,      0.4159,     0.41413,     0.41235,     0.41057,     0.40438,     0.40082,     0.39931,     0.39931,     0.39931,     0.39931,     0.39931,     0.39931,     0.39498,     0.39379,      0.3926,     0.39236,     0.39236,     0.39236,\n",
              "            0.39236,     0.39236,     0.38563,     0.38542,     0.38542,     0.38194,     0.38191,     0.38112,     0.38033,     0.37954,     0.37875,      0.3779,     0.37701,     0.37612,     0.37523,      0.3702,     0.36842,     0.36806,     0.36806,     0.36505,     0.36149,     0.35345,     0.35167,\n",
              "            0.34722,     0.33858,     0.33681,     0.33146,     0.32443,     0.32292,     0.32292,     0.32292,     0.32292,     0.32226,      0.3192,     0.31801,     0.31682,     0.31149,     0.30903,     0.30903,     0.30903,     0.29514,     0.29225,      0.2884,     0.27957,     0.27779,     0.27778,\n",
              "            0.27424,     0.27246,     0.27062,     0.26825,     0.26625,     0.26447,     0.26149,     0.26042,     0.26042,     0.26042,     0.26042,      0.2599,     0.25925,     0.25861,     0.25796,     0.25731,      0.2566,     0.25581,     0.25502,     0.25423,     0.25333,     0.24991,     0.24848,\n",
              "            0.24706,     0.24653,     0.24653,     0.24653,     0.24404,     0.24254,     0.24183,     0.24112,     0.24041,     0.23969,     0.23891,     0.23812,     0.23733,     0.23654,      0.2353,     0.23352,     0.23192,      0.2305,     0.22546,     0.22206,     0.22028,     0.21495,     0.21258,\n",
              "            0.21112,      0.2101,     0.20909,     0.20741,     0.20088,      0.1991,     0.19554,     0.19398,     0.19343,     0.19289,     0.19234,     0.19179,     0.19124,     0.19076,     0.19034,     0.18992,      0.1895,     0.18909,     0.18867,     0.18825,     0.18783,       0.187,     0.18462,\n",
              "            0.17442,     0.16739,     0.16383,     0.16274,      0.1622,     0.16165,      0.1611,     0.16055,     0.16001,     0.15801,     0.15218,     0.15099,     0.14981,     0.14901,      0.1485,     0.14799,     0.14749,     0.14698,     0.14647,     0.14596,     0.14517,     0.14428,     0.14339,\n",
              "             0.1425,     0.14196,     0.14148,     0.14101,     0.14054,     0.14006,     0.13959,     0.13911,      0.1354,       0.135,     0.13461,     0.13421,     0.13382,     0.13342,     0.13303,     0.13263,     0.13224,     0.13148,      0.1297,     0.12737,      0.1247,     0.12381,     0.12292,\n",
              "            0.12203,     0.11845,     0.11786,     0.11765,     0.11744,     0.11723,     0.11702,     0.11681,      0.1166,     0.11639,     0.11618,     0.11597,     0.11576,     0.11555,     0.11535,     0.11514,     0.11493,     0.11472,     0.11435,      0.1137,     0.11306,     0.11241,     0.11176,\n",
              "            0.11111,     0.10875,     0.10291,    0.097062,     0.09469,    0.093033,    0.091847,    0.090661,    0.081726,    0.075628,    0.068879,    0.066506,    0.060661,    0.055397,    0.054889,     0.05438,    0.053872,    0.053363,    0.052855,    0.052346,    0.051593,    0.050576,    0.049559,\n",
              "           0.048551,    0.047661,    0.046771,    0.045881,    0.044992,    0.044102,    0.043212,    0.042322,    0.039793,    0.038194,    0.038194,    0.038194,    0.035174,    0.032651,    0.029792,    0.027336,    0.026319,    0.025303,    0.024296,    0.023822,    0.023347,    0.022873,    0.022398,\n",
              "           0.021924,    0.021449,    0.020974,    0.020278,    0.019487,    0.018696,    0.017905,     0.01662,    0.014247,    0.013217,    0.012426,    0.011635,    0.010845,   0.0068561,   0.0066638,   0.0064714,    0.006279,   0.0060866,   0.0058942,   0.0057018,   0.0055095,   0.0053171,   0.0051247,\n",
              "          0.0049323,   0.0047399,   0.0045475,   0.0043551,   0.0041628,   0.0039704,    0.003778,   0.0035856,           0,           0,           0,           0,           0,           0,           0,           0,           0,           0,           0,           0,           0,           0,           0,\n",
              "                  0,           0,           0,           0,           0,           0,           0,           0,           0,           0,           0,           0,           0,           0,           0,           0,           0,           0,           0,           0,           0,           0,           0,\n",
              "                  0,           0,           0,           0,           0,           0,           0,           0,           0,           0,           0,           0,           0,           0,           0,           0,           0,           0,           0,           0,           0,           0,           0,\n",
              "                  0,           0,           0,           0,           0,           0,           0,           0,           0,           0,           0,           0,           0,           0,           0,           0,           0,           0,           0,           0,           0,           0,           0,\n",
              "                  0,           0,           0,           0,           0,           0,           0,           0,           0,           0,           0,           0,           0,           0,           0,           0,           0,           0,           0,           0,           0,           0,           0,\n",
              "                  0,           0,           0,           0,           0,           0,           0,           0,           0,           0,           0,           0,           0,           0,           0,           0,           0,           0,           0,           0,           0,           0,           0,\n",
              "                  0,           0,           0,           0,           0,           0,           0,           0,           0,           0,           0,           0,           0,           0,           0,           0,           0,           0,           0,           0,           0,           0,           0,\n",
              "                  0,           0,           0,           0,           0,           0,           0,           0,           0,           0,           0]]), 'Confidence', 'Recall']]\n",
              "fitness: 0.3195762914650999\n",
              "keys: ['metrics/precision(B)', 'metrics/recall(B)', 'metrics/mAP50(B)', 'metrics/mAP50-95(B)']\n",
              "maps: array([    0.28604])\n",
              "names: {0: 'Accident'}\n",
              "plot: True\n",
              "results_dict: {'metrics/precision(B)': 0.7552787471754095, 'metrics/recall(B)': 0.5465330676204659, 'metrics/mAP50(B)': 0.6214029457106339, 'metrics/mAP50-95(B)': 0.2860399965489295, 'fitness': 0.3195762914650999}\n",
              "save_dir: PosixPath('runs/detect/train')\n",
              "speed: {'preprocess': 0.25004517999942094, 'inference': 2.5830223875225715, 'loss': 0.0005282481725646479, 'postprocess': 3.4719843748766137}\n",
              "task: 'detect'"
            ]
          },
          "metadata": {},
          "execution_count": 4
        }
      ]
    },
    {
      "cell_type": "code",
      "source": [
        "\n",
        "\n",
        "# Import YOLO from the ultralytics package\n",
        "from ultralytics import YOLO\n",
        "\n",
        "# Load your custom-trained model\n",
        "model = YOLO('/content/best.pt')\n",
        "\n",
        "# Run prediction on your video file\n",
        "results = model.predict(source='/content/Recording 2024-11-01 055741.mp4', save=True)\n",
        "\n",
        "# This will process the video and save output in the default runs folder\n"
      ],
      "metadata": {
        "colab": {
          "base_uri": "https://localhost:8080/"
        },
        "id": "ADz-w5nf0H8t",
        "outputId": "d562bf3d-59d8-4f5c-9dcb-032f39f3cf86"
      },
      "execution_count": 8,
      "outputs": [
        {
          "output_type": "stream",
          "name": "stdout",
          "text": [
            "\n",
            "\n",
            "WARNING ⚠️ inference results will accumulate in RAM unless `stream=True` is passed, causing potential out-of-memory\n",
            "errors for large sources or long-running streams and videos. See https://docs.ultralytics.com/modes/predict/ for help.\n",
            "\n",
            "Example:\n",
            "    results = model(source=..., stream=True)  # generator of Results objects\n",
            "    for r in results:\n",
            "        boxes = r.boxes  # Boxes object for bbox outputs\n",
            "        masks = r.masks  # Masks object for segment masks outputs\n",
            "        probs = r.probs  # Class probabilities for classification outputs\n",
            "\n",
            "video 1/1 (frame 1/362) /content/Recording 2024-11-01 055741.mp4: 512x640 1 Accident, 23.9ms\n",
            "video 1/1 (frame 2/362) /content/Recording 2024-11-01 055741.mp4: 512x640 (no detections), 17.5ms\n",
            "video 1/1 (frame 3/362) /content/Recording 2024-11-01 055741.mp4: 512x640 (no detections), 20.1ms\n",
            "video 1/1 (frame 4/362) /content/Recording 2024-11-01 055741.mp4: 512x640 (no detections), 10.5ms\n",
            "video 1/1 (frame 5/362) /content/Recording 2024-11-01 055741.mp4: 512x640 (no detections), 10.6ms\n",
            "video 1/1 (frame 6/362) /content/Recording 2024-11-01 055741.mp4: 512x640 (no detections), 14.2ms\n",
            "video 1/1 (frame 7/362) /content/Recording 2024-11-01 055741.mp4: 512x640 (no detections), 11.2ms\n",
            "video 1/1 (frame 8/362) /content/Recording 2024-11-01 055741.mp4: 512x640 1 Accident, 9.6ms\n",
            "video 1/1 (frame 9/362) /content/Recording 2024-11-01 055741.mp4: 512x640 (no detections), 9.4ms\n",
            "video 1/1 (frame 10/362) /content/Recording 2024-11-01 055741.mp4: 512x640 (no detections), 9.9ms\n",
            "video 1/1 (frame 11/362) /content/Recording 2024-11-01 055741.mp4: 512x640 1 Accident, 9.5ms\n",
            "video 1/1 (frame 12/362) /content/Recording 2024-11-01 055741.mp4: 512x640 (no detections), 9.7ms\n",
            "video 1/1 (frame 13/362) /content/Recording 2024-11-01 055741.mp4: 512x640 (no detections), 11.1ms\n",
            "video 1/1 (frame 14/362) /content/Recording 2024-11-01 055741.mp4: 512x640 (no detections), 9.2ms\n",
            "video 1/1 (frame 15/362) /content/Recording 2024-11-01 055741.mp4: 512x640 (no detections), 10.1ms\n",
            "video 1/1 (frame 16/362) /content/Recording 2024-11-01 055741.mp4: 512x640 (no detections), 9.7ms\n",
            "video 1/1 (frame 17/362) /content/Recording 2024-11-01 055741.mp4: 512x640 (no detections), 10.4ms\n",
            "video 1/1 (frame 18/362) /content/Recording 2024-11-01 055741.mp4: 512x640 (no detections), 11.0ms\n",
            "video 1/1 (frame 19/362) /content/Recording 2024-11-01 055741.mp4: 512x640 (no detections), 10.1ms\n",
            "video 1/1 (frame 20/362) /content/Recording 2024-11-01 055741.mp4: 512x640 (no detections), 10.3ms\n",
            "video 1/1 (frame 21/362) /content/Recording 2024-11-01 055741.mp4: 512x640 (no detections), 9.4ms\n",
            "video 1/1 (frame 22/362) /content/Recording 2024-11-01 055741.mp4: 512x640 (no detections), 10.2ms\n",
            "video 1/1 (frame 23/362) /content/Recording 2024-11-01 055741.mp4: 512x640 (no detections), 9.5ms\n",
            "video 1/1 (frame 24/362) /content/Recording 2024-11-01 055741.mp4: 512x640 (no detections), 16.5ms\n",
            "video 1/1 (frame 25/362) /content/Recording 2024-11-01 055741.mp4: 512x640 (no detections), 10.4ms\n",
            "video 1/1 (frame 26/362) /content/Recording 2024-11-01 055741.mp4: 512x640 (no detections), 10.2ms\n",
            "video 1/1 (frame 27/362) /content/Recording 2024-11-01 055741.mp4: 512x640 (no detections), 9.5ms\n",
            "video 1/1 (frame 28/362) /content/Recording 2024-11-01 055741.mp4: 512x640 (no detections), 17.5ms\n",
            "video 1/1 (frame 29/362) /content/Recording 2024-11-01 055741.mp4: 512x640 (no detections), 9.5ms\n",
            "video 1/1 (frame 30/362) /content/Recording 2024-11-01 055741.mp4: 512x640 (no detections), 11.0ms\n",
            "video 1/1 (frame 31/362) /content/Recording 2024-11-01 055741.mp4: 512x640 (no detections), 10.1ms\n",
            "video 1/1 (frame 32/362) /content/Recording 2024-11-01 055741.mp4: 512x640 (no detections), 10.1ms\n",
            "video 1/1 (frame 33/362) /content/Recording 2024-11-01 055741.mp4: 512x640 (no detections), 10.9ms\n",
            "video 1/1 (frame 34/362) /content/Recording 2024-11-01 055741.mp4: 512x640 (no detections), 11.2ms\n",
            "video 1/1 (frame 35/362) /content/Recording 2024-11-01 055741.mp4: 512x640 (no detections), 11.3ms\n",
            "video 1/1 (frame 36/362) /content/Recording 2024-11-01 055741.mp4: 512x640 (no detections), 9.7ms\n",
            "video 1/1 (frame 37/362) /content/Recording 2024-11-01 055741.mp4: 512x640 (no detections), 10.0ms\n",
            "video 1/1 (frame 38/362) /content/Recording 2024-11-01 055741.mp4: 512x640 (no detections), 9.4ms\n",
            "video 1/1 (frame 39/362) /content/Recording 2024-11-01 055741.mp4: 512x640 (no detections), 11.8ms\n",
            "video 1/1 (frame 40/362) /content/Recording 2024-11-01 055741.mp4: 512x640 (no detections), 10.2ms\n",
            "video 1/1 (frame 41/362) /content/Recording 2024-11-01 055741.mp4: 512x640 (no detections), 9.6ms\n",
            "video 1/1 (frame 42/362) /content/Recording 2024-11-01 055741.mp4: 512x640 (no detections), 10.7ms\n",
            "video 1/1 (frame 43/362) /content/Recording 2024-11-01 055741.mp4: 512x640 (no detections), 9.6ms\n",
            "video 1/1 (frame 44/362) /content/Recording 2024-11-01 055741.mp4: 512x640 (no detections), 10.7ms\n",
            "video 1/1 (frame 45/362) /content/Recording 2024-11-01 055741.mp4: 512x640 (no detections), 12.4ms\n",
            "video 1/1 (frame 46/362) /content/Recording 2024-11-01 055741.mp4: 512x640 (no detections), 11.5ms\n",
            "video 1/1 (frame 47/362) /content/Recording 2024-11-01 055741.mp4: 512x640 (no detections), 9.5ms\n",
            "video 1/1 (frame 48/362) /content/Recording 2024-11-01 055741.mp4: 512x640 (no detections), 9.5ms\n",
            "video 1/1 (frame 49/362) /content/Recording 2024-11-01 055741.mp4: 512x640 (no detections), 9.6ms\n",
            "video 1/1 (frame 50/362) /content/Recording 2024-11-01 055741.mp4: 512x640 (no detections), 9.5ms\n",
            "video 1/1 (frame 51/362) /content/Recording 2024-11-01 055741.mp4: 512x640 (no detections), 11.0ms\n",
            "video 1/1 (frame 52/362) /content/Recording 2024-11-01 055741.mp4: 512x640 (no detections), 10.7ms\n",
            "video 1/1 (frame 53/362) /content/Recording 2024-11-01 055741.mp4: 512x640 (no detections), 9.3ms\n",
            "video 1/1 (frame 54/362) /content/Recording 2024-11-01 055741.mp4: 512x640 (no detections), 9.4ms\n",
            "video 1/1 (frame 55/362) /content/Recording 2024-11-01 055741.mp4: 512x640 (no detections), 10.4ms\n",
            "video 1/1 (frame 56/362) /content/Recording 2024-11-01 055741.mp4: 512x640 (no detections), 10.3ms\n",
            "video 1/1 (frame 57/362) /content/Recording 2024-11-01 055741.mp4: 512x640 (no detections), 9.6ms\n",
            "video 1/1 (frame 58/362) /content/Recording 2024-11-01 055741.mp4: 512x640 (no detections), 9.6ms\n",
            "video 1/1 (frame 59/362) /content/Recording 2024-11-01 055741.mp4: 512x640 (no detections), 10.9ms\n",
            "video 1/1 (frame 60/362) /content/Recording 2024-11-01 055741.mp4: 512x640 (no detections), 10.9ms\n",
            "video 1/1 (frame 61/362) /content/Recording 2024-11-01 055741.mp4: 512x640 (no detections), 13.5ms\n",
            "video 1/1 (frame 62/362) /content/Recording 2024-11-01 055741.mp4: 512x640 (no detections), 13.3ms\n",
            "video 1/1 (frame 63/362) /content/Recording 2024-11-01 055741.mp4: 512x640 (no detections), 13.0ms\n",
            "video 1/1 (frame 64/362) /content/Recording 2024-11-01 055741.mp4: 512x640 (no detections), 14.7ms\n",
            "video 1/1 (frame 65/362) /content/Recording 2024-11-01 055741.mp4: 512x640 (no detections), 13.7ms\n",
            "video 1/1 (frame 66/362) /content/Recording 2024-11-01 055741.mp4: 512x640 (no detections), 14.0ms\n",
            "video 1/1 (frame 67/362) /content/Recording 2024-11-01 055741.mp4: 512x640 (no detections), 14.9ms\n",
            "video 1/1 (frame 68/362) /content/Recording 2024-11-01 055741.mp4: 512x640 (no detections), 14.9ms\n",
            "video 1/1 (frame 69/362) /content/Recording 2024-11-01 055741.mp4: 512x640 (no detections), 14.1ms\n",
            "video 1/1 (frame 70/362) /content/Recording 2024-11-01 055741.mp4: 512x640 (no detections), 13.3ms\n",
            "video 1/1 (frame 71/362) /content/Recording 2024-11-01 055741.mp4: 512x640 (no detections), 14.0ms\n",
            "video 1/1 (frame 72/362) /content/Recording 2024-11-01 055741.mp4: 512x640 (no detections), 11.3ms\n",
            "video 1/1 (frame 73/362) /content/Recording 2024-11-01 055741.mp4: 512x640 (no detections), 9.4ms\n",
            "video 1/1 (frame 74/362) /content/Recording 2024-11-01 055741.mp4: 512x640 (no detections), 9.6ms\n",
            "video 1/1 (frame 75/362) /content/Recording 2024-11-01 055741.mp4: 512x640 (no detections), 9.5ms\n",
            "video 1/1 (frame 76/362) /content/Recording 2024-11-01 055741.mp4: 512x640 (no detections), 16.8ms\n",
            "video 1/1 (frame 77/362) /content/Recording 2024-11-01 055741.mp4: 512x640 (no detections), 16.3ms\n",
            "video 1/1 (frame 78/362) /content/Recording 2024-11-01 055741.mp4: 512x640 (no detections), 12.9ms\n",
            "video 1/1 (frame 79/362) /content/Recording 2024-11-01 055741.mp4: 512x640 (no detections), 10.0ms\n",
            "video 1/1 (frame 80/362) /content/Recording 2024-11-01 055741.mp4: 512x640 (no detections), 9.9ms\n",
            "video 1/1 (frame 81/362) /content/Recording 2024-11-01 055741.mp4: 512x640 (no detections), 10.5ms\n",
            "video 1/1 (frame 82/362) /content/Recording 2024-11-01 055741.mp4: 512x640 (no detections), 10.0ms\n",
            "video 1/1 (frame 83/362) /content/Recording 2024-11-01 055741.mp4: 512x640 (no detections), 13.4ms\n",
            "video 1/1 (frame 84/362) /content/Recording 2024-11-01 055741.mp4: 512x640 (no detections), 9.5ms\n",
            "video 1/1 (frame 85/362) /content/Recording 2024-11-01 055741.mp4: 512x640 (no detections), 9.7ms\n",
            "video 1/1 (frame 86/362) /content/Recording 2024-11-01 055741.mp4: 512x640 (no detections), 9.9ms\n",
            "video 1/1 (frame 87/362) /content/Recording 2024-11-01 055741.mp4: 512x640 (no detections), 10.8ms\n",
            "video 1/1 (frame 88/362) /content/Recording 2024-11-01 055741.mp4: 512x640 (no detections), 11.9ms\n",
            "video 1/1 (frame 89/362) /content/Recording 2024-11-01 055741.mp4: 512x640 (no detections), 10.4ms\n",
            "video 1/1 (frame 90/362) /content/Recording 2024-11-01 055741.mp4: 512x640 (no detections), 9.8ms\n",
            "video 1/1 (frame 91/362) /content/Recording 2024-11-01 055741.mp4: 512x640 (no detections), 9.7ms\n",
            "video 1/1 (frame 92/362) /content/Recording 2024-11-01 055741.mp4: 512x640 (no detections), 11.6ms\n",
            "video 1/1 (frame 93/362) /content/Recording 2024-11-01 055741.mp4: 512x640 (no detections), 10.7ms\n",
            "video 1/1 (frame 94/362) /content/Recording 2024-11-01 055741.mp4: 512x640 (no detections), 9.4ms\n",
            "video 1/1 (frame 95/362) /content/Recording 2024-11-01 055741.mp4: 512x640 (no detections), 9.9ms\n",
            "video 1/1 (frame 96/362) /content/Recording 2024-11-01 055741.mp4: 512x640 (no detections), 10.7ms\n",
            "video 1/1 (frame 97/362) /content/Recording 2024-11-01 055741.mp4: 512x640 (no detections), 10.2ms\n",
            "video 1/1 (frame 98/362) /content/Recording 2024-11-01 055741.mp4: 512x640 (no detections), 10.8ms\n",
            "video 1/1 (frame 99/362) /content/Recording 2024-11-01 055741.mp4: 512x640 (no detections), 9.7ms\n",
            "video 1/1 (frame 100/362) /content/Recording 2024-11-01 055741.mp4: 512x640 (no detections), 11.0ms\n",
            "video 1/1 (frame 101/362) /content/Recording 2024-11-01 055741.mp4: 512x640 (no detections), 10.7ms\n",
            "video 1/1 (frame 102/362) /content/Recording 2024-11-01 055741.mp4: 512x640 (no detections), 9.7ms\n",
            "video 1/1 (frame 103/362) /content/Recording 2024-11-01 055741.mp4: 512x640 (no detections), 9.4ms\n",
            "video 1/1 (frame 104/362) /content/Recording 2024-11-01 055741.mp4: 512x640 (no detections), 12.5ms\n",
            "video 1/1 (frame 105/362) /content/Recording 2024-11-01 055741.mp4: 512x640 (no detections), 11.1ms\n",
            "video 1/1 (frame 106/362) /content/Recording 2024-11-01 055741.mp4: 512x640 (no detections), 9.3ms\n",
            "video 1/1 (frame 107/362) /content/Recording 2024-11-01 055741.mp4: 512x640 (no detections), 9.4ms\n",
            "video 1/1 (frame 108/362) /content/Recording 2024-11-01 055741.mp4: 512x640 (no detections), 10.9ms\n",
            "video 1/1 (frame 109/362) /content/Recording 2024-11-01 055741.mp4: 512x640 1 Accident, 12.9ms\n",
            "video 1/1 (frame 110/362) /content/Recording 2024-11-01 055741.mp4: 512x640 1 Accident, 9.5ms\n",
            "video 1/1 (frame 111/362) /content/Recording 2024-11-01 055741.mp4: 512x640 1 Accident, 12.3ms\n",
            "video 1/1 (frame 112/362) /content/Recording 2024-11-01 055741.mp4: 512x640 1 Accident, 9.6ms\n",
            "video 1/1 (frame 113/362) /content/Recording 2024-11-01 055741.mp4: 512x640 1 Accident, 18.3ms\n",
            "video 1/1 (frame 114/362) /content/Recording 2024-11-01 055741.mp4: 512x640 (no detections), 15.2ms\n",
            "video 1/1 (frame 115/362) /content/Recording 2024-11-01 055741.mp4: 512x640 1 Accident, 14.9ms\n",
            "video 1/1 (frame 116/362) /content/Recording 2024-11-01 055741.mp4: 512x640 1 Accident, 14.6ms\n",
            "video 1/1 (frame 117/362) /content/Recording 2024-11-01 055741.mp4: 512x640 1 Accident, 14.9ms\n",
            "video 1/1 (frame 118/362) /content/Recording 2024-11-01 055741.mp4: 512x640 1 Accident, 15.9ms\n",
            "video 1/1 (frame 119/362) /content/Recording 2024-11-01 055741.mp4: 512x640 (no detections), 13.8ms\n",
            "video 1/1 (frame 120/362) /content/Recording 2024-11-01 055741.mp4: 512x640 (no detections), 9.7ms\n",
            "video 1/1 (frame 121/362) /content/Recording 2024-11-01 055741.mp4: 512x640 (no detections), 9.6ms\n",
            "video 1/1 (frame 122/362) /content/Recording 2024-11-01 055741.mp4: 512x640 (no detections), 9.7ms\n",
            "video 1/1 (frame 123/362) /content/Recording 2024-11-01 055741.mp4: 512x640 (no detections), 9.9ms\n",
            "video 1/1 (frame 124/362) /content/Recording 2024-11-01 055741.mp4: 512x640 (no detections), 11.2ms\n",
            "video 1/1 (frame 125/362) /content/Recording 2024-11-01 055741.mp4: 512x640 (no detections), 10.0ms\n",
            "video 1/1 (frame 126/362) /content/Recording 2024-11-01 055741.mp4: 512x640 (no detections), 9.6ms\n",
            "video 1/1 (frame 127/362) /content/Recording 2024-11-01 055741.mp4: 512x640 (no detections), 9.5ms\n",
            "video 1/1 (frame 128/362) /content/Recording 2024-11-01 055741.mp4: 512x640 (no detections), 11.1ms\n",
            "video 1/1 (frame 129/362) /content/Recording 2024-11-01 055741.mp4: 512x640 (no detections), 9.9ms\n",
            "video 1/1 (frame 130/362) /content/Recording 2024-11-01 055741.mp4: 512x640 (no detections), 9.8ms\n",
            "video 1/1 (frame 131/362) /content/Recording 2024-11-01 055741.mp4: 512x640 (no detections), 16.3ms\n",
            "video 1/1 (frame 132/362) /content/Recording 2024-11-01 055741.mp4: 512x640 (no detections), 11.0ms\n",
            "video 1/1 (frame 133/362) /content/Recording 2024-11-01 055741.mp4: 512x640 (no detections), 9.8ms\n",
            "video 1/1 (frame 134/362) /content/Recording 2024-11-01 055741.mp4: 512x640 (no detections), 10.3ms\n",
            "video 1/1 (frame 135/362) /content/Recording 2024-11-01 055741.mp4: 512x640 (no detections), 10.8ms\n",
            "video 1/1 (frame 136/362) /content/Recording 2024-11-01 055741.mp4: 512x640 (no detections), 9.8ms\n",
            "video 1/1 (frame 137/362) /content/Recording 2024-11-01 055741.mp4: 512x640 (no detections), 9.8ms\n",
            "video 1/1 (frame 138/362) /content/Recording 2024-11-01 055741.mp4: 512x640 (no detections), 9.6ms\n",
            "video 1/1 (frame 139/362) /content/Recording 2024-11-01 055741.mp4: 512x640 (no detections), 13.1ms\n",
            "video 1/1 (frame 140/362) /content/Recording 2024-11-01 055741.mp4: 512x640 (no detections), 11.0ms\n",
            "video 1/1 (frame 141/362) /content/Recording 2024-11-01 055741.mp4: 512x640 (no detections), 11.6ms\n",
            "video 1/1 (frame 142/362) /content/Recording 2024-11-01 055741.mp4: 512x640 (no detections), 9.5ms\n",
            "video 1/1 (frame 143/362) /content/Recording 2024-11-01 055741.mp4: 512x640 (no detections), 9.6ms\n",
            "video 1/1 (frame 144/362) /content/Recording 2024-11-01 055741.mp4: 512x640 (no detections), 10.7ms\n",
            "video 1/1 (frame 145/362) /content/Recording 2024-11-01 055741.mp4: 512x640 (no detections), 9.5ms\n",
            "video 1/1 (frame 146/362) /content/Recording 2024-11-01 055741.mp4: 512x640 (no detections), 9.5ms\n",
            "video 1/1 (frame 147/362) /content/Recording 2024-11-01 055741.mp4: 512x640 (no detections), 9.5ms\n",
            "video 1/1 (frame 148/362) /content/Recording 2024-11-01 055741.mp4: 512x640 1 Accident, 9.3ms\n",
            "video 1/1 (frame 149/362) /content/Recording 2024-11-01 055741.mp4: 512x640 (no detections), 10.6ms\n",
            "video 1/1 (frame 150/362) /content/Recording 2024-11-01 055741.mp4: 512x640 (no detections), 12.8ms\n",
            "video 1/1 (frame 151/362) /content/Recording 2024-11-01 055741.mp4: 512x640 (no detections), 9.4ms\n",
            "video 1/1 (frame 152/362) /content/Recording 2024-11-01 055741.mp4: 512x640 (no detections), 9.4ms\n",
            "video 1/1 (frame 153/362) /content/Recording 2024-11-01 055741.mp4: 512x640 (no detections), 10.9ms\n",
            "video 1/1 (frame 154/362) /content/Recording 2024-11-01 055741.mp4: 512x640 (no detections), 9.4ms\n",
            "video 1/1 (frame 155/362) /content/Recording 2024-11-01 055741.mp4: 512x640 (no detections), 9.2ms\n",
            "video 1/1 (frame 156/362) /content/Recording 2024-11-01 055741.mp4: 512x640 (no detections), 9.5ms\n",
            "video 1/1 (frame 157/362) /content/Recording 2024-11-01 055741.mp4: 512x640 (no detections), 9.4ms\n",
            "video 1/1 (frame 158/362) /content/Recording 2024-11-01 055741.mp4: 512x640 (no detections), 10.9ms\n",
            "video 1/1 (frame 159/362) /content/Recording 2024-11-01 055741.mp4: 512x640 (no detections), 9.2ms\n",
            "video 1/1 (frame 160/362) /content/Recording 2024-11-01 055741.mp4: 512x640 (no detections), 10.3ms\n",
            "video 1/1 (frame 161/362) /content/Recording 2024-11-01 055741.mp4: 512x640 (no detections), 9.3ms\n",
            "video 1/1 (frame 162/362) /content/Recording 2024-11-01 055741.mp4: 512x640 (no detections), 9.5ms\n",
            "video 1/1 (frame 163/362) /content/Recording 2024-11-01 055741.mp4: 512x640 (no detections), 9.2ms\n",
            "video 1/1 (frame 164/362) /content/Recording 2024-11-01 055741.mp4: 512x640 (no detections), 9.6ms\n",
            "video 1/1 (frame 165/362) /content/Recording 2024-11-01 055741.mp4: 512x640 (no detections), 15.5ms\n",
            "video 1/1 (frame 166/362) /content/Recording 2024-11-01 055741.mp4: 512x640 (no detections), 14.1ms\n",
            "video 1/1 (frame 167/362) /content/Recording 2024-11-01 055741.mp4: 512x640 (no detections), 13.5ms\n",
            "video 1/1 (frame 168/362) /content/Recording 2024-11-01 055741.mp4: 512x640 (no detections), 14.7ms\n",
            "video 1/1 (frame 169/362) /content/Recording 2024-11-01 055741.mp4: 512x640 (no detections), 14.1ms\n",
            "video 1/1 (frame 170/362) /content/Recording 2024-11-01 055741.mp4: 512x640 (no detections), 13.6ms\n",
            "video 1/1 (frame 171/362) /content/Recording 2024-11-01 055741.mp4: 512x640 (no detections), 14.1ms\n",
            "video 1/1 (frame 172/362) /content/Recording 2024-11-01 055741.mp4: 512x640 (no detections), 13.9ms\n",
            "video 1/1 (frame 173/362) /content/Recording 2024-11-01 055741.mp4: 512x640 (no detections), 17.4ms\n",
            "video 1/1 (frame 174/362) /content/Recording 2024-11-01 055741.mp4: 512x640 (no detections), 12.9ms\n",
            "video 1/1 (frame 175/362) /content/Recording 2024-11-01 055741.mp4: 512x640 (no detections), 9.7ms\n",
            "video 1/1 (frame 176/362) /content/Recording 2024-11-01 055741.mp4: 512x640 (no detections), 9.5ms\n",
            "video 1/1 (frame 177/362) /content/Recording 2024-11-01 055741.mp4: 512x640 (no detections), 9.7ms\n",
            "video 1/1 (frame 178/362) /content/Recording 2024-11-01 055741.mp4: 512x640 (no detections), 10.7ms\n",
            "video 1/1 (frame 179/362) /content/Recording 2024-11-01 055741.mp4: 512x640 (no detections), 13.0ms\n",
            "video 1/1 (frame 180/362) /content/Recording 2024-11-01 055741.mp4: 512x640 (no detections), 9.7ms\n",
            "video 1/1 (frame 181/362) /content/Recording 2024-11-01 055741.mp4: 512x640 (no detections), 9.6ms\n",
            "video 1/1 (frame 182/362) /content/Recording 2024-11-01 055741.mp4: 512x640 (no detections), 9.3ms\n",
            "video 1/1 (frame 183/362) /content/Recording 2024-11-01 055741.mp4: 512x640 (no detections), 12.1ms\n",
            "video 1/1 (frame 184/362) /content/Recording 2024-11-01 055741.mp4: 512x640 (no detections), 10.7ms\n",
            "video 1/1 (frame 185/362) /content/Recording 2024-11-01 055741.mp4: 512x640 (no detections), 15.5ms\n",
            "video 1/1 (frame 186/362) /content/Recording 2024-11-01 055741.mp4: 512x640 (no detections), 11.9ms\n",
            "video 1/1 (frame 187/362) /content/Recording 2024-11-01 055741.mp4: 512x640 (no detections), 9.9ms\n",
            "video 1/1 (frame 188/362) /content/Recording 2024-11-01 055741.mp4: 512x640 (no detections), 12.0ms\n",
            "video 1/1 (frame 189/362) /content/Recording 2024-11-01 055741.mp4: 512x640 (no detections), 9.5ms\n",
            "video 1/1 (frame 190/362) /content/Recording 2024-11-01 055741.mp4: 512x640 (no detections), 9.5ms\n",
            "video 1/1 (frame 191/362) /content/Recording 2024-11-01 055741.mp4: 512x640 (no detections), 9.4ms\n",
            "video 1/1 (frame 192/362) /content/Recording 2024-11-01 055741.mp4: 512x640 (no detections), 9.0ms\n",
            "video 1/1 (frame 193/362) /content/Recording 2024-11-01 055741.mp4: 512x640 (no detections), 10.5ms\n",
            "video 1/1 (frame 194/362) /content/Recording 2024-11-01 055741.mp4: 512x640 (no detections), 9.1ms\n",
            "video 1/1 (frame 195/362) /content/Recording 2024-11-01 055741.mp4: 512x640 (no detections), 9.1ms\n",
            "video 1/1 (frame 196/362) /content/Recording 2024-11-01 055741.mp4: 512x640 (no detections), 12.4ms\n",
            "video 1/1 (frame 197/362) /content/Recording 2024-11-01 055741.mp4: 512x640 (no detections), 9.6ms\n",
            "video 1/1 (frame 198/362) /content/Recording 2024-11-01 055741.mp4: 512x640 (no detections), 10.9ms\n",
            "video 1/1 (frame 199/362) /content/Recording 2024-11-01 055741.mp4: 512x640 (no detections), 9.2ms\n",
            "video 1/1 (frame 200/362) /content/Recording 2024-11-01 055741.mp4: 512x640 (no detections), 9.4ms\n",
            "video 1/1 (frame 201/362) /content/Recording 2024-11-01 055741.mp4: 512x640 (no detections), 9.2ms\n",
            "video 1/1 (frame 202/362) /content/Recording 2024-11-01 055741.mp4: 512x640 (no detections), 9.0ms\n",
            "video 1/1 (frame 203/362) /content/Recording 2024-11-01 055741.mp4: 512x640 (no detections), 13.9ms\n",
            "video 1/1 (frame 204/362) /content/Recording 2024-11-01 055741.mp4: 512x640 (no detections), 10.0ms\n",
            "video 1/1 (frame 205/362) /content/Recording 2024-11-01 055741.mp4: 512x640 (no detections), 10.2ms\n",
            "video 1/1 (frame 206/362) /content/Recording 2024-11-01 055741.mp4: 512x640 (no detections), 9.3ms\n",
            "video 1/1 (frame 207/362) /content/Recording 2024-11-01 055741.mp4: 512x640 (no detections), 10.5ms\n",
            "video 1/1 (frame 208/362) /content/Recording 2024-11-01 055741.mp4: 512x640 (no detections), 9.6ms\n",
            "video 1/1 (frame 209/362) /content/Recording 2024-11-01 055741.mp4: 512x640 (no detections), 10.3ms\n",
            "video 1/1 (frame 210/362) /content/Recording 2024-11-01 055741.mp4: 512x640 (no detections), 10.1ms\n",
            "video 1/1 (frame 211/362) /content/Recording 2024-11-01 055741.mp4: 512x640 (no detections), 9.3ms\n",
            "video 1/1 (frame 212/362) /content/Recording 2024-11-01 055741.mp4: 512x640 (no detections), 9.4ms\n",
            "video 1/1 (frame 213/362) /content/Recording 2024-11-01 055741.mp4: 512x640 (no detections), 10.7ms\n",
            "video 1/1 (frame 214/362) /content/Recording 2024-11-01 055741.mp4: 512x640 (no detections), 9.7ms\n",
            "video 1/1 (frame 215/362) /content/Recording 2024-11-01 055741.mp4: 512x640 (no detections), 9.2ms\n",
            "video 1/1 (frame 216/362) /content/Recording 2024-11-01 055741.mp4: 512x640 (no detections), 9.9ms\n",
            "video 1/1 (frame 217/362) /content/Recording 2024-11-01 055741.mp4: 512x640 (no detections), 9.6ms\n",
            "video 1/1 (frame 218/362) /content/Recording 2024-11-01 055741.mp4: 512x640 (no detections), 13.6ms\n",
            "video 1/1 (frame 219/362) /content/Recording 2024-11-01 055741.mp4: 512x640 (no detections), 16.7ms\n",
            "video 1/1 (frame 220/362) /content/Recording 2024-11-01 055741.mp4: 512x640 (no detections), 13.9ms\n",
            "video 1/1 (frame 221/362) /content/Recording 2024-11-01 055741.mp4: 512x640 1 Accident, 14.2ms\n",
            "video 1/1 (frame 222/362) /content/Recording 2024-11-01 055741.mp4: 512x640 1 Accident, 13.5ms\n",
            "video 1/1 (frame 223/362) /content/Recording 2024-11-01 055741.mp4: 512x640 1 Accident, 14.2ms\n",
            "video 1/1 (frame 224/362) /content/Recording 2024-11-01 055741.mp4: 512x640 1 Accident, 14.0ms\n",
            "video 1/1 (frame 225/362) /content/Recording 2024-11-01 055741.mp4: 512x640 (no detections), 14.7ms\n",
            "video 1/1 (frame 226/362) /content/Recording 2024-11-01 055741.mp4: 512x640 (no detections), 13.1ms\n",
            "video 1/1 (frame 227/362) /content/Recording 2024-11-01 055741.mp4: 512x640 1 Accident, 10.2ms\n",
            "video 1/1 (frame 228/362) /content/Recording 2024-11-01 055741.mp4: 512x640 1 Accident, 9.6ms\n",
            "video 1/1 (frame 229/362) /content/Recording 2024-11-01 055741.mp4: 512x640 1 Accident, 9.5ms\n",
            "video 1/1 (frame 230/362) /content/Recording 2024-11-01 055741.mp4: 512x640 (no detections), 10.0ms\n",
            "video 1/1 (frame 231/362) /content/Recording 2024-11-01 055741.mp4: 512x640 (no detections), 9.4ms\n",
            "video 1/1 (frame 232/362) /content/Recording 2024-11-01 055741.mp4: 512x640 (no detections), 10.5ms\n",
            "video 1/1 (frame 233/362) /content/Recording 2024-11-01 055741.mp4: 512x640 1 Accident, 9.3ms\n",
            "video 1/1 (frame 234/362) /content/Recording 2024-11-01 055741.mp4: 512x640 1 Accident, 9.2ms\n",
            "video 1/1 (frame 235/362) /content/Recording 2024-11-01 055741.mp4: 512x640 1 Accident, 9.8ms\n",
            "video 1/1 (frame 236/362) /content/Recording 2024-11-01 055741.mp4: 512x640 1 Accident, 9.1ms\n",
            "video 1/1 (frame 237/362) /content/Recording 2024-11-01 055741.mp4: 512x640 1 Accident, 12.7ms\n",
            "video 1/1 (frame 238/362) /content/Recording 2024-11-01 055741.mp4: 512x640 (no detections), 9.4ms\n",
            "video 1/1 (frame 239/362) /content/Recording 2024-11-01 055741.mp4: 512x640 1 Accident, 9.6ms\n",
            "video 1/1 (frame 240/362) /content/Recording 2024-11-01 055741.mp4: 512x640 1 Accident, 16.5ms\n",
            "video 1/1 (frame 241/362) /content/Recording 2024-11-01 055741.mp4: 512x640 1 Accident, 10.1ms\n",
            "video 1/1 (frame 242/362) /content/Recording 2024-11-01 055741.mp4: 512x640 1 Accident, 9.7ms\n",
            "video 1/1 (frame 243/362) /content/Recording 2024-11-01 055741.mp4: 512x640 (no detections), 10.1ms\n",
            "video 1/1 (frame 244/362) /content/Recording 2024-11-01 055741.mp4: 512x640 (no detections), 10.9ms\n",
            "video 1/1 (frame 245/362) /content/Recording 2024-11-01 055741.mp4: 512x640 1 Accident, 9.5ms\n",
            "video 1/1 (frame 246/362) /content/Recording 2024-11-01 055741.mp4: 512x640 1 Accident, 9.7ms\n",
            "video 1/1 (frame 247/362) /content/Recording 2024-11-01 055741.mp4: 512x640 1 Accident, 9.4ms\n",
            "video 1/1 (frame 248/362) /content/Recording 2024-11-01 055741.mp4: 512x640 1 Accident, 9.5ms\n",
            "video 1/1 (frame 249/362) /content/Recording 2024-11-01 055741.mp4: 512x640 1 Accident, 12.7ms\n",
            "video 1/1 (frame 250/362) /content/Recording 2024-11-01 055741.mp4: 512x640 1 Accident, 9.5ms\n",
            "video 1/1 (frame 251/362) /content/Recording 2024-11-01 055741.mp4: 512x640 1 Accident, 9.4ms\n",
            "video 1/1 (frame 252/362) /content/Recording 2024-11-01 055741.mp4: 512x640 1 Accident, 9.1ms\n",
            "video 1/1 (frame 253/362) /content/Recording 2024-11-01 055741.mp4: 512x640 1 Accident, 9.9ms\n",
            "video 1/1 (frame 254/362) /content/Recording 2024-11-01 055741.mp4: 512x640 (no detections), 11.4ms\n",
            "video 1/1 (frame 255/362) /content/Recording 2024-11-01 055741.mp4: 512x640 (no detections), 9.3ms\n",
            "video 1/1 (frame 256/362) /content/Recording 2024-11-01 055741.mp4: 512x640 (no detections), 11.6ms\n",
            "video 1/1 (frame 257/362) /content/Recording 2024-11-01 055741.mp4: 512x640 (no detections), 9.5ms\n",
            "video 1/1 (frame 258/362) /content/Recording 2024-11-01 055741.mp4: 512x640 (no detections), 9.5ms\n",
            "video 1/1 (frame 259/362) /content/Recording 2024-11-01 055741.mp4: 512x640 (no detections), 9.3ms\n",
            "video 1/1 (frame 260/362) /content/Recording 2024-11-01 055741.mp4: 512x640 (no detections), 9.1ms\n",
            "video 1/1 (frame 261/362) /content/Recording 2024-11-01 055741.mp4: 512x640 (no detections), 10.5ms\n",
            "video 1/1 (frame 262/362) /content/Recording 2024-11-01 055741.mp4: 512x640 (no detections), 9.7ms\n",
            "video 1/1 (frame 263/362) /content/Recording 2024-11-01 055741.mp4: 512x640 (no detections), 9.8ms\n",
            "video 1/1 (frame 264/362) /content/Recording 2024-11-01 055741.mp4: 512x640 1 Accident, 9.6ms\n",
            "video 1/1 (frame 265/362) /content/Recording 2024-11-01 055741.mp4: 512x640 (no detections), 9.5ms\n",
            "video 1/1 (frame 266/362) /content/Recording 2024-11-01 055741.mp4: 512x640 (no detections), 10.7ms\n",
            "video 1/1 (frame 267/362) /content/Recording 2024-11-01 055741.mp4: 512x640 (no detections), 9.3ms\n",
            "video 1/1 (frame 268/362) /content/Recording 2024-11-01 055741.mp4: 512x640 (no detections), 9.3ms\n",
            "video 1/1 (frame 269/362) /content/Recording 2024-11-01 055741.mp4: 512x640 (no detections), 9.8ms\n",
            "video 1/1 (frame 270/362) /content/Recording 2024-11-01 055741.mp4: 512x640 (no detections), 9.8ms\n",
            "video 1/1 (frame 271/362) /content/Recording 2024-11-01 055741.mp4: 512x640 (no detections), 14.8ms\n",
            "video 1/1 (frame 272/362) /content/Recording 2024-11-01 055741.mp4: 512x640 (no detections), 14.8ms\n",
            "video 1/1 (frame 273/362) /content/Recording 2024-11-01 055741.mp4: 512x640 (no detections), 17.8ms\n",
            "video 1/1 (frame 274/362) /content/Recording 2024-11-01 055741.mp4: 512x640 (no detections), 14.3ms\n",
            "video 1/1 (frame 275/362) /content/Recording 2024-11-01 055741.mp4: 512x640 (no detections), 15.2ms\n",
            "video 1/1 (frame 276/362) /content/Recording 2024-11-01 055741.mp4: 512x640 (no detections), 13.8ms\n",
            "video 1/1 (frame 277/362) /content/Recording 2024-11-01 055741.mp4: 512x640 1 Accident, 13.8ms\n",
            "video 1/1 (frame 278/362) /content/Recording 2024-11-01 055741.mp4: 512x640 1 Accident, 14.9ms\n",
            "video 1/1 (frame 279/362) /content/Recording 2024-11-01 055741.mp4: 512x640 (no detections), 15.4ms\n",
            "video 1/1 (frame 280/362) /content/Recording 2024-11-01 055741.mp4: 512x640 (no detections), 10.0ms\n",
            "video 1/1 (frame 281/362) /content/Recording 2024-11-01 055741.mp4: 512x640 (no detections), 9.6ms\n",
            "video 1/1 (frame 282/362) /content/Recording 2024-11-01 055741.mp4: 512x640 (no detections), 10.3ms\n",
            "video 1/1 (frame 283/362) /content/Recording 2024-11-01 055741.mp4: 512x640 (no detections), 10.5ms\n",
            "video 1/1 (frame 284/362) /content/Recording 2024-11-01 055741.mp4: 512x640 (no detections), 12.3ms\n",
            "video 1/1 (frame 285/362) /content/Recording 2024-11-01 055741.mp4: 512x640 (no detections), 9.2ms\n",
            "video 1/1 (frame 286/362) /content/Recording 2024-11-01 055741.mp4: 512x640 (no detections), 10.4ms\n",
            "video 1/1 (frame 287/362) /content/Recording 2024-11-01 055741.mp4: 512x640 (no detections), 10.5ms\n",
            "video 1/1 (frame 288/362) /content/Recording 2024-11-01 055741.mp4: 512x640 (no detections), 11.8ms\n",
            "video 1/1 (frame 289/362) /content/Recording 2024-11-01 055741.mp4: 512x640 (no detections), 10.4ms\n",
            "video 1/1 (frame 290/362) /content/Recording 2024-11-01 055741.mp4: 512x640 (no detections), 11.1ms\n",
            "video 1/1 (frame 291/362) /content/Recording 2024-11-01 055741.mp4: 512x640 (no detections), 10.5ms\n",
            "video 1/1 (frame 292/362) /content/Recording 2024-11-01 055741.mp4: 512x640 (no detections), 10.4ms\n",
            "video 1/1 (frame 293/362) /content/Recording 2024-11-01 055741.mp4: 512x640 (no detections), 9.4ms\n",
            "video 1/1 (frame 294/362) /content/Recording 2024-11-01 055741.mp4: 512x640 (no detections), 19.7ms\n",
            "video 1/1 (frame 295/362) /content/Recording 2024-11-01 055741.mp4: 512x640 (no detections), 9.8ms\n",
            "video 1/1 (frame 296/362) /content/Recording 2024-11-01 055741.mp4: 512x640 (no detections), 10.2ms\n",
            "video 1/1 (frame 297/362) /content/Recording 2024-11-01 055741.mp4: 512x640 (no detections), 10.0ms\n",
            "video 1/1 (frame 298/362) /content/Recording 2024-11-01 055741.mp4: 512x640 (no detections), 9.7ms\n",
            "video 1/1 (frame 299/362) /content/Recording 2024-11-01 055741.mp4: 512x640 (no detections), 9.2ms\n",
            "video 1/1 (frame 300/362) /content/Recording 2024-11-01 055741.mp4: 512x640 (no detections), 10.6ms\n",
            "video 1/1 (frame 301/362) /content/Recording 2024-11-01 055741.mp4: 512x640 (no detections), 9.4ms\n",
            "video 1/1 (frame 302/362) /content/Recording 2024-11-01 055741.mp4: 512x640 (no detections), 9.3ms\n",
            "video 1/1 (frame 303/362) /content/Recording 2024-11-01 055741.mp4: 512x640 (no detections), 9.0ms\n",
            "video 1/1 (frame 304/362) /content/Recording 2024-11-01 055741.mp4: 512x640 (no detections), 9.1ms\n",
            "video 1/1 (frame 305/362) /content/Recording 2024-11-01 055741.mp4: 512x640 (no detections), 11.1ms\n",
            "video 1/1 (frame 306/362) /content/Recording 2024-11-01 055741.mp4: 512x640 (no detections), 9.3ms\n",
            "video 1/1 (frame 307/362) /content/Recording 2024-11-01 055741.mp4: 512x640 (no detections), 9.1ms\n",
            "video 1/1 (frame 308/362) /content/Recording 2024-11-01 055741.mp4: 512x640 (no detections), 9.5ms\n",
            "video 1/1 (frame 309/362) /content/Recording 2024-11-01 055741.mp4: 512x640 (no detections), 8.9ms\n",
            "video 1/1 (frame 310/362) /content/Recording 2024-11-01 055741.mp4: 512x640 (no detections), 10.7ms\n",
            "video 1/1 (frame 311/362) /content/Recording 2024-11-01 055741.mp4: 512x640 (no detections), 9.4ms\n",
            "video 1/1 (frame 312/362) /content/Recording 2024-11-01 055741.mp4: 512x640 (no detections), 10.0ms\n",
            "video 1/1 (frame 313/362) /content/Recording 2024-11-01 055741.mp4: 512x640 (no detections), 9.2ms\n",
            "video 1/1 (frame 314/362) /content/Recording 2024-11-01 055741.mp4: 512x640 (no detections), 10.1ms\n",
            "video 1/1 (frame 315/362) /content/Recording 2024-11-01 055741.mp4: 512x640 (no detections), 10.8ms\n",
            "video 1/1 (frame 316/362) /content/Recording 2024-11-01 055741.mp4: 512x640 (no detections), 11.0ms\n",
            "video 1/1 (frame 317/362) /content/Recording 2024-11-01 055741.mp4: 512x640 (no detections), 9.5ms\n",
            "video 1/1 (frame 318/362) /content/Recording 2024-11-01 055741.mp4: 512x640 (no detections), 10.9ms\n",
            "video 1/1 (frame 319/362) /content/Recording 2024-11-01 055741.mp4: 512x640 (no detections), 10.8ms\n",
            "video 1/1 (frame 320/362) /content/Recording 2024-11-01 055741.mp4: 512x640 (no detections), 11.6ms\n",
            "video 1/1 (frame 321/362) /content/Recording 2024-11-01 055741.mp4: 512x640 (no detections), 9.5ms\n",
            "video 1/1 (frame 322/362) /content/Recording 2024-11-01 055741.mp4: 512x640 (no detections), 11.0ms\n",
            "video 1/1 (frame 323/362) /content/Recording 2024-11-01 055741.mp4: 512x640 (no detections), 10.0ms\n",
            "video 1/1 (frame 324/362) /content/Recording 2024-11-01 055741.mp4: 512x640 (no detections), 12.9ms\n",
            "video 1/1 (frame 325/362) /content/Recording 2024-11-01 055741.mp4: 512x640 (no detections), 14.0ms\n",
            "video 1/1 (frame 326/362) /content/Recording 2024-11-01 055741.mp4: 512x640 (no detections), 14.1ms\n",
            "video 1/1 (frame 327/362) /content/Recording 2024-11-01 055741.mp4: 512x640 (no detections), 14.4ms\n",
            "video 1/1 (frame 328/362) /content/Recording 2024-11-01 055741.mp4: 512x640 (no detections), 14.1ms\n",
            "video 1/1 (frame 329/362) /content/Recording 2024-11-01 055741.mp4: 512x640 (no detections), 14.2ms\n",
            "video 1/1 (frame 330/362) /content/Recording 2024-11-01 055741.mp4: 512x640 (no detections), 14.7ms\n",
            "video 1/1 (frame 331/362) /content/Recording 2024-11-01 055741.mp4: 512x640 (no detections), 13.5ms\n",
            "video 1/1 (frame 332/362) /content/Recording 2024-11-01 055741.mp4: 512x640 (no detections), 11.9ms\n",
            "video 1/1 (frame 333/362) /content/Recording 2024-11-01 055741.mp4: 512x640 (no detections), 9.7ms\n",
            "video 1/1 (frame 334/362) /content/Recording 2024-11-01 055741.mp4: 512x640 (no detections), 9.6ms\n",
            "video 1/1 (frame 335/362) /content/Recording 2024-11-01 055741.mp4: 512x640 (no detections), 9.5ms\n",
            "video 1/1 (frame 336/362) /content/Recording 2024-11-01 055741.mp4: 512x640 (no detections), 9.6ms\n",
            "video 1/1 (frame 337/362) /content/Recording 2024-11-01 055741.mp4: 512x640 (no detections), 22.2ms\n",
            "video 1/1 (frame 338/362) /content/Recording 2024-11-01 055741.mp4: 512x640 (no detections), 17.5ms\n",
            "video 1/1 (frame 339/362) /content/Recording 2024-11-01 055741.mp4: 512x640 (no detections), 13.5ms\n",
            "video 1/1 (frame 340/362) /content/Recording 2024-11-01 055741.mp4: 512x640 (no detections), 14.1ms\n",
            "video 1/1 (frame 341/362) /content/Recording 2024-11-01 055741.mp4: 512x640 (no detections), 10.2ms\n",
            "video 1/1 (frame 342/362) /content/Recording 2024-11-01 055741.mp4: 512x640 (no detections), 10.8ms\n",
            "video 1/1 (frame 343/362) /content/Recording 2024-11-01 055741.mp4: 512x640 (no detections), 9.3ms\n",
            "video 1/1 (frame 344/362) /content/Recording 2024-11-01 055741.mp4: 512x640 (no detections), 9.2ms\n",
            "video 1/1 (frame 345/362) /content/Recording 2024-11-01 055741.mp4: 512x640 (no detections), 12.2ms\n",
            "video 1/1 (frame 346/362) /content/Recording 2024-11-01 055741.mp4: 512x640 (no detections), 9.1ms\n",
            "video 1/1 (frame 347/362) /content/Recording 2024-11-01 055741.mp4: 512x640 (no detections), 16.8ms\n",
            "video 1/1 (frame 348/362) /content/Recording 2024-11-01 055741.mp4: 512x640 (no detections), 13.1ms\n",
            "video 1/1 (frame 349/362) /content/Recording 2024-11-01 055741.mp4: 512x640 (no detections), 9.6ms\n",
            "video 1/1 (frame 350/362) /content/Recording 2024-11-01 055741.mp4: 512x640 (no detections), 9.7ms\n",
            "video 1/1 (frame 351/362) /content/Recording 2024-11-01 055741.mp4: 512x640 (no detections), 11.2ms\n",
            "video 1/1 (frame 352/362) /content/Recording 2024-11-01 055741.mp4: 512x640 (no detections), 9.3ms\n",
            "video 1/1 (frame 353/362) /content/Recording 2024-11-01 055741.mp4: 512x640 (no detections), 9.2ms\n",
            "video 1/1 (frame 354/362) /content/Recording 2024-11-01 055741.mp4: 512x640 (no detections), 9.0ms\n",
            "video 1/1 (frame 355/362) /content/Recording 2024-11-01 055741.mp4: 512x640 (no detections), 9.4ms\n",
            "video 1/1 (frame 356/362) /content/Recording 2024-11-01 055741.mp4: 512x640 (no detections), 10.6ms\n",
            "video 1/1 (frame 357/362) /content/Recording 2024-11-01 055741.mp4: 512x640 (no detections), 9.0ms\n",
            "video 1/1 (frame 358/362) /content/Recording 2024-11-01 055741.mp4: 512x640 (no detections), 9.0ms\n",
            "video 1/1 (frame 359/362) /content/Recording 2024-11-01 055741.mp4: 512x640 (no detections), 9.8ms\n",
            "video 1/1 (frame 360/362) /content/Recording 2024-11-01 055741.mp4: 512x640 (no detections), 9.3ms\n",
            "video 1/1 (frame 361/362) /content/Recording 2024-11-01 055741.mp4: 512x640 (no detections), 13.6ms\n",
            "video 1/1 (frame 362/362) /content/Recording 2024-11-01 055741.mp4: 512x640 (no detections), 13.5ms\n",
            "Speed: 2.7ms preprocess, 11.1ms inference, 0.4ms postprocess per image at shape (1, 3, 512, 640)\n",
            "Results saved to \u001b[1mruns/detect/predict4\u001b[0m\n"
          ]
        }
      ]
    },
    {
      "cell_type": "code",
      "source": [
        "from ultralytics import YOLO\n",
        "\n",
        "# Load your YOLO model\n",
        "model = YOLO(\"/content/runs/detect/train/weights/best.pt\")\n",
        "\n",
        "# Export the model to TFLite format\n",
        "model.export(format=\"tflite\")  # This will create a TFLite model in the same directory as your .pt file\n"
      ],
      "metadata": {
        "colab": {
          "base_uri": "https://localhost:8080/",
          "height": 1000
        },
        "id": "kgCxbeZzeVVw",
        "outputId": "b7e3983d-3de5-45ae-e37f-ef0b8a5643ef"
      },
      "execution_count": null,
      "outputs": [
        {
          "output_type": "stream",
          "name": "stdout",
          "text": [
            "Ultralytics 8.3.34 🚀 Python-3.10.12 torch-2.5.1+cu121 CPU (Intel Xeon 2.30GHz)\n",
            "YOLOv8n summary (fused): 168 layers, 3,005,843 parameters, 0 gradients, 8.1 GFLOPs\n",
            "\n",
            "\u001b[34m\u001b[1mPyTorch:\u001b[0m starting from '/content/runs/detect/train/weights/best.pt' with input shape (1, 3, 640, 640) BCHW and output shape(s) (1, 5, 8400) (6.0 MB)\n",
            "\u001b[31m\u001b[1mrequirements:\u001b[0m Ultralytics requirements ['sng4onnx>=1.0.1', 'onnx_graphsurgeon>=0.3.26', 'onnx>=1.12.0', 'onnx2tf>1.17.5,<=1.22.3', 'onnxslim>=0.1.31', 'tflite_support', 'onnxruntime-gpu'] not found, attempting AutoUpdate...\n",
            "Looking in indexes: https://pypi.org/simple, https://pypi.ngc.nvidia.com\n",
            "Collecting sng4onnx>=1.0.1\n",
            "  Downloading sng4onnx-1.0.4-py3-none-any.whl.metadata (4.6 kB)\n",
            "Collecting onnx_graphsurgeon>=0.3.26\n",
            "  Downloading onnx_graphsurgeon-0.5.2-py2.py3-none-any.whl.metadata (8.1 kB)\n",
            "Collecting onnx>=1.12.0\n",
            "  Downloading onnx-1.17.0-cp310-cp310-manylinux_2_17_x86_64.manylinux2014_x86_64.whl.metadata (16 kB)\n",
            "Collecting onnx2tf<=1.22.3,>1.17.5\n",
            "  Downloading onnx2tf-1.22.3-py3-none-any.whl.metadata (136 kB)\n",
            "     ━━━━━━━━━━━━━━━━━━━━━━━━━━━━━━━━━━━━━━━━ 136.6/136.6 kB 5.2 MB/s eta 0:00:00\n",
            "Collecting onnxslim>=0.1.31\n",
            "  Downloading onnxslim-0.1.39-py3-none-any.whl.metadata (2.9 kB)\n",
            "Collecting tflite_support\n",
            "  Downloading tflite_support-0.4.4-cp310-cp310-manylinux2014_x86_64.whl.metadata (2.4 kB)\n",
            "Collecting onnxruntime-gpu\n",
            "  Downloading onnxruntime_gpu-1.20.0-cp310-cp310-manylinux_2_27_x86_64.manylinux_2_28_x86_64.whl.metadata (4.4 kB)\n",
            "Requirement already satisfied: numpy in /usr/local/lib/python3.10/dist-packages (from onnx_graphsurgeon>=0.3.26) (1.26.4)\n",
            "Requirement already satisfied: protobuf>=3.20.2 in /usr/local/lib/python3.10/dist-packages (from onnx>=1.12.0) (4.25.5)\n",
            "Requirement already satisfied: sympy in /usr/local/lib/python3.10/dist-packages (from onnxslim>=0.1.31) (1.13.1)\n",
            "Requirement already satisfied: packaging in /usr/local/lib/python3.10/dist-packages (from onnxslim>=0.1.31) (24.2)\n",
            "Requirement already satisfied: absl-py>=0.7.0 in /usr/local/lib/python3.10/dist-packages (from tflite_support) (1.4.0)\n",
            "Requirement already satisfied: flatbuffers>=2.0 in /usr/local/lib/python3.10/dist-packages (from tflite_support) (24.3.25)\n",
            "Collecting protobuf>=3.20.2 (from onnx>=1.12.0)\n",
            "  Downloading protobuf-3.20.3-cp310-cp310-manylinux_2_12_x86_64.manylinux2010_x86_64.whl.metadata (679 bytes)\n",
            "Collecting sounddevice>=0.4.4 (from tflite_support)\n",
            "  Downloading sounddevice-0.5.1-py3-none-any.whl.metadata (1.4 kB)\n",
            "Collecting pybind11>=2.6.0 (from tflite_support)\n",
            "  Downloading pybind11-2.13.6-py3-none-any.whl.metadata (9.5 kB)\n",
            "Collecting coloredlogs (from onnxruntime-gpu)\n",
            "  Downloading coloredlogs-15.0.1-py2.py3-none-any.whl.metadata (12 kB)\n",
            "Requirement already satisfied: CFFI>=1.0 in /usr/local/lib/python3.10/dist-packages (from sounddevice>=0.4.4->tflite_support) (1.17.1)\n",
            "Collecting humanfriendly>=9.1 (from coloredlogs->onnxruntime-gpu)\n",
            "  Downloading humanfriendly-10.0-py2.py3-none-any.whl.metadata (9.2 kB)\n",
            "Requirement already satisfied: mpmath<1.4,>=1.1.0 in /usr/local/lib/python3.10/dist-packages (from sympy->onnxslim>=0.1.31) (1.3.0)\n",
            "Requirement already satisfied: pycparser in /usr/local/lib/python3.10/dist-packages (from CFFI>=1.0->sounddevice>=0.4.4->tflite_support) (2.22)\n",
            "Downloading sng4onnx-1.0.4-py3-none-any.whl (5.9 kB)\n",
            "Downloading onnx_graphsurgeon-0.5.2-py2.py3-none-any.whl (56 kB)\n",
            "   ━━━━━━━━━━━━━━━━━━━━━━━━━━━━━━━━━━━━━━━━ 56.4/56.4 kB 177.0 MB/s eta 0:00:00\n",
            "Downloading onnx-1.17.0-cp310-cp310-manylinux_2_17_x86_64.manylinux2014_x86_64.whl (16.0 MB)\n",
            "   ━━━━━━━━━━━━━━━━━━━━━━━━━━━━━━━━━━━━━━━━ 16.0/16.0 MB 142.0 MB/s eta 0:00:00\n",
            "Downloading onnx2tf-1.22.3-py3-none-any.whl (435 kB)\n",
            "   ━━━━━━━━━━━━━━━━━━━━━━━━━━━━━━━━━━━━━━━━ 435.0/435.0 kB 228.7 MB/s eta 0:00:00\n",
            "Downloading onnxslim-0.1.39-py3-none-any.whl (141 kB)\n",
            "   ━━━━━━━━━━━━━━━━━━━━━━━━━━━━━━━━━━━━━━━━ 141.8/141.8 kB 196.4 MB/s eta 0:00:00\n",
            "Downloading tflite_support-0.4.4-cp310-cp310-manylinux2014_x86_64.whl (60.8 MB)\n",
            "   ━━━━━━━━━━━━━━━━━━━━━━━━━━━━━━━━━━━━━━━━ 60.8/60.8 MB 129.0 MB/s eta 0:00:00\n",
            "Downloading onnxruntime_gpu-1.20.0-cp310-cp310-manylinux_2_27_x86_64.manylinux_2_28_x86_64.whl (291.5 MB)\n",
            "   ━━━━━━━━━━━━━━━━━━━━━━━━━━━━━━━━━━━━━━━━ 291.5/291.5 MB 255.1 MB/s eta 0:00:00\n",
            "Downloading protobuf-3.20.3-cp310-cp310-manylinux_2_12_x86_64.manylinux2010_x86_64.whl (1.1 MB)\n",
            "   ━━━━━━━━━━━━━━━━━━━━━━━━━━━━━━━━━━━━━━━━ 1.1/1.1 MB 343.1 MB/s eta 0:00:00\n",
            "Downloading pybind11-2.13.6-py3-none-any.whl (243 kB)\n",
            "   ━━━━━━━━━━━━━━━━━━━━━━━━━━━━━━━━━━━━━━━━ 243.3/243.3 kB 349.1 MB/s eta 0:00:00\n",
            "Downloading sounddevice-0.5.1-py3-none-any.whl (32 kB)\n",
            "Downloading coloredlogs-15.0.1-py2.py3-none-any.whl (46 kB)\n",
            "   ━━━━━━━━━━━━━━━━━━━━━━━━━━━━━━━━━━━━━━━━ 46.0/46.0 kB 267.2 MB/s eta 0:00:00\n",
            "Downloading humanfriendly-10.0-py2.py3-none-any.whl (86 kB)\n",
            "   ━━━━━━━━━━━━━━━━━━━━━━━━━━━━━━━━━━━━━━━━ 86.8/86.8 kB 213.2 MB/s eta 0:00:00\n",
            "Installing collected packages: sng4onnx, pybind11, protobuf, onnx2tf, humanfriendly, sounddevice, onnx, coloredlogs, tflite_support, onnxslim, onnxruntime-gpu, onnx_graphsurgeon\n",
            "  Attempting uninstall: protobuf\n",
            "    Found existing installation: protobuf 4.25.5\n",
            "    Uninstalling protobuf-4.25.5:\n",
            "      Successfully uninstalled protobuf-4.25.5\n",
            "Successfully installed coloredlogs-15.0.1 humanfriendly-10.0 onnx-1.17.0 onnx2tf-1.22.3 onnx_graphsurgeon-0.5.2 onnxruntime-gpu-1.20.0 onnxslim-0.1.39 protobuf-3.20.3 pybind11-2.13.6 sng4onnx-1.0.4 sounddevice-0.5.1 tflite_support-0.4.4\n",
            "\n",
            "\u001b[31m\u001b[1mrequirements:\u001b[0m AutoUpdate success ✅ 26.0s, installed 7 packages: ['sng4onnx>=1.0.1', 'onnx_graphsurgeon>=0.3.26', 'onnx>=1.12.0', 'onnx2tf>1.17.5,<=1.22.3', 'onnxslim>=0.1.31', 'tflite_support', 'onnxruntime-gpu']\n",
            "\u001b[31m\u001b[1mrequirements:\u001b[0m ⚠️ \u001b[1mRestart runtime or rerun command for updates to take effect\u001b[0m\n",
            "\n",
            "\n",
            "\u001b[34m\u001b[1mTensorFlow SavedModel:\u001b[0m starting export with tensorflow 2.17.1...\n",
            "Downloading https://github.com/ultralytics/assets/releases/download/v8.3.0/calibration_image_sample_data_20x128x128x3_float32.npy.zip to 'calibration_image_sample_data_20x128x128x3_float32.npy.zip'...\n"
          ]
        },
        {
          "output_type": "stream",
          "name": "stderr",
          "text": [
            "100%|██████████| 1.11M/1.11M [00:00<00:00, 20.3MB/s]\n",
            "Unzipping calibration_image_sample_data_20x128x128x3_float32.npy.zip to /content/calibration_image_sample_data_20x128x128x3_float32.npy...: 100%|██████████| 1/1 [00:00<00:00, 46.90file/s]"
          ]
        },
        {
          "output_type": "stream",
          "name": "stdout",
          "text": [
            "\n",
            "\u001b[34m\u001b[1mONNX:\u001b[0m starting export with onnx 1.17.0 opset 19...\n"
          ]
        },
        {
          "output_type": "stream",
          "name": "stderr",
          "text": [
            "\n"
          ]
        },
        {
          "output_type": "stream",
          "name": "stdout",
          "text": [
            "\u001b[34m\u001b[1mONNX:\u001b[0m slimming with onnxslim 0.1.39...\n",
            "\u001b[34m\u001b[1mONNX:\u001b[0m export success ✅ 1.3s, saved as '/content/runs/detect/train/weights/best.onnx' (11.8 MB)\n",
            "\u001b[34m\u001b[1mTensorFlow SavedModel:\u001b[0m starting TFLite export with onnx2tf 1.22.3...\n",
            "\u001b[34m\u001b[1mTensorFlow SavedModel:\u001b[0m export success ✅ 41.9s, saved as '/content/runs/detect/train/weights/best_saved_model' (29.5 MB)\n",
            "\n",
            "\u001b[34m\u001b[1mTensorFlow Lite:\u001b[0m starting export with tensorflow 2.17.1...\n",
            "\u001b[34m\u001b[1mTensorFlow Lite:\u001b[0m export success ✅ 0.0s, saved as '/content/runs/detect/train/weights/best_saved_model/best_float32.tflite' (11.7 MB)\n",
            "\n",
            "Export complete (43.7s)\n",
            "Results saved to \u001b[1m/content/runs/detect/train/weights\u001b[0m\n",
            "Predict:         yolo predict task=detect model=/content/runs/detect/train/weights/best_saved_model/best_float32.tflite imgsz=640  \n",
            "Validate:        yolo val task=detect model=/content/runs/detect/train/weights/best_saved_model/best_float32.tflite imgsz=640 data=/content/data.yaml  \n",
            "Visualize:       https://netron.app\n"
          ]
        },
        {
          "output_type": "execute_result",
          "data": {
            "text/plain": [
              "'/content/runs/detect/train/weights/best_saved_model/best_float32.tflite'"
            ],
            "application/vnd.google.colaboratory.intrinsic+json": {
              "type": "string"
            }
          },
          "metadata": {},
          "execution_count": 7
        }
      ]
    }
  ]
}